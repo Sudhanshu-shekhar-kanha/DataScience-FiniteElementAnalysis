{
 "cells": [
  {
   "cell_type": "markdown",
   "metadata": {},
   "source": [
    "# Convolution Neural Network\n",
    "### Assignment 3 - Task-2 DL6910\n",
    "**Image classification using a CNN with CL1, PL1, CL2 and PL2 as the layers. Use kernels of size 3x3, stride of 1 in the convolutional layers. Use mean pooling with a kernel size of 2x2 and stride of 2 in the pooling layers. Use 4 feature maps in CL1 and 16 feature maps in CL2.**\n",
    "* CL - Convolution Layer\n",
    "* PL - Pooling Layer "
   ]
  },
  {
   "cell_type": "markdown",
   "metadata": {},
   "source": [
    "### Importing Libraries"
   ]
  },
  {
   "cell_type": "code",
   "execution_count": 2,
   "metadata": {
    "colab": {},
    "colab_type": "code",
    "id": "wZFcHrb7pSAg"
   },
   "outputs": [],
   "source": [
    "import numpy as np\n",
    "import pandas as pd\n",
    "import matplotlib.pyplot as plt\n",
    "%matplotlib inline"
   ]
  },
  {
   "cell_type": "code",
   "execution_count": 3,
   "metadata": {
    "colab": {},
    "colab_type": "code",
    "id": "f1-wHcBZpSAu"
   },
   "outputs": [],
   "source": [
    "import os\n",
    "import cv2"
   ]
  },
  {
   "cell_type": "code",
   "execution_count": 4,
   "metadata": {
    "colab": {
     "base_uri": "https://localhost:8080/",
     "height": 36
    },
    "colab_type": "code",
    "id": "-Z-M8-f2pSA8",
    "outputId": "2d530cb5-fc3c-4369-f8dc-23a2482f8ad0"
   },
   "outputs": [
    {
     "name": "stdout",
     "output_type": "stream",
     "text": [
      "4.1.2\n"
     ]
    }
   ],
   "source": [
    "print(cv2.__version__)"
   ]
  },
  {
   "cell_type": "markdown",
   "metadata": {},
   "source": [
    "### Data"
   ]
  },
  {
   "cell_type": "code",
   "execution_count": 5,
   "metadata": {
    "colab": {
     "base_uri": "https://localhost:8080/",
     "height": 1000
    },
    "colab_type": "code",
    "id": "PrQsZNTLrGZm",
    "outputId": "2b6e7dc3-f82a-4a27-bc37-73cfcc3f7b9f"
   },
   "outputs": [
    {
     "name": "stdout",
     "output_type": "stream",
     "text": [
      "\n",
      "UNRAR 5.50 freeware      Copyright (c) 1993-2017 Alexander Roshal\n",
      "\n",
      "\n",
      "Extracting from /content/Used data set - Copy.rar\n",
      "\n",
      "Creating    Used data set - Copy                                      OK\n",
      "Creating    Used data set - Copy/002.laysan albatross                 OK\n",
      "Extracting  Used data set - Copy/002.laysan albatross/Laysan_Albatross_0001_545.jpg     \b\b\b\b  0%\b\b\b\b\b  OK \n",
      "Extracting  Used data set - Copy/002.laysan albatross/Laysan_Albatross_0002_1027.jpg     \b\b\b\b  0%\b\b\b\b\b  OK \n",
      "Extracting  Used data set - Copy/002.laysan albatross/Laysan_Albatross_0003_1033.jpg     \b\b\b\b  0%\b\b\b\b\b  OK \n",
      "Extracting  Used data set - Copy/002.laysan albatross/Laysan_Albatross_0004_930.jpg     \b\b\b\b  0%\b\b\b\b\b  OK \n",
      "Extracting  Used data set - Copy/002.laysan albatross/Laysan_Albatross_0005_565.jpg     \b\b\b\b  1%\b\b\b\b\b  OK \n",
      "Extracting  Used data set - Copy/002.laysan albatross/Laysan_Albatross_0006_702.jpg     \b\b\b\b  1%\b\b\b\b\b  OK \n",
      "Extracting  Used data set - Copy/002.laysan albatross/Laysan_Albatross_0012_696.jpg     \b\b\b\b  1%\b\b\b\b\b  OK \n",
      "Extracting  Used data set - Copy/002.laysan albatross/Laysan_Albatross_0013_910.jpg     \b\b\b\b  1%\b\b\b\b\b  OK \n",
      "Extracting  Used data set - Copy/002.laysan albatross/Laysan_Albatross_0017_614.jpg     \b\b\b\b  2%\b\b\b\b\b  OK \n",
      "Extracting  Used data set - Copy/002.laysan albatross/Laysan_Albatross_0018_492.jpg     \b\b\b\b  2%\b\b\b\b\b  OK \n",
      "Extracting  Used data set - Copy/002.laysan albatross/Laysan_Albatross_0021_737.jpg     \b\b\b\b  2%\b\b\b\b\b  OK \n",
      "Extracting  Used data set - Copy/002.laysan albatross/Laysan_Albatross_0023_1059.jpg     \b\b\b\b  2%\b\b\b\b\b  OK \n",
      "Extracting  Used data set - Copy/002.laysan albatross/Laysan_Albatross_0025_571.jpg     \b\b\b\b  3%\b\b\b\b\b  OK \n",
      "Extracting  Used data set - Copy/002.laysan albatross/Laysan_Albatross_0028_643.jpg     \b\b\b\b  3%\b\b\b\b\b  OK \n",
      "Extracting  Used data set - Copy/002.laysan albatross/Laysan_Albatross_0029_482.jpg     \b\b\b\b  3%\b\b\b\b\b  OK \n",
      "Extracting  Used data set - Copy/002.laysan albatross/Laysan_Albatross_0033_658.jpg     \b\b\b\b  3%\b\b\b\b\b  OK \n",
      "Extracting  Used data set - Copy/002.laysan albatross/Laysan_Albatross_0034_628.jpg     \b\b\b\b  4%\b\b\b\b\b  OK \n",
      "Extracting  Used data set - Copy/002.laysan albatross/Laysan_Albatross_0035_876.jpg     \b\b\b\b  4%\b\b\b\b\b  OK \n",
      "Extracting  Used data set - Copy/002.laysan albatross/Laysan_Albatross_0037_699.jpg     \b\b\b\b  4%\b\b\b\b\b  OK \n",
      "Extracting  Used data set - Copy/002.laysan albatross/Laysan_Albatross_0039_924.jpg     \b\b\b\b  4%\b\b\b\b\b  OK \n",
      "Extracting  Used data set - Copy/002.laysan albatross/Laysan_Albatross_0040_472.jpg     \b\b\b\b  5%\b\b\b\b\b  OK \n",
      "Extracting  Used data set - Copy/002.laysan albatross/Laysan_Albatross_0042_801.jpg     \b\b\b\b  5%\b\b\b\b\b  OK \n",
      "Extracting  Used data set - Copy/002.laysan albatross/Laysan_Albatross_0044_784.jpg     \b\b\b\b  5%\b\b\b\b\b  OK \n",
      "Extracting  Used data set - Copy/002.laysan albatross/Laysan_Albatross_0047_619.jpg     \b\b\b\b  5%\b\b\b\b\b  OK \n",
      "Extracting  Used data set - Copy/002.laysan albatross/Laysan_Albatross_0049_918.jpg     \b\b\b\b  5%\b\b\b\b\b  OK \n",
      "Extracting  Used data set - Copy/002.laysan albatross/Laysan_Albatross_0050_870.jpg     \b\b\b\b  5%\b\b\b\b\b  OK \n",
      "Extracting  Used data set - Copy/002.laysan albatross/Laysan_Albatross_0051_1020.jpg     \b\b\b\b  6%\b\b\b\b\b  OK \n",
      "Extracting  Used data set - Copy/002.laysan albatross/Laysan_Albatross_0053_543.jpg     \b\b\b\b  6%\b\b\b\b\b  OK \n",
      "Extracting  Used data set - Copy/002.laysan albatross/Laysan_Albatross_0055_570.jpg     \b\b\b\b  6%\b\b\b\b\b  OK \n",
      "Extracting  Used data set - Copy/002.laysan albatross/Laysan_Albatross_0056_500.jpg     \b\b\b\b  6%\b\b\b\b\b  OK \n",
      "Extracting  Used data set - Copy/002.laysan albatross/Laysan_Albatross_0058_637.jpg     \b\b\b\b  7%\b\b\b\b\b  OK \n",
      "Extracting  Used data set - Copy/002.laysan albatross/Laysan_Albatross_0059_488.jpg     \b\b\b\b  7%\b\b\b\b\b  OK \n",
      "Extracting  Used data set - Copy/002.laysan albatross/Laysan_Albatross_0060_777.jpg     \b\b\b\b  7%\b\b\b\b\b  OK \n",
      "Extracting  Used data set - Copy/002.laysan albatross/Laysan_Albatross_0061_563.jpg     \b\b\b\b  7%\b\b\b\b\b  OK \n",
      "Extracting  Used data set - Copy/002.laysan albatross/Laysan_Albatross_0064_674.jpg     \b\b\b\b  8%\b\b\b\b\b  OK \n",
      "Extracting  Used data set - Copy/002.laysan albatross/Laysan_Albatross_0065_809.jpg     \b\b\b\b  8%\b\b\b\b\b  OK \n",
      "Extracting  Used data set - Copy/002.laysan albatross/Laysan_Albatross_0068_726.jpg     \b\b\b\b  8%\b\b\b\b\b  OK \n",
      "Extracting  Used data set - Copy/002.laysan albatross/Laysan_Albatross_0070_788.jpg     \b\b\b\b  8%\b\b\b\b\b  OK \n",
      "Extracting  Used data set - Copy/002.laysan albatross/Laysan_Albatross_0071_792.jpg     \b\b\b\b  8%\b\b\b\b\b  OK \n",
      "Extracting  Used data set - Copy/002.laysan albatross/Laysan_Albatross_0073_927.jpg     \b\b\b\b  8%\b\b\b\b\b  OK \n",
      "Extracting  Used data set - Copy/002.laysan albatross/Laysan_Albatross_0075_668.jpg     \b\b\b\b  9%\b\b\b\b\b  OK \n",
      "Extracting  Used data set - Copy/002.laysan albatross/Laysan_Albatross_0076_671.jpg     \b\b\b\b  9%\b\b\b\b\b  OK \n",
      "Extracting  Used data set - Copy/002.laysan albatross/Laysan_Albatross_0079_506.jpg     \b\b\b\b  9%\b\b\b\b\b  OK \n",
      "Extracting  Used data set - Copy/002.laysan albatross/Laysan_Albatross_0080_821.jpg     \b\b\b\b  9%\b\b\b\b\b  OK \n",
      "Extracting  Used data set - Copy/002.laysan albatross/Laysan_Albatross_0081_800.jpg     \b\b\b\b 10%\b\b\b\b\b  OK \n",
      "Extracting  Used data set - Copy/002.laysan albatross/Laysan_Albatross_0082_524.jpg     \b\b\b\b 10%\b\b\b\b\b  OK \n",
      "Extracting  Used data set - Copy/002.laysan albatross/Laysan_Albatross_0083_756.jpg     \b\b\b\b 10%\b\b\b\b\b  OK \n",
      "Extracting  Used data set - Copy/002.laysan albatross/Laysan_Albatross_0085_564.jpg     \b\b\b\b 10%\b\b\b\b\b  OK \n",
      "Extracting  Used data set - Copy/002.laysan albatross/Laysan_Albatross_0088_883.jpg     \b\b\b\b 10%\b\b\b\b\b  OK \n",
      "Extracting  Used data set - Copy/002.laysan albatross/Laysan_Albatross_0091_602.jpg     \b\b\b\b 11%\b\b\b\b\b  OK \n",
      "Extracting  Used data set - Copy/002.laysan albatross/Laysan_Albatross_0092_834.jpg     \b\b\b\b 11%\b\b\b\b\b  OK \n",
      "Extracting  Used data set - Copy/002.laysan albatross/Laysan_Albatross_0093_725.jpg     \b\b\b\b 11%\b\b\b\b\b  OK \n",
      "Extracting  Used data set - Copy/002.laysan albatross/Laysan_Albatross_0094_1013.jpg     \b\b\b\b 11%\b\b\b\b\b  OK \n",
      "Extracting  Used data set - Copy/002.laysan albatross/Laysan_Albatross_0096_673.jpg     \b\b\b\b 11%\b\b\b\b\b  OK \n",
      "Extracting  Used data set - Copy/002.laysan albatross/Laysan_Albatross_0098_621.jpg     \b\b\b\b 12%\b\b\b\b\b  OK \n",
      "Extracting  Used data set - Copy/002.laysan albatross/Laysan_Albatross_0099_869.jpg     \b\b\b\b 12%\b\b\b\b\b  OK \n",
      "Extracting  Used data set - Copy/002.laysan albatross/Laysan_Albatross_0100_735.jpg     \b\b\b\b 12%\b\b\b\b\b  OK \n",
      "Extracting  Used data set - Copy/002.laysan albatross/Laysan_Albatross_0102_611.jpg     \b\b\b\b 12%\b\b\b\b\b  OK \n",
      "Extracting  Used data set - Copy/002.laysan albatross/Laysan_Albatross_0103_504.jpg     \b\b\b\b 13%\b\b\b\b\b  OK \n",
      "Extracting  Used data set - Copy/002.laysan albatross/Laysan_Albatross_0104_630.jpg     \b\b\b\b 13%\b\b\b\b\b  OK \n",
      "Creating    Used data set - Copy/010.red winged blackbird             OK\n",
      "Extracting  Used data set - Copy/010.red winged blackbird/Red_Winged_Blackbird_0001_3695.jpg     \b\b\b\b 13%\b\b\b\b\b  OK \n",
      "Extracting  Used data set - Copy/010.red winged blackbird/Red_Winged_Blackbird_0005_5636.jpg     \b\b\b\b 13%\b\b\b\b\b  OK \n",
      "Extracting  Used data set - Copy/010.red winged blackbird/Red_Winged_Blackbird_0006_6005.jpg     \b\b\b\b 14%\b\b\b\b\b  OK \n",
      "Extracting  Used data set - Copy/010.red winged blackbird/Red_Winged_Blackbird_0007_3706.jpg     \b\b\b\b 14%\b\b\b\b\b  OK \n",
      "Extracting  Used data set - Copy/010.red winged blackbird/Red_Winged_Blackbird_0009_5841.jpg     \b\b\b\b 14%\b\b\b\b\b  OK \n",
      "Extracting  Used data set - Copy/010.red winged blackbird/Red_Winged_Blackbird_0010_6386.jpg     \b\b\b\b 14%\b\b\b\b\b  OK \n",
      "Extracting  Used data set - Copy/010.red winged blackbird/Red_Winged_Blackbird_0011_5845.jpg     \b\b\b\b 15%\b\b\b\b\b  OK \n",
      "Extracting  Used data set - Copy/010.red winged blackbird/Red_Winged_Blackbird_0012_6015.jpg     \b\b\b\b 15%\b\b\b\b\b  OK \n",
      "Extracting  Used data set - Copy/010.red winged blackbird/Red_Winged_Blackbird_0013_5762.jpg     \b\b\b\b 15%\b\b\b\b\b  OK \n",
      "Extracting  Used data set - Copy/010.red winged blackbird/Red_Winged_Blackbird_0014_3761.jpg     \b\b\b\b 15%\b\b\b\b\b  OK \n",
      "Extracting  Used data set - Copy/010.red winged blackbird/Red_Winged_Blackbird_0017_4116.jpg     \b\b\b\b 16%\b\b\b\b\b  OK \n",
      "Extracting  Used data set - Copy/010.red winged blackbird/Red_Winged_Blackbird_0020_4050.jpg     \b\b\b\b 16%\b\b\b\b\b  OK \n",
      "Extracting  Used data set - Copy/010.red winged blackbird/Red_Winged_Blackbird_0021_3767.jpg     \b\b\b\b 16%\b\b\b\b\b  OK \n",
      "Extracting  Used data set - Copy/010.red winged blackbird/Red_Winged_Blackbird_0022_4483.jpg     \b\b\b\b 16%\b\b\b\b\b  OK \n",
      "Extracting  Used data set - Copy/010.red winged blackbird/Red_Winged_Blackbird_0023_5257.jpg     \b\b\b\b 16%\b\b\b\b\b  OK \n",
      "Extracting  Used data set - Copy/010.red winged blackbird/Red_Winged_Blackbird_0024_4180.jpg     \b\b\b\b 17%\b\b\b\b\b  OK \n",
      "Extracting  Used data set - Copy/010.red winged blackbird/Red_Winged_Blackbird_0025_5342.jpg     \b\b\b\b 17%\b\b\b\b\b  OK \n",
      "Extracting  Used data set - Copy/010.red winged blackbird/Red_Winged_Blackbird_0027_4123.jpg     \b\b\b\b 17%\b\b\b\b\b  OK \n",
      "Extracting  Used data set - Copy/010.red winged blackbird/Red_Winged_Blackbird_0028_4709.jpg     \b\b\b\b 18%\b\b\b\b\b  OK \n",
      "Extracting  Used data set - Copy/010.red winged blackbird/Red_Winged_Blackbird_0029_4804.jpg     \b\b\b\b 18%\b\b\b\b\b  OK \n",
      "Extracting  Used data set - Copy/010.red winged blackbird/Red_Winged_Blackbird_0032_4004.jpg     \b\b\b\b 18%\b\b\b\b\b  OK \n",
      "Extracting  Used data set - Copy/010.red winged blackbird/Red_Winged_Blackbird_0039_4285.jpg     \b\b\b\b 18%\b\b\b\b\b  OK \n",
      "Extracting  Used data set - Copy/010.red winged blackbird/Red_Winged_Blackbird_0040_4522.jpg     \b\b\b\b 19%\b\b\b\b\b  OK \n",
      "Extracting  Used data set - Copy/010.red winged blackbird/Red_Winged_Blackbird_0042_3635.jpg     \b\b\b\b 19%\b\b\b\b\b  OK \n",
      "Extracting  Used data set - Copy/010.red winged blackbird/Red_Winged_Blackbird_0044_5621.jpg     \b\b\b\b 19%\b\b\b\b\b  OK \n",
      "Extracting  Used data set - Copy/010.red winged blackbird/Red_Winged_Blackbird_0045_4526.jpg     \b\b\b\b 19%\b\b\b\b\b  OK \n",
      "Extracting  Used data set - Copy/010.red winged blackbird/Red_Winged_Blackbird_0046_4242.jpg     \b\b\b\b 19%\b\b\b\b\b  OK \n",
      "Extracting  Used data set - Copy/010.red winged blackbird/Red_Winged_Blackbird_0047_3802.jpg     \b\b\b\b 20%\b\b\b\b\b  OK \n",
      "Extracting  Used data set - Copy/010.red winged blackbird/Red_Winged_Blackbird_0049_5598.jpg     \b\b\b\b 20%\b\b\b\b\b  OK \n",
      "Extracting  Used data set - Copy/010.red winged blackbird/Red_Winged_Blackbird_0052_5575.jpg     \b\b\b\b 20%\b\b\b\b\b  OK \n",
      "Extracting  Used data set - Copy/010.red winged blackbird/Red_Winged_Blackbird_0053_4072.jpg     \b\b\b\b 21%\b\b\b\b\b  OK \n",
      "Extracting  Used data set - Copy/010.red winged blackbird/Red_Winged_Blackbird_0054_4625.jpg     \b\b\b\b 21%\b\b\b\b\b  OK \n",
      "Extracting  Used data set - Copy/010.red winged blackbird/Red_Winged_Blackbird_0055_4345.jpg     \b\b\b\b 21%\b\b\b\b\b  OK \n",
      "Extracting  Used data set - Copy/010.red winged blackbird/Red_Winged_Blackbird_0058_4141.jpg     \b\b\b\b 21%\b\b\b\b\b  OK \n",
      "Extracting  Used data set - Copy/010.red winged blackbird/Red_Winged_Blackbird_0059_4612.jpg     \b\b\b\b 21%\b\b\b\b\b  OK \n",
      "Extracting  Used data set - Copy/010.red winged blackbird/Red_Winged_Blackbird_0060_4688.jpg     \b\b\b\b 21%\b\b\b\b\b  OK \n",
      "Extracting  Used data set - Copy/010.red winged blackbird/Red_Winged_Blackbird_0061_4196.jpg     \b\b\b\b 22%\b\b\b\b\b  OK \n",
      "Extracting  Used data set - Copy/010.red winged blackbird/Red_Winged_Blackbird_0062_4233.jpg     \b\b\b\b 22%\b\b\b\b\b  OK \n",
      "Extracting  Used data set - Copy/010.red winged blackbird/Red_Winged_Blackbird_0064_4936.jpg     \b\b\b\b 22%\b\b\b\b\b  OK \n",
      "Extracting  Used data set - Copy/010.red winged blackbird/Red_Winged_Blackbird_0065_4026.jpg     \b\b\b\b 22%\b\b\b\b\b  OK \n",
      "Extracting  Used data set - Copy/010.red winged blackbird/Red_Winged_Blackbird_0066_5070.jpg     \b\b\b\b 23%\b\b\b\b\b  OK \n",
      "Extracting  Used data set - Copy/010.red winged blackbird/Red_Winged_Blackbird_0071_3988.jpg     \b\b\b\b 23%\b\b\b\b\b  OK \n",
      "Extracting  Used data set - Copy/010.red winged blackbird/Red_Winged_Blackbird_0072_4338.jpg     \b\b\b\b 23%\b\b\b\b\b  OK \n",
      "Extracting  Used data set - Copy/010.red winged blackbird/Red_Winged_Blackbird_0074_4146.jpg     \b\b\b\b 23%\b\b\b\b\b  OK \n",
      "Extracting  Used data set - Copy/010.red winged blackbird/Red_Winged_Blackbird_0075_4953.jpg     \b\b\b\b 24%\b\b\b\b\b  OK \n",
      "Extracting  Used data set - Copy/010.red winged blackbird/Red_Winged_Blackbird_0078_5372.jpg     \b\b\b\b 24%\b\b\b\b\b  OK \n",
      "Extracting  Used data set - Copy/010.red winged blackbird/Red_Winged_Blackbird_0079_4527.jpg     \b\b\b\b 24%\b\b\b\b\b  OK \n",
      "Extracting  Used data set - Copy/010.red winged blackbird/Red_Winged_Blackbird_0081_6081.jpg     \b\b\b\b 24%\b\b\b\b\b  OK \n",
      "Extracting  Used data set - Copy/010.red winged blackbird/Red_Winged_Blackbird_0085_5846.jpg     \b\b\b\b 25%\b\b\b\b\b  OK \n",
      "Extracting  Used data set - Copy/010.red winged blackbird/Red_Winged_Blackbird_0088_4007.jpg     \b\b\b\b 25%\b\b\b\b\b  OK \n",
      "Extracting  Used data set - Copy/010.red winged blackbird/Red_Winged_Blackbird_0089_4188.jpg     \b\b\b\b 25%\b\b\b\b\b  OK \n",
      "Extracting  Used data set - Copy/010.red winged blackbird/Red_Winged_Blackbird_0091_4096.jpg     \b\b\b\b 25%\b\b\b\b\b  OK \n",
      "Extracting  Used data set - Copy/010.red winged blackbird/Red_Winged_Blackbird_0093_5948.jpg     \b\b\b\b 25%\b\b\b\b\b  OK \n",
      "Extracting  Used data set - Copy/010.red winged blackbird/Red_Winged_Blackbird_0094_5856.jpg     \b\b\b\b 26%\b\b\b\b\b  OK \n",
      "Extracting  Used data set - Copy/010.red winged blackbird/Red_Winged_Blackbird_0096_5019.jpg     \b\b\b\b 26%\b\b\b\b\b  OK \n",
      "Extracting  Used data set - Copy/010.red winged blackbird/Red_Winged_Blackbird_0099_3985.jpg     \b\b\b\b 26%\b\b\b\b\b  OK \n",
      "Extracting  Used data set - Copy/010.red winged blackbird/Red_Winged_Blackbird_0101_6244.jpg     \b\b\b\b 26%\b\b\b\b\b  OK \n",
      "Extracting  Used data set - Copy/010.red winged blackbird/Red_Winged_Blackbird_0104_3918.jpg     \b\b\b\b 26%\b\b\b\b\b  OK \n",
      "Extracting  Used data set - Copy/010.red winged blackbird/Red_Winged_Blackbird_0105_4842.jpg     \b\b\b\b 27%\b\b\b\b\b  OK \n",
      "Extracting  Used data set - Copy/010.red winged blackbird/Red_Winged_Blackbird_0109_4454.jpg     \b\b\b\b 27%\b\b\b\b\b  OK \n",
      "Creating    Used data set - Copy/041.scissor tailed flycatcher        OK\n",
      "Extracting  Used data set - Copy/041.scissor tailed flycatcher/Scissor_Tailed_Flycatcher_0002_41762.jpg     \b\b\b\b 27%\b\b\b\b\b  OK \n",
      "Extracting  Used data set - Copy/041.scissor tailed flycatcher/Scissor_Tailed_Flycatcher_0003_41849.jpg     \b\b\b\b 27%\b\b\b\b\b  OK \n",
      "Extracting  Used data set - Copy/041.scissor tailed flycatcher/Scissor_Tailed_Flycatcher_0004_41643.jpg     \b\b\b\b 28%\b\b\b\b\b  OK \n",
      "Extracting  Used data set - Copy/041.scissor tailed flycatcher/Scissor_Tailed_Flycatcher_0005_41727.jpg     \b\b\b\b 28%\b\b\b\b\b  OK \n",
      "Extracting  Used data set - Copy/041.scissor tailed flycatcher/Scissor_Tailed_Flycatcher_0006_41601.jpg     \b\b\b\b 28%\b\b\b\b\b  OK \n",
      "Extracting  Used data set - Copy/041.scissor tailed flycatcher/Scissor_Tailed_Flycatcher_0007_41917.jpg     \b\b\b\b 28%\b\b\b\b\b  OK \n",
      "Extracting  Used data set - Copy/041.scissor tailed flycatcher/Scissor_Tailed_Flycatcher_0008_41670.jpg     \b\b\b\b 28%\b\b\b\b\b  OK \n",
      "Extracting  Used data set - Copy/041.scissor tailed flycatcher/Scissor_Tailed_Flycatcher_0012_41853.jpg     \b\b\b\b 29%\b\b\b\b\b  OK \n",
      "Extracting  Used data set - Copy/041.scissor tailed flycatcher/Scissor_Tailed_Flycatcher_0013_42024.jpg     \b\b\b\b 29%\b\b\b\b\b  OK \n",
      "Extracting  Used data set - Copy/041.scissor tailed flycatcher/Scissor_Tailed_Flycatcher_0016_42111.jpg     \b\b\b\b 29%\b\b\b\b\b  OK \n",
      "Extracting  Used data set - Copy/041.scissor tailed flycatcher/Scissor_Tailed_Flycatcher_0019_41936.jpg     \b\b\b\b 29%\b\b\b\b\b  OK \n",
      "Extracting  Used data set - Copy/041.scissor tailed flycatcher/Scissor_Tailed_Flycatcher_0020_41680.jpg     \b\b\b\b 30%\b\b\b\b\b  OK \n",
      "Extracting  Used data set - Copy/041.scissor tailed flycatcher/Scissor_Tailed_Flycatcher_0021_41931.jpg     \b\b\b\b 30%\b\b\b\b\b  OK \n",
      "Extracting  Used data set - Copy/041.scissor tailed flycatcher/Scissor_Tailed_Flycatcher_0023_42117.jpg     \b\b\b\b 30%\b\b\b\b\b  OK \n",
      "Extracting  Used data set - Copy/041.scissor tailed flycatcher/Scissor_Tailed_Flycatcher_0025_42032.jpg     \b\b\b\b 30%\b\b\b\b\b  OK \n",
      "Extracting  Used data set - Copy/041.scissor tailed flycatcher/Scissor_Tailed_Flycatcher_0026_41774.jpg     \b\b\b\b 31%\b\b\b\b\b  OK \n",
      "Extracting  Used data set - Copy/041.scissor tailed flycatcher/Scissor_Tailed_Flycatcher_0028_42010.jpg     \b\b\b\b 31%\b\b\b\b\b  OK \n",
      "Extracting  Used data set - Copy/041.scissor tailed flycatcher/Scissor_Tailed_Flycatcher_0031_41836.jpg     \b\b\b\b 31%\b\b\b\b\b  OK \n",
      "Extracting  Used data set - Copy/041.scissor tailed flycatcher/Scissor_Tailed_Flycatcher_0033_41782.jpg     \b\b\b\b 31%\b\b\b\b\b  OK \n",
      "Extracting  Used data set - Copy/041.scissor tailed flycatcher/Scissor_Tailed_Flycatcher_0035_42025.jpg     \b\b\b\b 31%\b\b\b\b\b  OK \n",
      "Extracting  Used data set - Copy/041.scissor tailed flycatcher/Scissor_Tailed_Flycatcher_0038_41649.jpg     \b\b\b\b 32%\b\b\b\b\b  OK \n",
      "Extracting  Used data set - Copy/041.scissor tailed flycatcher/Scissor_Tailed_Flycatcher_0042_41990.jpg     \b\b\b\b 32%\b\b\b\b\b  OK \n",
      "Extracting  Used data set - Copy/041.scissor tailed flycatcher/Scissor_Tailed_Flycatcher_0044_42002.jpg     \b\b\b\b 32%\b\b\b\b\b  OK \n",
      "Extracting  Used data set - Copy/041.scissor tailed flycatcher/Scissor_Tailed_Flycatcher_0048_41646.jpg     \b\b\b\b 32%\b\b\b\b\b  OK \n",
      "Extracting  Used data set - Copy/041.scissor tailed flycatcher/Scissor_Tailed_Flycatcher_0055_42051.jpg     \b\b\b\b 32%\b\b\b\b\b  OK \n",
      "Extracting  Used data set - Copy/041.scissor tailed flycatcher/Scissor_Tailed_Flycatcher_0058_41948.jpg     \b\b\b\b 33%\b\b\b\b\b  OK \n",
      "Extracting  Used data set - Copy/041.scissor tailed flycatcher/Scissor_Tailed_Flycatcher_0059_41998.jpg     \b\b\b\b 33%\b\b\b\b\b  OK \n",
      "Extracting  Used data set - Copy/041.scissor tailed flycatcher/Scissor_Tailed_Flycatcher_0060_41655.jpg     \b\b\b\b 33%\b\b\b\b\b  OK \n",
      "Extracting  Used data set - Copy/041.scissor tailed flycatcher/Scissor_Tailed_Flycatcher_0062_41952.jpg     \b\b\b\b 33%\b\b\b\b\b  OK \n",
      "Extracting  Used data set - Copy/041.scissor tailed flycatcher/Scissor_Tailed_Flycatcher_0068_41835.jpg     \b\b\b\b 33%\b\b\b\b\b  OK \n",
      "Extracting  Used data set - Copy/041.scissor tailed flycatcher/Scissor_Tailed_Flycatcher_0069_41827.jpg     \b\b\b\b 34%\b\b\b\b\b  OK \n",
      "Extracting  Used data set - Copy/041.scissor tailed flycatcher/Scissor_Tailed_Flycatcher_0072_42085.jpg     \b\b\b\b 34%\b\b\b\b\b  OK \n",
      "Extracting  Used data set - Copy/041.scissor tailed flycatcher/Scissor_Tailed_Flycatcher_0076_41597.jpg     \b\b\b\b 34%\b\b\b\b\b  OK \n",
      "Extracting  Used data set - Copy/041.scissor tailed flycatcher/Scissor_Tailed_Flycatcher_0077_41688.jpg     \b\b\b\b 34%\b\b\b\b\b  OK \n",
      "Extracting  Used data set - Copy/041.scissor tailed flycatcher/Scissor_Tailed_Flycatcher_0082_41852.jpg     \b\b\b\b 35%\b\b\b\b\b  OK \n",
      "Extracting  Used data set - Copy/041.scissor tailed flycatcher/Scissor_Tailed_Flycatcher_0085_41830.jpg     \b\b\b\b 35%\b\b\b\b\b  OK \n",
      "Extracting  Used data set - Copy/041.scissor tailed flycatcher/Scissor_Tailed_Flycatcher_0088_41700.jpg     \b\b\b\b 35%\b\b\b\b\b  OK \n",
      "Extracting  Used data set - Copy/041.scissor tailed flycatcher/Scissor_Tailed_Flycatcher_0089_41810.jpg     \b\b\b\b 35%\b\b\b\b\b  OK \n",
      "Extracting  Used data set - Copy/041.scissor tailed flycatcher/Scissor_Tailed_Flycatcher_0092_41767.jpg     \b\b\b\b 36%\b\b\b\b\b  OK \n",
      "Extracting  Used data set - Copy/041.scissor tailed flycatcher/Scissor_Tailed_Flycatcher_0094_42018.jpg     \b\b\b\b 36%\b\b\b\b\b  OK \n",
      "Extracting  Used data set - Copy/041.scissor tailed flycatcher/Scissor_Tailed_Flycatcher_0096_41733.jpg     \b\b\b\b 36%\b\b\b\b\b  OK \n",
      "Extracting  Used data set - Copy/041.scissor tailed flycatcher/Scissor_Tailed_Flycatcher_0097_41701.jpg     \b\b\b\b 36%\b\b\b\b\b  OK \n",
      "Extracting  Used data set - Copy/041.scissor tailed flycatcher/Scissor_Tailed_Flycatcher_0098_41731.jpg     \b\b\b\b 37%\b\b\b\b\b  OK \n",
      "Extracting  Used data set - Copy/041.scissor tailed flycatcher/Scissor_Tailed_Flycatcher_0100_41796.jpg     \b\b\b\b 37%\b\b\b\b\b  OK \n",
      "Extracting  Used data set - Copy/041.scissor tailed flycatcher/Scissor_Tailed_Flycatcher_0103_41938.jpg     \b\b\b\b 37%\b\b\b\b\b  OK \n",
      "Extracting  Used data set - Copy/041.scissor tailed flycatcher/Scissor_Tailed_Flycatcher_0106_41684.jpg     \b\b\b\b 37%\b\b\b\b\b  OK \n",
      "Extracting  Used data set - Copy/041.scissor tailed flycatcher/Scissor_Tailed_Flycatcher_0108_42013.jpg     \b\b\b\b 37%\b\b\b\b\b  OK \n",
      "Extracting  Used data set - Copy/041.scissor tailed flycatcher/Scissor_Tailed_Flycatcher_0109_41720.jpg     \b\b\b\b 38%\b\b\b\b\b  OK \n",
      "Extracting  Used data set - Copy/041.scissor tailed flycatcher/Scissor_Tailed_Flycatcher_0110_42136.jpg     \b\b\b\b 38%\b\b\b\b\b  OK \n",
      "Extracting  Used data set - Copy/041.scissor tailed flycatcher/Scissor_Tailed_Flycatcher_0111_42118.jpg     \b\b\b\b 38%\b\b\b\b\b  OK \n",
      "Extracting  Used data set - Copy/041.scissor tailed flycatcher/Scissor_Tailed_Flycatcher_0114_41704.jpg     \b\b\b\b 39%\b\b\b\b\b  OK \n",
      "Extracting  Used data set - Copy/041.scissor tailed flycatcher/Scissor_Tailed_Flycatcher_0115_42137.jpg     \b\b\b\b 39%\b\b\b\b\b  OK \n",
      "Extracting  Used data set - Copy/041.scissor tailed flycatcher/Scissor_Tailed_Flycatcher_0117_42026.jpg     \b\b\b\b 39%\b\b\b\b\b  OK \n",
      "Extracting  Used data set - Copy/041.scissor tailed flycatcher/Scissor_Tailed_Flycatcher_0118_42067.jpg     \b\b\b\b 39%\b\b\b\b\b  OK \n",
      "Extracting  Used data set - Copy/041.scissor tailed flycatcher/Scissor_Tailed_Flycatcher_0119_41879.jpg     \b\b\b\b 39%\b\b\b\b\b  OK \n",
      "Extracting  Used data set - Copy/041.scissor tailed flycatcher/Scissor_Tailed_Flycatcher_0121_41843.jpg     \b\b\b\b 40%\b\b\b\b\b  OK \n",
      "Extracting  Used data set - Copy/041.scissor tailed flycatcher/Scissor_Tailed_Flycatcher_0122_41679.jpg     \b\b\b\b 40%\b\b\b\b\b  OK \n",
      "Extracting  Used data set - Copy/041.scissor tailed flycatcher/Scissor_Tailed_Flycatcher_0123_41638.jpg     \b\b\b\b 40%\b\b\b\b\b  OK \n",
      "Extracting  Used data set - Copy/041.scissor tailed flycatcher/Scissor_Tailed_Flycatcher_0125_41906.jpg     \b\b\b\b 41%\b\b\b\b\b  OK \n",
      "Extracting  Used data set - Copy/041.scissor tailed flycatcher/Scissor_Tailed_Flycatcher_0126_41905.jpg     \b\b\b\b 41%\b\b\b\b\b  OK \n",
      "Creating    Used data set - Copy/114.black throated sparrow           OK\n",
      "Extracting  Used data set - Copy/114.black throated sparrow/Black_Throated_Sparrow_0001_107233.jpg     \b\b\b\b 41%\b\b\b\b\b  OK \n",
      "Extracting  Used data set - Copy/114.black throated sparrow/Black_Throated_Sparrow_0002_106962.jpg     \b\b\b\b 42%\b\b\b\b\b  OK \n",
      "Extracting  Used data set - Copy/114.black throated sparrow/Black_Throated_Sparrow_0003_107035.jpg     \b\b\b\b 42%\b\b\b\b\b  OK \n",
      "Extracting  Used data set - Copy/114.black throated sparrow/Black_Throated_Sparrow_0005_107150.jpg     \b\b\b\b 42%\b\b\b\b\b  OK \n",
      "Extracting  Used data set - Copy/114.black throated sparrow/Black_Throated_Sparrow_0007_106999.jpg     \b\b\b\b 42%\b\b\b\b\b  OK \n",
      "Extracting  Used data set - Copy/114.black throated sparrow/Black_Throated_Sparrow_0008_107000.jpg     \b\b\b\b 43%\b\b\b\b\b  OK \n",
      "Extracting  Used data set - Copy/114.black throated sparrow/Black_Throated_Sparrow_0009_107333.jpg     \b\b\b\b 43%\b\b\b\b\b  OK \n",
      "Extracting  Used data set - Copy/114.black throated sparrow/Black_Throated_Sparrow_0010_107375.jpg     \b\b\b\b 43%\b\b\b\b\b  OK \n",
      "Extracting  Used data set - Copy/114.black throated sparrow/Black_Throated_Sparrow_0011_107115.jpg     \b\b\b\b 43%\b\b\b\b\b  OK \n",
      "Extracting  Used data set - Copy/114.black throated sparrow/Black_Throated_Sparrow_0013_107005.jpg     \b\b\b\b 43%\b\b\b\b\b  OK \n",
      "Extracting  Used data set - Copy/114.black throated sparrow/Black_Throated_Sparrow_0015_107079.jpg     \b\b\b\b 44%\b\b\b\b\b  OK \n",
      "Extracting  Used data set - Copy/114.black throated sparrow/Black_Throated_Sparrow_0017_107355.jpg     \b\b\b\b 44%\b\b\b\b\b  OK \n",
      "Extracting  Used data set - Copy/114.black throated sparrow/Black_Throated_Sparrow_0019_107192.jpg     \b\b\b\b 44%\b\b\b\b\b  OK \n",
      "Extracting  Used data set - Copy/114.black throated sparrow/Black_Throated_Sparrow_0020_106971.jpg     \b\b\b\b 44%\b\b\b\b\b  OK \n",
      "Extracting  Used data set - Copy/114.black throated sparrow/Black_Throated_Sparrow_0021_107021.jpg     \b\b\b\b 45%\b\b\b\b\b  OK \n",
      "Extracting  Used data set - Copy/114.black throated sparrow/Black_Throated_Sparrow_0023_107104.jpg     \b\b\b\b 45%\b\b\b\b\b  OK \n",
      "Extracting  Used data set - Copy/114.black throated sparrow/Black_Throated_Sparrow_0026_107198.jpg     \b\b\b\b 45%\b\b\b\b\b  OK \n",
      "Extracting  Used data set - Copy/114.black throated sparrow/Black_Throated_Sparrow_0027_107278.jpg     \b\b\b\b 45%\b\b\b\b\b  OK \n",
      "Extracting  Used data set - Copy/114.black throated sparrow/Black_Throated_Sparrow_0033_107042.jpg     \b\b\b\b 45%\b\b\b\b\b  OK \n",
      "Extracting  Used data set - Copy/114.black throated sparrow/Black_Throated_Sparrow_0034_107327.jpg     \b\b\b\b 45%\b\b\b\b\b  OK \n",
      "Extracting  Used data set - Copy/114.black throated sparrow/Black_Throated_Sparrow_0035_107185.jpg     \b\b\b\b 46%\b\b\b\b\b  OK \n",
      "Extracting  Used data set - Copy/114.black throated sparrow/Black_Throated_Sparrow_0039_107259.jpg     \b\b\b\b 46%\b\b\b\b\b  OK \n",
      "Extracting  Used data set - Copy/114.black throated sparrow/Black_Throated_Sparrow_0040_107172.jpg     \b\b\b\b 46%\b\b\b\b\b  OK \n",
      "Extracting  Used data set - Copy/114.black throated sparrow/Black_Throated_Sparrow_0043_107236.jpg     \b\b\b\b 47%\b\b\b\b\b  OK \n",
      "Extracting  Used data set - Copy/114.black throated sparrow/Black_Throated_Sparrow_0044_107270.jpg     \b\b\b\b 47%\b\b\b\b\b  OK \n",
      "Extracting  Used data set - Copy/114.black throated sparrow/Black_Throated_Sparrow_0046_107339.jpg     \b\b\b\b 47%\b\b\b\b\b  OK \n",
      "Extracting  Used data set - Copy/114.black throated sparrow/Black_Throated_Sparrow_0049_106958.jpg     \b\b\b\b 47%\b\b\b\b\b  OK \n",
      "Extracting  Used data set - Copy/114.black throated sparrow/Black_Throated_Sparrow_0050_107033.jpg     \b\b\b\b 48%\b\b\b\b\b  OK \n",
      "Extracting  Used data set - Copy/114.black throated sparrow/Black_Throated_Sparrow_0051_107217.jpg     \b\b\b\b 48%\b\b\b\b\b  OK \n",
      "Extracting  Used data set - Copy/114.black throated sparrow/Black_Throated_Sparrow_0053_107282.jpg     \b\b\b\b 48%\b\b\b\b\b  OK \n",
      "Extracting  Used data set - Copy/114.black throated sparrow/Black_Throated_Sparrow_0054_107026.jpg     \b\b\b\b 49%\b\b\b\b\b  OK \n",
      "Extracting  Used data set - Copy/114.black throated sparrow/Black_Throated_Sparrow_0055_107213.jpg     \b\b\b\b 49%\b\b\b\b\b  OK \n",
      "Extracting  Used data set - Copy/114.black throated sparrow/Black_Throated_Sparrow_0056_107010.jpg     \b\b\b\b 49%\b\b\b\b\b  OK \n",
      "Extracting  Used data set - Copy/114.black throated sparrow/Black_Throated_Sparrow_0057_107036.jpg     \b\b\b\b 50%\b\b\b\b\b  OK \n",
      "Extracting  Used data set - Copy/114.black throated sparrow/Black_Throated_Sparrow_0059_107060.jpg     \b\b\b\b 50%\b\b\b\b\b  OK \n",
      "Extracting  Used data set - Copy/114.black throated sparrow/Black_Throated_Sparrow_0060_107177.jpg     \b\b\b\b 50%\b\b\b\b\b  OK \n",
      "Extracting  Used data set - Copy/114.black throated sparrow/Black_Throated_Sparrow_0061_106967.jpg     \b\b\b\b 50%\b\b\b\b\b  OK \n",
      "Extracting  Used data set - Copy/114.black throated sparrow/Black_Throated_Sparrow_0065_107087.jpg     \b\b\b\b 51%\b\b\b\b\b  OK \n",
      "Extracting  Used data set - Copy/114.black throated sparrow/Black_Throated_Sparrow_0066_106974.jpg     \b\b\b\b 51%\b\b\b\b\b  OK \n",
      "Extracting  Used data set - Copy/114.black throated sparrow/Black_Throated_Sparrow_0068_106960.jpg     \b\b\b\b 51%\b\b\b\b\b  OK \n",
      "Extracting  Used data set - Copy/114.black throated sparrow/Black_Throated_Sparrow_0069_107116.jpg     \b\b\b\b 51%\b\b\b\b\b  OK \n",
      "Extracting  Used data set - Copy/114.black throated sparrow/Black_Throated_Sparrow_0070_107196.jpg     \b\b\b\b 51%\b\b\b\b\b  OK \n",
      "Extracting  Used data set - Copy/114.black throated sparrow/Black_Throated_Sparrow_0072_107255.jpg     \b\b\b\b 52%\b\b\b\b\b  OK \n",
      "Extracting  Used data set - Copy/114.black throated sparrow/Black_Throated_Sparrow_0074_107113.jpg     \b\b\b\b 52%\b\b\b\b\b  OK \n",
      "Extracting  Used data set - Copy/114.black throated sparrow/Black_Throated_Sparrow_0076_106995.jpg     \b\b\b\b 52%\b\b\b\b\b  OK \n",
      "Extracting  Used data set - Copy/114.black throated sparrow/Black_Throated_Sparrow_0078_107298.jpg     \b\b\b\b 52%\b\b\b\b\b  OK \n",
      "Extracting  Used data set - Copy/114.black throated sparrow/Black_Throated_Sparrow_0080_107050.jpg     \b\b\b\b 53%\b\b\b\b\b  OK \n",
      "Extracting  Used data set - Copy/114.black throated sparrow/Black_Throated_Sparrow_0081_107111.jpg     \b\b\b\b 53%\b\b\b\b\b  OK \n",
      "Extracting  Used data set - Copy/114.black throated sparrow/Black_Throated_Sparrow_0084_107066.jpg     \b\b\b\b 53%\b\b\b\b\b  OK \n",
      "Extracting  Used data set - Copy/114.black throated sparrow/Black_Throated_Sparrow_0086_106970.jpg     \b\b\b\b 53%\b\b\b\b\b  OK \n",
      "Extracting  Used data set - Copy/114.black throated sparrow/Black_Throated_Sparrow_0088_107220.jpg     \b\b\b\b 54%\b\b\b\b\b  OK \n",
      "Extracting  Used data set - Copy/114.black throated sparrow/Black_Throated_Sparrow_0090_107295.jpg     \b\b\b\b 54%\b\b\b\b\b  OK \n",
      "Extracting  Used data set - Copy/114.black throated sparrow/Black_Throated_Sparrow_0091_107346.jpg     \b\b\b\b 54%\b\b\b\b\b  OK \n",
      "Extracting  Used data set - Copy/114.black throated sparrow/Black_Throated_Sparrow_0094_107085.jpg     \b\b\b\b 54%\b\b\b\b\b  OK \n",
      "Extracting  Used data set - Copy/114.black throated sparrow/Black_Throated_Sparrow_0095_107268.jpg     \b\b\b\b 55%\b\b\b\b\b  OK \n",
      "Extracting  Used data set - Copy/114.black throated sparrow/Black_Throated_Sparrow_0096_107238.jpg     \b\b\b\b 55%\b\b\b\b\b  OK \n",
      "Extracting  Used data set - Copy/114.black throated sparrow/Black_Throated_Sparrow_0097_106935.jpg     \b\b\b\b 55%\b\b\b\b\b  OK \n",
      "Extracting  Used data set - Copy/114.black throated sparrow/Black_Throated_Sparrow_0098_107138.jpg     \b\b\b\b 55%\b\b\b\b\b  OK \n",
      "Extracting  Used data set - Copy/114.black throated sparrow/Black_Throated_Sparrow_0099_106944.jpg     \b\b\b\b 55%\b\b\b\b\b  OK \n",
      "Extracting  Used data set - Copy/114.black throated sparrow/Black_Throated_Sparrow_0102_107243.jpg     \b\b\b\b 56%\b\b\b\b\b  OK \n",
      "Creating    Used data set - Copy/126.nelson sharp tailed sparrow      OK\n",
      "Extracting  Used data set - Copy/126.nelson sharp tailed sparrow/Nelson_Sharp_Tailed_Sparrow_0001_796931.jpg     \b\b\b\b 56%\b\b\b\b\b  OK \n",
      "Extracting  Used data set - Copy/126.nelson sharp tailed sparrow/Nelson_Sharp_Tailed_Sparrow_0002_796908.jpg     \b\b\b\b 56%\b\b\b\b\b  OK \n",
      "Extracting  Used data set - Copy/126.nelson sharp tailed sparrow/Nelson_Sharp_Tailed_Sparrow_0003_796917.jpg     \b\b\b\b 57%\b\b\b\b\b  OK \n",
      "Extracting  Used data set - Copy/126.nelson sharp tailed sparrow/Nelson_Sharp_Tailed_Sparrow_0004_796941.jpg     \b\b\b\b 57%\b\b\b\b\b  OK \n",
      "Extracting  Used data set - Copy/126.nelson sharp tailed sparrow/Nelson_Sharp_Tailed_Sparrow_0005_118078.jpg     \b\b\b\b 57%\b\b\b\b\b  OK \n",
      "Extracting  Used data set - Copy/126.nelson sharp tailed sparrow/Nelson_Sharp_Tailed_Sparrow_0006_796909.jpg     \b\b\b\b 57%\b\b\b\b\b  OK \n",
      "Extracting  Used data set - Copy/126.nelson sharp tailed sparrow/Nelson_Sharp_Tailed_Sparrow_0008_796944.jpg     \b\b\b\b 57%\b\b\b\b\b  OK \n",
      "Extracting  Used data set - Copy/126.nelson sharp tailed sparrow/Nelson_Sharp_Tailed_Sparrow_0009_796940.jpg     \b\b\b\b 58%\b\b\b\b\b  OK \n",
      "Extracting  Used data set - Copy/126.nelson sharp tailed sparrow/Nelson_Sharp_Tailed_Sparrow_0013_796942.jpg     \b\b\b\b 58%\b\b\b\b\b  OK \n",
      "Extracting  Used data set - Copy/126.nelson sharp tailed sparrow/Nelson_Sharp_Tailed_Sparrow_0014_796906.jpg     \b\b\b\b 58%\b\b\b\b\b  OK \n",
      "Extracting  Used data set - Copy/126.nelson sharp tailed sparrow/Nelson_Sharp_Tailed_Sparrow_0015_796922.jpg     \b\b\b\b 58%\b\b\b\b\b  OK \n",
      "Extracting  Used data set - Copy/126.nelson sharp tailed sparrow/Nelson_Sharp_Tailed_Sparrow_0016_118077.jpg     \b\b\b\b 59%\b\b\b\b\b  OK \n",
      "Extracting  Used data set - Copy/126.nelson sharp tailed sparrow/Nelson_Sharp_Tailed_Sparrow_0017_796910.jpg     \b\b\b\b 59%\b\b\b\b\b  OK \n",
      "Extracting  Used data set - Copy/126.nelson sharp tailed sparrow/Nelson_Sharp_Tailed_Sparrow_0018_118011.jpg     \b\b\b\b 59%\b\b\b\b\b  OK \n",
      "Extracting  Used data set - Copy/126.nelson sharp tailed sparrow/Nelson_Sharp_Tailed_Sparrow_0019_118066.jpg     \b\b\b\b 59%\b\b\b\b\b  OK \n",
      "Extracting  Used data set - Copy/126.nelson sharp tailed sparrow/Nelson_Sharp_Tailed_Sparrow_0022_796905.jpg     \b\b\b\b 60%\b\b\b\b\b  OK \n",
      "Extracting  Used data set - Copy/126.nelson sharp tailed sparrow/Nelson_Sharp_Tailed_Sparrow_0023_796899.jpg     \b\b\b\b 60%\b\b\b\b\b  OK \n",
      "Extracting  Used data set - Copy/126.nelson sharp tailed sparrow/Nelson_Sharp_Tailed_Sparrow_0024_118010.jpg     \b\b\b\b 60%\b\b\b\b\b  OK \n",
      "Extracting  Used data set - Copy/126.nelson sharp tailed sparrow/Nelson_Sharp_Tailed_Sparrow_0025_796945.jpg     \b\b\b\b 60%\b\b\b\b\b  OK \n",
      "Extracting  Used data set - Copy/126.nelson sharp tailed sparrow/Nelson_Sharp_Tailed_Sparrow_0027_118028.jpg     \b\b\b\b 61%\b\b\b\b\b  OK \n",
      "Extracting  Used data set - Copy/126.nelson sharp tailed sparrow/Nelson_Sharp_Tailed_Sparrow_0029_796923.jpg     \b\b\b\b 61%\b\b\b\b\b  OK \n",
      "Extracting  Used data set - Copy/126.nelson sharp tailed sparrow/Nelson_Sharp_Tailed_Sparrow_0030_118064.jpg     \b\b\b\b 61%\b\b\b\b\b  OK \n",
      "Extracting  Used data set - Copy/126.nelson sharp tailed sparrow/Nelson_Sharp_Tailed_Sparrow_0032_118036.jpg     \b\b\b\b 61%\b\b\b\b\b  OK \n",
      "Extracting  Used data set - Copy/126.nelson sharp tailed sparrow/Nelson_Sharp_Tailed_Sparrow_0033_118024.jpg     \b\b\b\b 62%\b\b\b\b\b  OK \n",
      "Extracting  Used data set - Copy/126.nelson sharp tailed sparrow/Nelson_Sharp_Tailed_Sparrow_0034_796950.jpg     \b\b\b\b 62%\b\b\b\b\b  OK \n",
      "Extracting  Used data set - Copy/126.nelson sharp tailed sparrow/Nelson_Sharp_Tailed_Sparrow_0035_796924.jpg     \b\b\b\b 62%\b\b\b\b\b  OK \n",
      "Extracting  Used data set - Copy/126.nelson sharp tailed sparrow/Nelson_Sharp_Tailed_Sparrow_0036_118075.jpg     \b\b\b\b 62%\b\b\b\b\b  OK \n",
      "Extracting  Used data set - Copy/126.nelson sharp tailed sparrow/Nelson_Sharp_Tailed_Sparrow_0037_117986.jpg     \b\b\b\b 63%\b\b\b\b\b  OK \n",
      "Extracting  Used data set - Copy/126.nelson sharp tailed sparrow/Nelson_Sharp_Tailed_Sparrow_0038_796920.jpg     \b\b\b\b 63%\b\b\b\b\b  OK \n",
      "Extracting  Used data set - Copy/126.nelson sharp tailed sparrow/Nelson_Sharp_Tailed_Sparrow_0039_118074.jpg     \b\b\b\b 63%\b\b\b\b\b  OK \n",
      "Extracting  Used data set - Copy/126.nelson sharp tailed sparrow/Nelson_Sharp_Tailed_Sparrow_0041_796926.jpg     \b\b\b\b 63%\b\b\b\b\b  OK \n",
      "Extracting  Used data set - Copy/126.nelson sharp tailed sparrow/Nelson_Sharp_Tailed_Sparrow_0042_796911.jpg     \b\b\b\b 64%\b\b\b\b\b  OK \n",
      "Extracting  Used data set - Copy/126.nelson sharp tailed sparrow/Nelson_Sharp_Tailed_Sparrow_0044_796932.jpg     \b\b\b\b 64%\b\b\b\b\b  OK \n",
      "Extracting  Used data set - Copy/126.nelson sharp tailed sparrow/Nelson_Sharp_Tailed_Sparrow_0045_118004.jpg     \b\b\b\b 64%\b\b\b\b\b  OK \n",
      "Extracting  Used data set - Copy/126.nelson sharp tailed sparrow/Nelson_Sharp_Tailed_Sparrow_0046_118032.jpg     \b\b\b\b 65%\b\b\b\b\b  OK \n",
      "Extracting  Used data set - Copy/126.nelson sharp tailed sparrow/Nelson_Sharp_Tailed_Sparrow_0047_117991.jpg     \b\b\b\b 65%\b\b\b\b\b  OK \n",
      "Extracting  Used data set - Copy/126.nelson sharp tailed sparrow/Nelson_Sharp_Tailed_Sparrow_0049_118033.jpg     \b\b\b\b 65%\b\b\b\b\b  OK \n",
      "Extracting  Used data set - Copy/126.nelson sharp tailed sparrow/Nelson_Sharp_Tailed_Sparrow_0051_796902.jpg     \b\b\b\b 65%\b\b\b\b\b  OK \n",
      "Extracting  Used data set - Copy/126.nelson sharp tailed sparrow/Nelson_Sharp_Tailed_Sparrow_0052_796903.jpg     \b\b\b\b 66%\b\b\b\b\b  OK \n",
      "Extracting  Used data set - Copy/126.nelson sharp tailed sparrow/Nelson_Sharp_Tailed_Sparrow_0053_118069.jpg     \b\b\b\b 66%\b\b\b\b\b  OK \n",
      "Extracting  Used data set - Copy/126.nelson sharp tailed sparrow/Nelson_Sharp_Tailed_Sparrow_0054_796936.jpg     \b\b\b\b 66%\b\b\b\b\b  OK \n",
      "Extracting  Used data set - Copy/126.nelson sharp tailed sparrow/Nelson_Sharp_Tailed_Sparrow_0055_796937.jpg     \b\b\b\b 66%\b\b\b\b\b  OK \n",
      "Extracting  Used data set - Copy/126.nelson sharp tailed sparrow/Nelson_Sharp_Tailed_Sparrow_0056_117974.jpg     \b\b\b\b 67%\b\b\b\b\b  OK \n",
      "Extracting  Used data set - Copy/126.nelson sharp tailed sparrow/Nelson_Sharp_Tailed_Sparrow_0057_796949.jpg     \b\b\b\b 67%\b\b\b\b\b  OK \n",
      "Extracting  Used data set - Copy/126.nelson sharp tailed sparrow/Nelson_Sharp_Tailed_Sparrow_0058_118023.jpg     \b\b\b\b 67%\b\b\b\b\b  OK \n",
      "Extracting  Used data set - Copy/126.nelson sharp tailed sparrow/Nelson_Sharp_Tailed_Sparrow_0061_796907.jpg     \b\b\b\b 67%\b\b\b\b\b  OK \n",
      "Extracting  Used data set - Copy/126.nelson sharp tailed sparrow/Nelson_Sharp_Tailed_Sparrow_0062_796919.jpg     \b\b\b\b 68%\b\b\b\b\b  OK \n",
      "Extracting  Used data set - Copy/126.nelson sharp tailed sparrow/Nelson_Sharp_Tailed_Sparrow_0064_117965.jpg     \b\b\b\b 68%\b\b\b\b\b  OK \n",
      "Extracting  Used data set - Copy/126.nelson sharp tailed sparrow/Nelson_Sharp_Tailed_Sparrow_0065_796933.jpg     \b\b\b\b 68%\b\b\b\b\b  OK \n",
      "Extracting  Used data set - Copy/126.nelson sharp tailed sparrow/Nelson_Sharp_Tailed_Sparrow_0066_118088.jpg     \b\b\b\b 68%\b\b\b\b\b  OK \n",
      "Extracting  Used data set - Copy/126.nelson sharp tailed sparrow/Nelson_Sharp_Tailed_Sparrow_0067_796912.jpg     \b\b\b\b 68%\b\b\b\b\b  OK \n",
      "Extracting  Used data set - Copy/126.nelson sharp tailed sparrow/Nelson_Sharp_Tailed_Sparrow_0068_796930.jpg     \b\b\b\b 69%\b\b\b\b\b  OK \n",
      "Extracting  Used data set - Copy/126.nelson sharp tailed sparrow/Nelson_Sharp_Tailed_Sparrow_0070_796925.jpg     \b\b\b\b 69%\b\b\b\b\b  OK \n",
      "Extracting  Used data set - Copy/126.nelson sharp tailed sparrow/Nelson_Sharp_Tailed_Sparrow_0071_796946.jpg     \b\b\b\b 69%\b\b\b\b\b  OK \n",
      "Extracting  Used data set - Copy/126.nelson sharp tailed sparrow/Nelson_Sharp_Tailed_Sparrow_0072_118012.jpg     \b\b\b\b 70%\b\b\b\b\b  OK \n",
      "Extracting  Used data set - Copy/126.nelson sharp tailed sparrow/Nelson_Sharp_Tailed_Sparrow_0074_796901.jpg     \b\b\b\b 70%\b\b\b\b\b  OK \n",
      "Extracting  Used data set - Copy/126.nelson sharp tailed sparrow/Nelson_Sharp_Tailed_Sparrow_0076_117964.jpg     \b\b\b\b 70%\b\b\b\b\b  OK \n",
      "Extracting  Used data set - Copy/126.nelson sharp tailed sparrow/Nelson_Sharp_Tailed_Sparrow_0077_796913.jpg     \b\b\b\b 70%\b\b\b\b\b  OK \n",
      "Extracting  Used data set - Copy/126.nelson sharp tailed sparrow/Nelson_Sharp_Tailed_Sparrow_0079_796934.jpg     \b\b\b\b 71%\b\b\b\b\b  OK \n",
      "Creating    Used data set - Copy/130.tree sparrow                     OK\n",
      "Extracting  Used data set - Copy/130.tree sparrow/Tree_Sparrow_0005_122949.jpg     \b\b\b\b 71%\b\b\b\b\b  OK \n",
      "Extracting  Used data set - Copy/130.tree sparrow/Tree_Sparrow_0007_122911.jpg     \b\b\b\b 71%\b\b\b\b\b  OK \n",
      "Extracting  Used data set - Copy/130.tree sparrow/Tree_Sparrow_0009_123294.jpg     \b\b\b\b 71%\b\b\b\b\b  OK \n",
      "Extracting  Used data set - Copy/130.tree sparrow/Tree_Sparrow_0011_122964.jpg     \b\b\b\b 72%\b\b\b\b\b  OK \n",
      "Extracting  Used data set - Copy/130.tree sparrow/Tree_Sparrow_0015_125105.jpg     \b\b\b\b 72%\b\b\b\b\b  OK \n",
      "Extracting  Used data set - Copy/130.tree sparrow/Tree_Sparrow_0018_123574.jpg     \b\b\b\b 72%\b\b\b\b\b  OK \n",
      "Extracting  Used data set - Copy/130.tree sparrow/Tree_Sparrow_0022_123496.jpg     \b\b\b\b 72%\b\b\b\b\b  OK \n",
      "Extracting  Used data set - Copy/130.tree sparrow/Tree_Sparrow_0023_124956.jpg     \b\b\b\b 73%\b\b\b\b\b  OK \n",
      "Extracting  Used data set - Copy/130.tree sparrow/Tree_Sparrow_0024_123805.jpg     \b\b\b\b 73%\b\b\b\b\b  OK \n",
      "Extracting  Used data set - Copy/130.tree sparrow/Tree_Sparrow_0025_124233.jpg     \b\b\b\b 73%\b\b\b\b\b  OK \n",
      "Extracting  Used data set - Copy/130.tree sparrow/Tree_Sparrow_0028_122829.jpg     \b\b\b\b 73%\b\b\b\b\b  OK \n",
      "Extracting  Used data set - Copy/130.tree sparrow/Tree_Sparrow_0030_122850.jpg     \b\b\b\b 74%\b\b\b\b\b  OK \n",
      "Extracting  Used data set - Copy/130.tree sparrow/Tree_Sparrow_0032_123489.jpg     \b\b\b\b 74%\b\b\b\b\b  OK \n",
      "Extracting  Used data set - Copy/130.tree sparrow/Tree_Sparrow_0034_123799.jpg     \b\b\b\b 74%\b\b\b\b\b  OK \n",
      "Extracting  Used data set - Copy/130.tree sparrow/Tree_Sparrow_0035_123211.jpg     \b\b\b\b 74%\b\b\b\b\b  OK \n",
      "Extracting  Used data set - Copy/130.tree sparrow/Tree_Sparrow_0036_122772.jpg     \b\b\b\b 75%\b\b\b\b\b  OK \n",
      "Extracting  Used data set - Copy/130.tree sparrow/Tree_Sparrow_0039_124140.jpg     \b\b\b\b 75%\b\b\b\b\b  OK \n",
      "Extracting  Used data set - Copy/130.tree sparrow/Tree_Sparrow_0041_123497.jpg     \b\b\b\b 75%\b\b\b\b\b  OK \n",
      "Extracting  Used data set - Copy/130.tree sparrow/Tree_Sparrow_0042_124512.jpg     \b\b\b\b 75%\b\b\b\b\b  OK \n",
      "Extracting  Used data set - Copy/130.tree sparrow/Tree_Sparrow_0043_124034.jpg     \b\b\b\b 76%\b\b\b\b\b  OK \n",
      "Extracting  Used data set - Copy/130.tree sparrow/Tree_Sparrow_0044_122946.jpg     \b\b\b\b 76%\b\b\b\b\b  OK \n",
      "Extracting  Used data set - Copy/130.tree sparrow/Tree_Sparrow_0046_125344.jpg     \b\b\b\b 76%\b\b\b\b\b  OK \n",
      "Extracting  Used data set - Copy/130.tree sparrow/Tree_Sparrow_0052_123869.jpg     \b\b\b\b 76%\b\b\b\b\b  OK \n",
      "Extracting  Used data set - Copy/130.tree sparrow/Tree_Sparrow_0053_122933.jpg     \b\b\b\b 76%\b\b\b\b\b  OK \n",
      "Extracting  Used data set - Copy/130.tree sparrow/Tree_Sparrow_0057_123665.jpg     \b\b\b\b 77%\b\b\b\b\b  OK \n",
      "Extracting  Used data set - Copy/130.tree sparrow/Tree_Sparrow_0058_123591.jpg     \b\b\b\b 77%\b\b\b\b\b  OK \n",
      "Extracting  Used data set - Copy/130.tree sparrow/Tree_Sparrow_0060_123743.jpg     \b\b\b\b 77%\b\b\b\b\b  OK \n",
      "Extracting  Used data set - Copy/130.tree sparrow/Tree_Sparrow_0062_123000.jpg     \b\b\b\b 77%\b\b\b\b\b  OK \n",
      "Extracting  Used data set - Copy/130.tree sparrow/Tree_Sparrow_0066_123569.jpg     \b\b\b\b 77%\b\b\b\b\b  OK \n",
      "Extracting  Used data set - Copy/130.tree sparrow/Tree_Sparrow_0068_125230.jpg     \b\b\b\b 78%\b\b\b\b\b  OK \n",
      "Extracting  Used data set - Copy/130.tree sparrow/Tree_Sparrow_0072_123991.jpg     \b\b\b\b 78%\b\b\b\b\b  OK \n",
      "Extracting  Used data set - Copy/130.tree sparrow/Tree_Sparrow_0073_123871.jpg     \b\b\b\b 78%\b\b\b\b\b  OK \n",
      "Extracting  Used data set - Copy/130.tree sparrow/Tree_Sparrow_0074_124408.jpg     \b\b\b\b 78%\b\b\b\b\b  OK \n",
      "Extracting  Used data set - Copy/130.tree sparrow/Tree_Sparrow_0076_123669.jpg     \b\b\b\b 78%\b\b\b\b\b  OK \n",
      "Extracting  Used data set - Copy/130.tree sparrow/Tree_Sparrow_0077_123417.jpg     \b\b\b\b 79%\b\b\b\b\b  OK \n",
      "Extracting  Used data set - Copy/130.tree sparrow/Tree_Sparrow_0080_124120.jpg     \b\b\b\b 79%\b\b\b\b\b  OK \n",
      "Extracting  Used data set - Copy/130.tree sparrow/Tree_Sparrow_0081_124348.jpg     \b\b\b\b 79%\b\b\b\b\b  OK \n",
      "Extracting  Used data set - Copy/130.tree sparrow/Tree_Sparrow_0086_123751.jpg     \b\b\b\b 79%\b\b\b\b\b  OK \n",
      "Extracting  Used data set - Copy/130.tree sparrow/Tree_Sparrow_0088_125305.jpg     \b\b\b\b 80%\b\b\b\b\b  OK \n",
      "Extracting  Used data set - Copy/130.tree sparrow/Tree_Sparrow_0090_110145.jpg     \b\b\b\b 80%\b\b\b\b\b  OK \n",
      "Extracting  Used data set - Copy/130.tree sparrow/Tree_Sparrow_0094_124974.jpg     \b\b\b\b 80%\b\b\b\b\b  OK \n",
      "Extracting  Used data set - Copy/130.tree sparrow/Tree_Sparrow_0095_124090.jpg     \b\b\b\b 80%\b\b\b\b\b  OK \n",
      "Extracting  Used data set - Copy/130.tree sparrow/Tree_Sparrow_0097_123462.jpg     \b\b\b\b 81%\b\b\b\b\b  OK \n",
      "Extracting  Used data set - Copy/130.tree sparrow/Tree_Sparrow_0100_122945.jpg     \b\b\b\b 81%\b\b\b\b\b  OK \n",
      "Extracting  Used data set - Copy/130.tree sparrow/Tree_Sparrow_0101_124104.jpg     \b\b\b\b 81%\b\b\b\b\b  OK \n",
      "Extracting  Used data set - Copy/130.tree sparrow/Tree_Sparrow_0105_123227.jpg     \b\b\b\b 81%\b\b\b\b\b  OK \n",
      "Extracting  Used data set - Copy/130.tree sparrow/Tree_Sparrow_0107_123822.jpg     \b\b\b\b 82%\b\b\b\b\b  OK \n",
      "Extracting  Used data set - Copy/130.tree sparrow/Tree_Sparrow_0108_124754.jpg     \b\b\b\b 82%\b\b\b\b\b  OK \n",
      "Extracting  Used data set - Copy/130.tree sparrow/Tree_Sparrow_0109_123802.jpg     \b\b\b\b 82%\b\b\b\b\b  OK \n",
      "Extracting  Used data set - Copy/130.tree sparrow/Tree_Sparrow_0112_125014.jpg     \b\b\b\b 82%\b\b\b\b\b  OK \n",
      "Extracting  Used data set - Copy/130.tree sparrow/Tree_Sparrow_0113_123613.jpg     \b\b\b\b 83%\b\b\b\b\b  OK \n",
      "Extracting  Used data set - Copy/130.tree sparrow/Tree_Sparrow_0119_124114.jpg     \b\b\b\b 83%\b\b\b\b\b  OK \n",
      "Extracting  Used data set - Copy/130.tree sparrow/Tree_Sparrow_0121_124296.jpg     \b\b\b\b 83%\b\b\b\b\b  OK \n",
      "Extracting  Used data set - Copy/130.tree sparrow/Tree_Sparrow_0122_123927.jpg     \b\b\b\b 83%\b\b\b\b\b  OK \n",
      "Extracting  Used data set - Copy/130.tree sparrow/Tree_Sparrow_0123_125324.jpg     \b\b\b\b 84%\b\b\b\b\b  OK \n",
      "Extracting  Used data set - Copy/130.tree sparrow/Tree_Sparrow_0125_123078.jpg     \b\b\b\b 84%\b\b\b\b\b  OK \n",
      "Extracting  Used data set - Copy/130.tree sparrow/Tree_Sparrow_0127_125322.jpg     \b\b\b\b 84%\b\b\b\b\b  OK \n",
      "Extracting  Used data set - Copy/130.tree sparrow/Tree_Sparrow_0128_123979.jpg     \b\b\b\b 84%\b\b\b\b\b  OK \n",
      "Extracting  Used data set - Copy/130.tree sparrow/Tree_Sparrow_0129_124960.jpg     \b\b\b\b 84%\b\b\b\b\b  OK \n",
      "Extracting  Used data set - Copy/130.tree sparrow/Tree_Sparrow_0130_124932.jpg     \b\b\b\b 85%\b\b\b\b\b  OK \n",
      "Creating    Used data set - Copy/151.black capped vireo               OK\n",
      "Extracting  Used data set - Copy/151.black capped vireo/Black_Capped_Vireo_0002_797466.jpg     \b\b\b\b 85%\b\b\b\b\b  OK \n",
      "Extracting  Used data set - Copy/151.black capped vireo/Black_Capped_Vireo_0003_797467.jpg     \b\b\b\b 85%\b\b\b\b\b  OK \n",
      "Extracting  Used data set - Copy/151.black capped vireo/Black_Capped_Vireo_0004_797476.jpg     \b\b\b\b 85%\b\b\b\b\b  OK \n",
      "Extracting  Used data set - Copy/151.black capped vireo/Black_Capped_Vireo_0005_797453.jpg     \b\b\b\b 86%\b\b\b\b\b  OK \n",
      "Extracting  Used data set - Copy/151.black capped vireo/Black_Capped_Vireo_0006_797491.jpg     \b\b\b\b 86%\b\b\b\b\b  OK \n",
      "Extracting  Used data set - Copy/151.black capped vireo/Black_Capped_Vireo_0007_797481.jpg     \b\b\b\b 86%\b\b\b\b\b  OK \n",
      "Extracting  Used data set - Copy/151.black capped vireo/Black_Capped_Vireo_0008_797454.jpg     \b\b\b\b 87%\b\b\b\b\b  OK \n",
      "Extracting  Used data set - Copy/151.black capped vireo/Black_Capped_Vireo_0009_797493.jpg     \b\b\b\b 87%\b\b\b\b\b  OK \n",
      "Extracting  Used data set - Copy/151.black capped vireo/Black_Capped_Vireo_0010_155832.jpg     \b\b\b\b 87%\b\b\b\b\b  OK \n",
      "Extracting  Used data set - Copy/151.black capped vireo/Black_Capped_Vireo_0011_797488.jpg     \b\b\b\b 88%\b\b\b\b\b  OK \n",
      "Extracting  Used data set - Copy/151.black capped vireo/Black_Capped_Vireo_0012_797473.jpg     \b\b\b\b 88%\b\b\b\b\b  OK \n",
      "Extracting  Used data set - Copy/151.black capped vireo/Black_Capped_Vireo_0013_155815.jpg     \b\b\b\b 88%\b\b\b\b\b  OK \n",
      "Extracting  Used data set - Copy/151.black capped vireo/Black_Capped_Vireo_0014_797462.jpg     \b\b\b\b 89%\b\b\b\b\b  OK \n",
      "Extracting  Used data set - Copy/151.black capped vireo/Black_Capped_Vireo_0015_797450.jpg     \b\b\b\b 89%\b\b\b\b\b  OK \n",
      "Extracting  Used data set - Copy/151.black capped vireo/Black_Capped_Vireo_0016_797489.jpg     \b\b\b\b 89%\b\b\b\b\b  OK \n",
      "Extracting  Used data set - Copy/151.black capped vireo/Black_Capped_Vireo_0017_797492.jpg     \b\b\b\b 89%\b\b\b\b\b  OK \n",
      "Extracting  Used data set - Copy/151.black capped vireo/Black_Capped_Vireo_0018_155868.jpg     \b\b\b\b 90%\b\b\b\b\b  OK \n",
      "Extracting  Used data set - Copy/151.black capped vireo/Black_Capped_Vireo_0019_797479.jpg     \b\b\b\b 90%\b\b\b\b\b  OK \n",
      "Extracting  Used data set - Copy/151.black capped vireo/Black_Capped_Vireo_0020_797461.jpg     \b\b\b\b 90%\b\b\b\b\b  OK \n",
      "Extracting  Used data set - Copy/151.black capped vireo/Black_Capped_Vireo_0021_797480.jpg     \b\b\b\b 90%\b\b\b\b\b  OK \n",
      "Extracting  Used data set - Copy/151.black capped vireo/Black_Capped_Vireo_0022_797459.jpg     \b\b\b\b 90%\b\b\b\b\b  OK \n",
      "Extracting  Used data set - Copy/151.black capped vireo/Black_Capped_Vireo_0023_797486.jpg     \b\b\b\b 91%\b\b\b\b\b  OK \n",
      "Extracting  Used data set - Copy/151.black capped vireo/Black_Capped_Vireo_0024_155905.jpg     \b\b\b\b 91%\b\b\b\b\b  OK \n",
      "Extracting  Used data set - Copy/151.black capped vireo/Black_Capped_Vireo_0026_155745.jpg     \b\b\b\b 91%\b\b\b\b\b  OK \n",
      "Extracting  Used data set - Copy/151.black capped vireo/Black_Capped_Vireo_0027_797455.jpg     \b\b\b\b 92%\b\b\b\b\b  OK \n",
      "Extracting  Used data set - Copy/151.black capped vireo/Black_Capped_Vireo_0028_155799.jpg     \b\b\b\b 92%\b\b\b\b\b  OK \n",
      "Extracting  Used data set - Copy/151.black capped vireo/Black_Capped_Vireo_0029_797469.jpg     \b\b\b\b 92%\b\b\b\b\b  OK \n",
      "Extracting  Used data set - Copy/151.black capped vireo/Black_Capped_Vireo_0030_155861.jpg     \b\b\b\b 93%\b\b\b\b\b  OK \n",
      "Extracting  Used data set - Copy/151.black capped vireo/Black_Capped_Vireo_0031_797446.jpg     \b\b\b\b 93%\b\b\b\b\b  OK \n",
      "Extracting  Used data set - Copy/151.black capped vireo/Black_Capped_Vireo_0032_797470.jpg     \b\b\b\b 93%\b\b\b\b\b  OK \n",
      "Extracting  Used data set - Copy/151.black capped vireo/Black_Capped_Vireo_0033_797474.jpg     \b\b\b\b 94%\b\b\b\b\b  OK \n",
      "Extracting  Used data set - Copy/151.black capped vireo/Black_Capped_Vireo_0034_797448.jpg     \b\b\b\b 94%\b\b\b\b\b  OK \n",
      "Extracting  Used data set - Copy/151.black capped vireo/Black_Capped_Vireo_0035_797471.jpg     \b\b\b\b 94%\b\b\b\b\b  OK \n",
      "Extracting  Used data set - Copy/151.black capped vireo/Black_Capped_Vireo_0036_797475.jpg     \b\b\b\b 95%\b\b\b\b\b  OK \n",
      "Extracting  Used data set - Copy/151.black capped vireo/Black_Capped_Vireo_0037_797495.jpg     \b\b\b\b 95%\b\b\b\b\b  OK \n",
      "Extracting  Used data set - Copy/151.black capped vireo/Black_Capped_Vireo_0038_797465.jpg     \b\b\b\b 95%\b\b\b\b\b  OK \n",
      "Extracting  Used data set - Copy/151.black capped vireo/Black_Capped_Vireo_0039_797451.jpg     \b\b\b\b 95%\b\b\b\b\b  OK \n",
      "Extracting  Used data set - Copy/151.black capped vireo/Black_Capped_Vireo_0040_797463.jpg     \b\b\b\b 96%\b\b\b\b\b  OK \n",
      "Extracting  Used data set - Copy/151.black capped vireo/Black_Capped_Vireo_0041_797452.jpg     \b\b\b\b 96%\b\b\b\b\b  OK \n",
      "Extracting  Used data set - Copy/151.black capped vireo/Black_Capped_Vireo_0042_797483.jpg     \b\b\b\b 96%\b\b\b\b\b  OK \n",
      "Extracting  Used data set - Copy/151.black capped vireo/Black_Capped_Vireo_0043_797458.jpg     \b\b\b\b 96%\b\b\b\b\b  OK \n",
      "Extracting  Used data set - Copy/151.black capped vireo/Black_Capped_Vireo_0044_155819.jpg     \b\b\b\b 97%\b\b\b\b\b  OK \n",
      "Extracting  Used data set - Copy/151.black capped vireo/Black_Capped_Vireo_0045_797464.jpg     \b\b\b\b 97%\b\b\b\b\b  OK \n",
      "Extracting  Used data set - Copy/151.black capped vireo/Black_Capped_Vireo_0046_797494.jpg     \b\b\b\b 97%\b\b\b\b\b  OK \n",
      "Extracting  Used data set - Copy/151.black capped vireo/Black_Capped_Vireo_0047_155743.jpg     \b\b\b\b 98%\b\b\b\b\b  OK \n",
      "Extracting  Used data set - Copy/151.black capped vireo/Black_Capped_Vireo_0048_797449.jpg     \b\b\b\b 98%\b\b\b\b\b  OK \n",
      "Extracting  Used data set - Copy/151.black capped vireo/Black_Capped_Vireo_0049_797468.jpg     \b\b\b\b 98%\b\b\b\b\b  OK \n",
      "Extracting  Used data set - Copy/151.black capped vireo/Black_Capped_Vireo_0050_155836.jpg     \b\b\b\b 99%\b\b\b\b\b  OK \n",
      "Extracting  Used data set - Copy/151.black capped vireo/Black_Capped_Vireo_0051_797456.jpg     \b\b\b\b 99%\b\b\b\b\b  OK \n",
      "Extracting  Used data set - Copy/151.black capped vireo/Black_Capped_Vireo_0052_797487.jpg     \b\b\b\b 99%\b\b\b\b\b  OK \n",
      "Extracting  Used data set - Copy/151.black capped vireo/Black_Capped_Vireo_0053_797478.jpg     \b\b\b\b 99%\b\b\b\b\b  OK \n",
      "All OK\n"
     ]
    }
   ],
   "source": [
    "!unrar x \"/content/Used data set - Copy\""
   ]
  },
  {
   "cell_type": "markdown",
   "metadata": {},
   "source": [
    "### Exploratory Data Analysis"
   ]
  },
  {
   "cell_type": "code",
   "execution_count": 6,
   "metadata": {
    "colab": {
     "base_uri": "https://localhost:8080/",
     "height": 269
    },
    "colab_type": "code",
    "id": "62a6a4nHpSBH",
    "outputId": "fd40c9fd-f5cd-4187-ae7b-c17f8374c186"
   },
   "outputs": [
    {
     "data": {
      "image/png": "[encoded data removed]",
      "text/plain": [
       "<Figure size 432x288 with 1 Axes>"
      ]
     },
     "metadata": {
      "needs_background": "light",
      "tags": []
     },
     "output_type": "display_data"
    }
   ],
   "source": [
    "DATADIR=\"Used data set - Copy\"\n",
    "CATEGORIES=[\"002.laysan albatross\",\"010.red winged blackbird\",\"041.scissor tailed flycatcher\",\"114.black throated sparrow\",\n",
    "            \"126.nelson sharp tailed sparrow\",\"130.tree sparrow\",\"151.black capped vireo\"]\n",
    "for category in CATEGORIES:\n",
    "    path=os.path.join(DATADIR,category)\n",
    "    for img in os.listdir(path):\n",
    "        img_array=cv2.imread(os.path.join(path,img))\n",
    "        plt.imshow(img_array)\n",
    "        plt.show()\n",
    "        break\n",
    "    break\n",
    "    "
   ]
  },
  {
   "cell_type": "code",
   "execution_count": 8,
   "metadata": {
    "colab": {
     "base_uri": "https://localhost:8080/",
     "height": 36
    },
    "colab_type": "code",
    "id": "1FIsqqxDpSBp",
    "outputId": "4f6cbef1-9efb-4d2e-ecbf-951c030e9c85"
   },
   "outputs": [
    {
     "name": "stdout",
     "output_type": "stream",
     "text": [
      "(500, 500, 3)\n"
     ]
    }
   ],
   "source": [
    "print(img_array.shape)"
   ]
  },
  {
   "cell_type": "code",
   "execution_count": 78,
   "metadata": {
    "colab": {
     "base_uri": "https://localhost:8080/",
     "height": 268
    },
    "colab_type": "code",
    "id": "OLMEZWRppSBv",
    "outputId": "e1f7592d-5476-4bd6-99c7-b6dae0c5fb6e"
   },
   "outputs": [
    {
     "data": {
      "image/png": "[encoded data removed]",
      "text/plain": [
       "<Figure size 432x288 with 1 Axes>"
      ]
     },
     "metadata": {
      "needs_background": "light",
      "tags": []
     },
     "output_type": "display_data"
    }
   ],
   "source": [
    "img_size=70\n",
    "new_array=cv2.resize(img_array,(img_size,img_size))\n",
    "plt.imshow(new_array)\n",
    "plt.show()"
   ]
  },
  {
   "cell_type": "code",
   "execution_count": 79,
   "metadata": {
    "colab": {},
    "colab_type": "code",
    "id": "kQyz5hJbpSB3"
   },
   "outputs": [],
   "source": [
    "training_data=[]\n",
    "img_size=70\n",
    "\n",
    "def create_training_data():\n",
    "    for category in CATEGORIES:\n",
    "        path=os.path.join(DATADIR,category)\n",
    "        class_num=CATEGORIES.index(category)\n",
    "        for img in os.listdir(path):\n",
    "            try:\n",
    "                img_array=cv2.imread(os.path.join(path,img))\n",
    "                new_array=cv2.resize(img_array,(img_size,img_size))\n",
    "                training_data.append([new_array,class_num])\n",
    "                \n",
    "            except Exception as e:\n",
    "                pass\n",
    "            \n",
    "create_training_data()"
   ]
  },
  {
   "cell_type": "code",
   "execution_count": 80,
   "metadata": {
    "colab": {
     "base_uri": "https://localhost:8080/",
     "height": 36
    },
    "colab_type": "code",
    "id": "NM_4bYlzpSCA",
    "outputId": "6cc75466-a41b-440c-fea2-cf4605b54122"
   },
   "outputs": [
    {
     "name": "stdout",
     "output_type": "stream",
     "text": [
      "410\n"
     ]
    }
   ],
   "source": [
    "print(len(training_data))"
   ]
  },
  {
   "cell_type": "code",
   "execution_count": 81,
   "metadata": {
    "colab": {
     "base_uri": "https://localhost:8080/",
     "height": 36
    },
    "colab_type": "code",
    "id": "1c4jDkFHpSCL",
    "outputId": "af34b4ac-1b07-470c-8f4a-cbd1a406cada"
   },
   "outputs": [
    {
     "data": {
      "text/plain": [
       "(70, 70, 3)"
      ]
     },
     "execution_count": 81,
     "metadata": {
      "tags": []
     },
     "output_type": "execute_result"
    }
   ],
   "source": [
    "a=training_data[0][0]\n",
    "a.shape"
   ]
  },
  {
   "cell_type": "code",
   "execution_count": 82,
   "metadata": {
    "colab": {
     "base_uri": "https://localhost:8080/",
     "height": 287
    },
    "colab_type": "code",
    "id": "OD5QHXWHpSCT",
    "outputId": "d5f18ec1-0f1a-4294-d719-2978b5528655"
   },
   "outputs": [
    {
     "data": {
      "text/plain": [
       "<matplotlib.image.AxesImage at 0x7f72bb678128>"
      ]
     },
     "execution_count": 82,
     "metadata": {
      "tags": []
     },
     "output_type": "execute_result"
    },
    {
     "data": {
      "image/png": "[encoded data removed]",
      "text/plain": [
       "<Figure size 432x288 with 1 Axes>"
      ]
     },
     "metadata": {
      "needs_background": "light",
      "tags": []
     },
     "output_type": "display_data"
    }
   ],
   "source": [
    "plt.imshow(a)"
   ]
  },
  {
   "cell_type": "code",
   "execution_count": 83,
   "metadata": {
    "colab": {},
    "colab_type": "code",
    "id": "J0frjTeapSCf"
   },
   "outputs": [],
   "source": [
    "import random\n",
    "random.shuffle(training_data)"
   ]
  },
  {
   "cell_type": "code",
   "execution_count": 84,
   "metadata": {
    "colab": {
     "base_uri": "https://localhost:8080/",
     "height": 287
    },
    "colab_type": "code",
    "id": "1Lo8mlbOpSCl",
    "outputId": "fb87a2c2-aa84-4aaa-d217-559a774eea5d"
   },
   "outputs": [
    {
     "data": {
      "text/plain": [
       "<matplotlib.image.AxesImage at 0x7f72bb65e160>"
      ]
     },
     "execution_count": 84,
     "metadata": {
      "tags": []
     },
     "output_type": "execute_result"
    },
    {
     "data": {
      "image/png": "[encoded data removed]",
      "text/plain": [
       "<Figure size 432x288 with 1 Axes>"
      ]
     },
     "metadata": {
      "needs_background": "light",
      "tags": []
     },
     "output_type": "display_data"
    }
   ],
   "source": [
    "b=training_data[0][0]\n",
    "plt.imshow(b)"
   ]
  },
  {
   "cell_type": "code",
   "execution_count": 85,
   "metadata": {
    "colab": {
     "base_uri": "https://localhost:8080/",
     "height": 268
    },
    "colab_type": "code",
    "id": "HS2VltUjpSCv",
    "outputId": "78e62c64-9477-4abe-c0d2-ef79915be4cc"
   },
   "outputs": [
    {
     "data": {
      "image/png": "[encoded data removed]",
      "text/plain": [
       "<Figure size 432x288 with 1 Axes>"
      ]
     },
     "metadata": {
      "needs_background": "light",
      "tags": []
     },
     "output_type": "display_data"
    }
   ],
   "source": [
    "img_size=70\n",
    "new_array=cv2.resize(b,(img_size,img_size))\n",
    "plt.imshow(new_array)\n",
    "plt.show()"
   ]
  },
  {
   "cell_type": "code",
   "execution_count": 86,
   "metadata": {
    "colab": {},
    "colab_type": "code",
    "id": "WP0K5C0JpSC2"
   },
   "outputs": [],
   "source": [
    "X=[]\n",
    "y=[]\n",
    "\n",
    "for features,label in training_data:\n",
    "    X.append(features)\n",
    "    y.append(label)\n",
    "    \n",
    "X=np.array(X).reshape(-1,70,70,3)"
   ]
  },
  {
   "cell_type": "markdown",
   "metadata": {},
   "source": [
    "### Saving the data after Feature Engineering"
   ]
  },
  {
   "cell_type": "code",
   "execution_count": 87,
   "metadata": {
    "colab": {},
    "colab_type": "code",
    "id": "UWAwvcWcpSC7"
   },
   "outputs": [],
   "source": [
    "import pickle\n",
    "\n",
    "pickle_out=open(\"X.pickle\",\"wb\")\n",
    "pickle.dump(X,pickle_out)\n",
    "pickle_out.close()\n",
    "\n",
    "pickle_out=open(\"y.pickle\",\"wb\")\n",
    "pickle.dump(y,pickle_out)\n",
    "pickle_out.close()"
   ]
  },
  {
   "cell_type": "code",
   "execution_count": 88,
   "metadata": {
    "colab": {},
    "colab_type": "code",
    "id": "e4q4zYyrpSDB"
   },
   "outputs": [],
   "source": [
    "pickle_in=open(\"X.pickle\",\"rb\")\n",
    "X=pickle.load(pickle_in)"
   ]
  },
  {
   "cell_type": "code",
   "execution_count": 89,
   "metadata": {
    "colab": {
     "base_uri": "https://localhost:8080/",
     "height": 287
    },
    "colab_type": "code",
    "id": "24tEUD8npSDG",
    "outputId": "e2d8ed24-aeac-4ad4-f536-0a22711546bb"
   },
   "outputs": [
    {
     "data": {
      "text/plain": [
       "<matplotlib.image.AxesImage at 0x7f72bb526390>"
      ]
     },
     "execution_count": 89,
     "metadata": {
      "tags": []
     },
     "output_type": "execute_result"
    },
    {
     "data": {
      "image/png": "[encoded data removed]",
      "text/plain": [
       "<Figure size 432x288 with 1 Axes>"
      ]
     },
     "metadata": {
      "needs_background": "light",
      "tags": []
     },
     "output_type": "display_data"
    }
   ],
   "source": [
    "plt.imshow(X[0])"
   ]
  },
  {
   "cell_type": "code",
   "execution_count": 90,
   "metadata": {
    "colab": {},
    "colab_type": "code",
    "id": "6-unQyfUpSDL"
   },
   "outputs": [],
   "source": [
    "import pickle\n",
    "X=pickle.load(open(\"X.pickle\",\"rb\"))\n",
    "y=pickle.load(open(\"y.pickle\",\"rb\"))"
   ]
  },
  {
   "cell_type": "markdown",
   "metadata": {},
   "source": [
    "### Categorization"
   ]
  },
  {
   "cell_type": "code",
   "execution_count": 91,
   "metadata": {
    "colab": {},
    "colab_type": "code",
    "id": "cK44mi_kpSDU"
   },
   "outputs": [],
   "source": [
    "from tensorflow.keras.utils import to_categorical"
   ]
  },
  {
   "cell_type": "code",
   "execution_count": 92,
   "metadata": {
    "colab": {},
    "colab_type": "code",
    "id": "JVlMX1TYpSDa"
   },
   "outputs": [],
   "source": [
    "y=to_categorical(y,7)"
   ]
  },
  {
   "cell_type": "code",
   "execution_count": 93,
   "metadata": {
    "colab": {
     "base_uri": "https://localhost:8080/",
     "height": 36
    },
    "colab_type": "code",
    "id": "g41xOX0upSDf",
    "outputId": "ad1f17eb-d7c9-470c-8170-461b17f6f4f1"
   },
   "outputs": [
    {
     "data": {
      "text/plain": [
       "array([0., 0., 0., 0., 0., 0., 1.], dtype=float32)"
      ]
     },
     "execution_count": 93,
     "metadata": {
      "tags": []
     },
     "output_type": "execute_result"
    }
   ],
   "source": [
    "y[0]"
   ]
  },
  {
   "cell_type": "code",
   "execution_count": 94,
   "metadata": {
    "colab": {},
    "colab_type": "code",
    "id": "CJmlnHNMpSDl"
   },
   "outputs": [],
   "source": [
    "X=X/255"
   ]
  },
  {
   "cell_type": "code",
   "execution_count": 95,
   "metadata": {
    "colab": {
     "base_uri": "https://localhost:8080/",
     "height": 36
    },
    "colab_type": "code",
    "id": "V6qyh8CtpSDq",
    "outputId": "64968fcb-0033-4407-e00d-5b3a18c9ca22"
   },
   "outputs": [
    {
     "data": {
      "text/plain": [
       "0.984313725490196"
      ]
     },
     "execution_count": 95,
     "metadata": {
      "tags": []
     },
     "output_type": "execute_result"
    }
   ],
   "source": [
    "s=X[0]\n",
    "s.max()"
   ]
  },
  {
   "cell_type": "code",
   "execution_count": 96,
   "metadata": {
    "colab": {
     "base_uri": "https://localhost:8080/",
     "height": 36
    },
    "colab_type": "code",
    "id": "Vf9gRHeepSDx",
    "outputId": "908afd0d-5503-403c-ee9d-845f65619188"
   },
   "outputs": [
    {
     "data": {
      "text/plain": [
       "(410, 70, 70, 3)"
      ]
     },
     "execution_count": 96,
     "metadata": {
      "tags": []
     },
     "output_type": "execute_result"
    }
   ],
   "source": [
    "X.shape"
   ]
  },
  {
   "cell_type": "code",
   "execution_count": 97,
   "metadata": {
    "colab": {
     "base_uri": "https://localhost:8080/",
     "height": 287
    },
    "colab_type": "code",
    "id": "y9vl5TJMpSD4",
    "outputId": "dc41cc1b-c641-49d9-cefc-5db1ee46c35b"
   },
   "outputs": [
    {
     "data": {
      "text/plain": [
       "<matplotlib.image.AxesImage at 0x7f72bb502c88>"
      ]
     },
     "execution_count": 97,
     "metadata": {
      "tags": []
     },
     "output_type": "execute_result"
    },
    {
     "data": {
      "image/png": "[encoded data removed]",
      "text/plain": [
       "<Figure size 432x288 with 1 Axes>"
      ]
     },
     "metadata": {
      "needs_background": "light",
      "tags": []
     },
     "output_type": "display_data"
    }
   ],
   "source": [
    "\n",
    "plt.imshow(s)"
   ]
  },
  {
   "cell_type": "markdown",
   "metadata": {},
   "source": [
    "### Train Test Split"
   ]
  },
  {
   "cell_type": "code",
   "execution_count": 98,
   "metadata": {
    "colab": {},
    "colab_type": "code",
    "id": "vEjzKc3VpSD-"
   },
   "outputs": [],
   "source": [
    "from sklearn.model_selection import train_test_split"
   ]
  },
  {
   "cell_type": "code",
   "execution_count": 99,
   "metadata": {
    "colab": {},
    "colab_type": "code",
    "id": "WduMJKyApSEC"
   },
   "outputs": [],
   "source": [
    "X_train,X_test,y_train,y_test=train_test_split(X,y,test_size=0.2,random_state=42)"
   ]
  },
  {
   "cell_type": "code",
   "execution_count": 100,
   "metadata": {
    "colab": {},
    "colab_type": "code",
    "id": "i0kTA-WkpSEH"
   },
   "outputs": [],
   "source": [
    "X_train,X_validate,y_train,y_validate=train_test_split(X_train,y_train,test_size=0.125,random_state=142)"
   ]
  },
  {
   "cell_type": "code",
   "execution_count": 101,
   "metadata": {
    "colab": {
     "base_uri": "https://localhost:8080/",
     "height": 36
    },
    "colab_type": "code",
    "id": "h_u-IHFcpSEL",
    "outputId": "b811869e-8129-4b79-9679-fc52bf7bd00e"
   },
   "outputs": [
    {
     "data": {
      "text/plain": [
       "(287, 70, 70, 3)"
      ]
     },
     "execution_count": 101,
     "metadata": {
      "tags": []
     },
     "output_type": "execute_result"
    }
   ],
   "source": [
    "X_train.shape"
   ]
  },
  {
   "cell_type": "code",
   "execution_count": 102,
   "metadata": {
    "colab": {
     "base_uri": "https://localhost:8080/",
     "height": 287
    },
    "colab_type": "code",
    "id": "SQ8uOxGGpSEP",
    "outputId": "2cd65e27-49f8-4ab2-d90e-93def6ab57ad"
   },
   "outputs": [
    {
     "data": {
      "text/plain": [
       "<matplotlib.image.AxesImage at 0x7f72bd8c69e8>"
      ]
     },
     "execution_count": 102,
     "metadata": {
      "tags": []
     },
     "output_type": "execute_result"
    },
    {
     "data": {
      "image/png": "[encoded data removed]",
      "text/plain": [
       "<Figure size 432x288 with 1 Axes>"
      ]
     },
     "metadata": {
      "needs_background": "light",
      "tags": []
     },
     "output_type": "display_data"
    }
   ],
   "source": [
    "plt.imshow(X_train[0])"
   ]
  },
  {
   "cell_type": "code",
   "execution_count": 103,
   "metadata": {
    "colab": {
     "base_uri": "https://localhost:8080/",
     "height": 36
    },
    "colab_type": "code",
    "id": "ty39kqU8pSEV",
    "outputId": "393fb8ea-7e89-4a65-fe6b-af505ba56604"
   },
   "outputs": [
    {
     "data": {
      "text/plain": [
       "array([0., 1., 0., 0., 0., 0., 0.], dtype=float32)"
      ]
     },
     "execution_count": 103,
     "metadata": {
      "tags": []
     },
     "output_type": "execute_result"
    }
   ],
   "source": [
    "y_train[0]"
   ]
  },
  {
   "cell_type": "code",
   "execution_count": 104,
   "metadata": {
    "colab": {
     "base_uri": "https://localhost:8080/",
     "height": 36
    },
    "colab_type": "code",
    "id": "DWFL8TEwpSEa",
    "outputId": "1f6fc54a-a063-4733-8360-2ed61b2f3222"
   },
   "outputs": [
    {
     "data": {
      "text/plain": [
       "(41, 70, 70, 3)"
      ]
     },
     "execution_count": 104,
     "metadata": {
      "tags": []
     },
     "output_type": "execute_result"
    }
   ],
   "source": [
    "X_validate.shape"
   ]
  },
  {
   "cell_type": "code",
   "execution_count": 105,
   "metadata": {
    "colab": {
     "base_uri": "https://localhost:8080/",
     "height": 36
    },
    "colab_type": "code",
    "id": "DrVHZrTYpSEh",
    "outputId": "2592617a-d3aa-451d-b857-4c5b6aa8e255"
   },
   "outputs": [
    {
     "data": {
      "text/plain": [
       "(82, 70, 70, 3)"
      ]
     },
     "execution_count": 105,
     "metadata": {
      "tags": []
     },
     "output_type": "execute_result"
    }
   ],
   "source": [
    "X_test.shape"
   ]
  },
  {
   "cell_type": "markdown",
   "metadata": {},
   "source": [
    "### Saving Data after Categorization and Train Test Split\n",
    "Saving data at regular interval is good as it avoids doing fresh start."
   ]
  },
  {
   "cell_type": "code",
   "execution_count": 106,
   "metadata": {
    "colab": {},
    "colab_type": "code",
    "id": "eO8cJutwpSEm"
   },
   "outputs": [],
   "source": [
    "import pickle\n",
    "\n",
    "pickle_out=open(\"X_train.pickle\",\"wb\")\n",
    "pickle.dump(X_train,pickle_out)\n",
    "pickle_out.close()\n",
    "\n",
    "pickle_out=open(\"y_train.pickle\",\"wb\")\n",
    "pickle.dump(y_train,pickle_out)\n",
    "pickle_out.close()\n",
    "\n",
    "pickle_out=open(\"X_validate.pickle\",\"wb\")\n",
    "pickle.dump(X_validate,pickle_out)\n",
    "pickle_out.close()\n",
    "\n",
    "pickle_out=open(\"y_validate.pickle\",\"wb\")\n",
    "pickle.dump(y_validate,pickle_out)\n",
    "pickle_out.close()\n",
    "\n",
    "\n",
    "pickle_out=open(\"X_test.pickle\",\"wb\")\n",
    "pickle.dump(X_test,pickle_out)\n",
    "pickle_out.close()\n",
    "\n",
    "pickle_out=open(\"y_test.pickle\",\"wb\")\n",
    "pickle.dump(y_test,pickle_out)\n",
    "pickle_out.close()"
   ]
  },
  {
   "cell_type": "code",
   "execution_count": 142,
   "metadata": {
    "colab": {},
    "colab_type": "code",
    "id": "tT-YUdQepSEq"
   },
   "outputs": [],
   "source": [
    "import pickle\n",
    "X_train=pickle.load(open(\"X_train.pickle\",\"rb\"))\n",
    "y_train=pickle.load(open(\"y_train.pickle\",\"rb\"))\n",
    "\n",
    "X_validate=pickle.load(open(\"X_validate.pickle\",\"rb\"))\n",
    "y_validate=pickle.load(open(\"y_validate.pickle\",\"rb\"))\n",
    "\n",
    "X_test=pickle.load(open(\"X_test.pickle\",\"rb\"))\n",
    "y_test=pickle.load(open(\"y_test.pickle\",\"rb\"))\n"
   ]
  },
  {
   "cell_type": "code",
   "execution_count": 143,
   "metadata": {
    "colab": {
     "base_uri": "https://localhost:8080/",
     "height": 36
    },
    "colab_type": "code",
    "id": "sVRJPUo0pSEu",
    "outputId": "5a4aa014-cead-4fe2-cd7c-1d5f8eeda197"
   },
   "outputs": [
    {
     "data": {
      "text/plain": [
       "(287, 70, 70, 3)"
      ]
     },
     "execution_count": 143,
     "metadata": {
      "tags": []
     },
     "output_type": "execute_result"
    }
   ],
   "source": [
    "X_train.shape"
   ]
  },
  {
   "cell_type": "markdown",
   "metadata": {},
   "source": [
    "### Importing Tensorflow and Keras Libraries"
   ]
  },
  {
   "cell_type": "code",
   "execution_count": 144,
   "metadata": {
    "colab": {},
    "colab_type": "code",
    "id": "HCsFEra4pSEy"
   },
   "outputs": [],
   "source": [
    "import tensorflow as tf\n",
    "import math \n",
    "from tensorflow.keras.models import Sequential\n",
    "from tensorflow.keras.layers import Dense,Dropout,Activation,Flatten,Conv2D,MaxPooling2D,AveragePooling2D,BatchNormalization\n",
    "from tensorflow.keras.optimizers import SGD\n",
    "from tensorflow.keras.callbacks import LearningRateScheduler\n",
    "from tensorflow.keras.layers import LeakyReLU"
   ]
  },
  {
   "cell_type": "markdown",
   "metadata": {},
   "source": [
    "## Model Architecture"
   ]
  },
  {
   "cell_type": "code",
   "execution_count": 145,
   "metadata": {
    "colab": {
     "base_uri": "https://localhost:8080/",
     "height": 991
    },
    "colab_type": "code",
    "id": "Q5T2ULDwpSE2",
    "outputId": "79e49f3a-2c0e-435f-8f6a-2f56a18385e5"
   },
   "outputs": [
    {
     "name": "stdout",
     "output_type": "stream",
     "text": [
      "Model: \"sequential_8\"\n",
      "_________________________________________________________________\n",
      "Layer (type)                 Output Shape              Param #   \n",
      "=================================================================\n",
      "conv2d_16 (Conv2D)           (None, 68, 68, 4)         112       \n",
      "_________________________________________________________________\n",
      "leaky_re_lu_34 (LeakyReLU)   (None, 68, 68, 4)         0         \n",
      "_________________________________________________________________\n",
      "average_pooling2d_16 (Averag (None, 34, 34, 4)         0         \n",
      "_________________________________________________________________\n",
      "batch_normalization_38 (Batc (None, 34, 34, 4)         16        \n",
      "_________________________________________________________________\n",
      "conv2d_17 (Conv2D)           (None, 32, 32, 16)        592       \n",
      "_________________________________________________________________\n",
      "leaky_re_lu_35 (LeakyReLU)   (None, 32, 32, 16)        0         \n",
      "_________________________________________________________________\n",
      "average_pooling2d_17 (Averag (None, 16, 16, 16)        0         \n",
      "_________________________________________________________________\n",
      "batch_normalization_39 (Batc (None, 16, 16, 16)        64        \n",
      "_________________________________________________________________\n",
      "flatten_8 (Flatten)          (None, 4096)              0         \n",
      "_________________________________________________________________\n",
      "dense_26 (Dense)             (None, 2100)              8603700   \n",
      "_________________________________________________________________\n",
      "leaky_re_lu_36 (LeakyReLU)   (None, 2100)              0         \n",
      "_________________________________________________________________\n",
      "dropout_18 (Dropout)         (None, 2100)              0         \n",
      "_________________________________________________________________\n",
      "batch_normalization_40 (Batc (None, 2100)              8400      \n",
      "_________________________________________________________________\n",
      "dense_27 (Dense)             (None, 700)               1470700   \n",
      "_________________________________________________________________\n",
      "leaky_re_lu_37 (LeakyReLU)   (None, 700)               0         \n",
      "_________________________________________________________________\n",
      "dropout_19 (Dropout)         (None, 700)               0         \n",
      "_________________________________________________________________\n",
      "batch_normalization_41 (Batc (None, 700)               2800      \n",
      "_________________________________________________________________\n",
      "dense_28 (Dense)             (None, 70)                49070     \n",
      "_________________________________________________________________\n",
      "leaky_re_lu_38 (LeakyReLU)   (None, 70)                0         \n",
      "_________________________________________________________________\n",
      "dropout_20 (Dropout)         (None, 70)                0         \n",
      "_________________________________________________________________\n",
      "batch_normalization_42 (Batc (None, 70)                280       \n",
      "_________________________________________________________________\n",
      "dense_29 (Dense)             (None, 7)                 497       \n",
      "=================================================================\n",
      "Total params: 10,136,231\n",
      "Trainable params: 10,130,451\n",
      "Non-trainable params: 5,780\n",
      "_________________________________________________________________\n"
     ]
    }
   ],
   "source": [
    "# Model Making\n",
    "model=Sequential()\n",
    "model.add(Conv2D(filters=4,kernel_size=(3,3),input_shape=(70,70,3)))\n",
    "model.add(LeakyReLU(alpha=0.1))\n",
    "\n",
    "\n",
    "model.add(AveragePooling2D(pool_size=(2,2),strides=2))\n",
    "model.add(BatchNormalization())\n",
    "\n",
    "model.add(Conv2D(filters=16,kernel_size=(3,3)))\n",
    "model.add(LeakyReLU(alpha=0.1))\n",
    "\n",
    "\n",
    "model.add(AveragePooling2D(pool_size=(2,2),strides=2))\n",
    "model.add(BatchNormalization())\n",
    "\n",
    "model.add(Flatten( ))\n",
    "\n",
    "model.add(Dense(2100))\n",
    "model.add(LeakyReLU(alpha=0.1))\n",
    "model.add(Dropout(0.7))\n",
    "model.add(BatchNormalization())\n",
    "\n",
    "model.add(Dense(700))\n",
    "model.add(LeakyReLU(alpha=0.1))\n",
    "model.add(Dropout(0.4))\n",
    "model.add(BatchNormalization())\n",
    "\n",
    "\n",
    "model.add(Dense(70))\n",
    "model.add(LeakyReLU(alpha=0.1))\n",
    "model.add(Dropout(0.4))\n",
    "model.add(BatchNormalization())\n",
    "#output layer\n",
    "model.add(Dense(7,activation='softmax'))\n",
    "\n",
    "epochs = 250\n",
    "initial_lrate = 0.01\n",
    "\n",
    "def decay(epoch, steps=100):\n",
    "    initial_lrate = 0.01\n",
    "    drop = 0.96\n",
    "    epochs_drop = 8\n",
    "    lrate = initial_lrate * math.pow(drop, math.floor((1+epoch)/epochs_drop))\n",
    "    return lrate\n",
    "\n",
    "sgd = SGD(lr=initial_lrate, momentum=0.9, nesterov=True)\n",
    "\n",
    "lr_sc = LearningRateScheduler(decay, verbose=1)\n",
    "\n",
    "model.compile(loss=['categorical_crossentropy'], loss_weights=[1], optimizer=sgd, metrics=['accuracy'])\n",
    "# summarize model\n",
    "model.summary()"
   ]
  },
  {
   "cell_type": "markdown",
   "metadata": {},
   "source": [
    "### Training the Model"
   ]
  },
  {
   "cell_type": "code",
   "execution_count": 146,
   "metadata": {
    "colab": {
     "base_uri": "https://localhost:8080/",
     "height": 1000
    },
    "colab_type": "code",
    "id": "77nV2O5SsG75",
    "outputId": "a1b32cce-f312-403b-f1a9-7bdf11c54d4f"
   },
   "outputs": [
    {
     "name": "stdout",
     "output_type": "stream",
     "text": [
      "\n",
      "Epoch 00001: LearningRateScheduler reducing learning rate to 0.01.\n",
      "Epoch 1/250\n",
      "18/18 [==============================] - 0s 22ms/step - loss: 2.4787 - accuracy: 0.1812 - val_loss: 11.5795 - val_accuracy: 0.0976 - lr: 0.0100\n",
      "\n",
      "Epoch 00002: LearningRateScheduler reducing learning rate to 0.01.\n",
      "Epoch 2/250\n",
      "18/18 [==============================] - 0s 9ms/step - loss: 2.0395 - accuracy: 0.2718 - val_loss: 15.4601 - val_accuracy: 0.1220 - lr: 0.0100\n",
      "\n",
      "Epoch 00003: LearningRateScheduler reducing learning rate to 0.01.\n",
      "Epoch 3/250\n",
      "18/18 [==============================] - 0s 10ms/step - loss: 1.8442 - accuracy: 0.3066 - val_loss: 5.5646 - val_accuracy: 0.1707 - lr: 0.0100\n",
      "\n",
      "Epoch 00004: LearningRateScheduler reducing learning rate to 0.01.\n",
      "Epoch 4/250\n",
      "18/18 [==============================] - 0s 12ms/step - loss: 1.7710 - accuracy: 0.2892 - val_loss: 3.1385 - val_accuracy: 0.2195 - lr: 0.0100\n",
      "\n",
      "Epoch 00005: LearningRateScheduler reducing learning rate to 0.01.\n",
      "Epoch 5/250\n",
      "18/18 [==============================] - 0s 10ms/step - loss: 1.8015 - accuracy: 0.3101 - val_loss: 2.2924 - val_accuracy: 0.2683 - lr: 0.0100\n",
      "\n",
      "Epoch 00006: LearningRateScheduler reducing learning rate to 0.01.\n",
      "Epoch 6/250\n",
      "18/18 [==============================] - 0s 9ms/step - loss: 1.7137 - accuracy: 0.3484 - val_loss: 2.2023 - val_accuracy: 0.2195 - lr: 0.0100\n",
      "\n",
      "Epoch 00007: LearningRateScheduler reducing learning rate to 0.01.\n",
      "Epoch 7/250\n",
      "18/18 [==============================] - 0s 9ms/step - loss: 1.6692 - accuracy: 0.3868 - val_loss: 2.0171 - val_accuracy: 0.2927 - lr: 0.0100\n",
      "\n",
      "Epoch 00008: LearningRateScheduler reducing learning rate to 0.0096.\n",
      "Epoch 8/250\n",
      "18/18 [==============================] - 0s 9ms/step - loss: 1.6470 - accuracy: 0.3484 - val_loss: 1.8220 - val_accuracy: 0.1951 - lr: 0.0096\n",
      "\n",
      "Epoch 00009: LearningRateScheduler reducing learning rate to 0.0096.\n",
      "Epoch 9/250\n",
      "18/18 [==============================] - 0s 9ms/step - loss: 1.6368 - accuracy: 0.3659 - val_loss: 1.7901 - val_accuracy: 0.2439 - lr: 0.0096\n",
      "\n",
      "Epoch 00010: LearningRateScheduler reducing learning rate to 0.0096.\n",
      "Epoch 10/250\n",
      "18/18 [==============================] - 0s 10ms/step - loss: 1.6202 - accuracy: 0.3589 - val_loss: 1.7236 - val_accuracy: 0.2927 - lr: 0.0096\n",
      "\n",
      "Epoch 00011: LearningRateScheduler reducing learning rate to 0.0096.\n",
      "Epoch 11/250\n",
      "18/18 [==============================] - 0s 9ms/step - loss: 1.5589 - accuracy: 0.3902 - val_loss: 1.7619 - val_accuracy: 0.2439 - lr: 0.0096\n",
      "\n",
      "Epoch 00012: LearningRateScheduler reducing learning rate to 0.0096.\n",
      "Epoch 12/250\n",
      "18/18 [==============================] - 0s 9ms/step - loss: 1.5932 - accuracy: 0.3833 - val_loss: 1.7795 - val_accuracy: 0.3171 - lr: 0.0096\n",
      "\n",
      "Epoch 00013: LearningRateScheduler reducing learning rate to 0.0096.\n",
      "Epoch 13/250\n",
      "18/18 [==============================] - 0s 9ms/step - loss: 1.5123 - accuracy: 0.4286 - val_loss: 1.7195 - val_accuracy: 0.2927 - lr: 0.0096\n",
      "\n",
      "Epoch 00014: LearningRateScheduler reducing learning rate to 0.0096.\n",
      "Epoch 14/250\n",
      "18/18 [==============================] - 0s 9ms/step - loss: 1.4889 - accuracy: 0.4216 - val_loss: 1.7226 - val_accuracy: 0.3415 - lr: 0.0096\n",
      "\n",
      "Epoch 00015: LearningRateScheduler reducing learning rate to 0.0096.\n",
      "Epoch 15/250\n",
      "18/18 [==============================] - 0s 10ms/step - loss: 1.6297 - accuracy: 0.3449 - val_loss: 1.7117 - val_accuracy: 0.3659 - lr: 0.0096\n",
      "\n",
      "Epoch 00016: LearningRateScheduler reducing learning rate to 0.009216.\n",
      "Epoch 16/250\n",
      "18/18 [==============================] - 0s 10ms/step - loss: 1.5472 - accuracy: 0.3763 - val_loss: 1.8373 - val_accuracy: 0.3171 - lr: 0.0092\n",
      "\n",
      "Epoch 00017: LearningRateScheduler reducing learning rate to 0.009216.\n",
      "Epoch 17/250\n",
      "18/18 [==============================] - 0s 9ms/step - loss: 1.5057 - accuracy: 0.4495 - val_loss: 1.8732 - val_accuracy: 0.2927 - lr: 0.0092\n",
      "\n",
      "Epoch 00018: LearningRateScheduler reducing learning rate to 0.009216.\n",
      "Epoch 18/250\n",
      "18/18 [==============================] - 0s 9ms/step - loss: 1.4232 - accuracy: 0.4634 - val_loss: 1.7665 - val_accuracy: 0.3415 - lr: 0.0092\n",
      "\n",
      "Epoch 00019: LearningRateScheduler reducing learning rate to 0.009216.\n",
      "Epoch 19/250\n",
      "18/18 [==============================] - 0s 9ms/step - loss: 1.4290 - accuracy: 0.4530 - val_loss: 1.7438 - val_accuracy: 0.3659 - lr: 0.0092\n",
      "\n",
      "Epoch 00020: LearningRateScheduler reducing learning rate to 0.009216.\n",
      "Epoch 20/250\n",
      "18/18 [==============================] - 0s 9ms/step - loss: 1.3814 - accuracy: 0.4704 - val_loss: 1.7515 - val_accuracy: 0.2927 - lr: 0.0092\n",
      "\n",
      "Epoch 00021: LearningRateScheduler reducing learning rate to 0.009216.\n",
      "Epoch 21/250\n",
      "18/18 [==============================] - 0s 10ms/step - loss: 1.3645 - accuracy: 0.4669 - val_loss: 1.7886 - val_accuracy: 0.2683 - lr: 0.0092\n",
      "\n",
      "Epoch 00022: LearningRateScheduler reducing learning rate to 0.009216.\n",
      "Epoch 22/250\n",
      "18/18 [==============================] - 0s 10ms/step - loss: 1.3998 - accuracy: 0.4425 - val_loss: 1.8291 - val_accuracy: 0.2439 - lr: 0.0092\n",
      "\n",
      "Epoch 00023: LearningRateScheduler reducing learning rate to 0.009216.\n",
      "Epoch 23/250\n",
      "18/18 [==============================] - 0s 10ms/step - loss: 1.3058 - accuracy: 0.4808 - val_loss: 1.7460 - val_accuracy: 0.2683 - lr: 0.0092\n",
      "\n",
      "Epoch 00024: LearningRateScheduler reducing learning rate to 0.008847359999999999.\n",
      "Epoch 24/250\n",
      "18/18 [==============================] - 0s 9ms/step - loss: 1.2793 - accuracy: 0.5087 - val_loss: 1.7201 - val_accuracy: 0.2439 - lr: 0.0088\n",
      "\n",
      "Epoch 00025: LearningRateScheduler reducing learning rate to 0.008847359999999999.\n",
      "Epoch 25/250\n",
      "18/18 [==============================] - 0s 9ms/step - loss: 1.2379 - accuracy: 0.5192 - val_loss: 1.7154 - val_accuracy: 0.3171 - lr: 0.0088\n",
      "\n",
      "Epoch 00026: LearningRateScheduler reducing learning rate to 0.008847359999999999.\n",
      "Epoch 26/250\n",
      "18/18 [==============================] - 0s 10ms/step - loss: 1.1827 - accuracy: 0.5540 - val_loss: 1.9036 - val_accuracy: 0.2195 - lr: 0.0088\n",
      "\n",
      "Epoch 00027: LearningRateScheduler reducing learning rate to 0.008847359999999999.\n",
      "Epoch 27/250\n",
      "18/18 [==============================] - 0s 10ms/step - loss: 1.1635 - accuracy: 0.5645 - val_loss: 1.6970 - val_accuracy: 0.2683 - lr: 0.0088\n",
      "\n",
      "Epoch 00028: LearningRateScheduler reducing learning rate to 0.008847359999999999.\n",
      "Epoch 28/250\n",
      "18/18 [==============================] - 0s 9ms/step - loss: 1.1972 - accuracy: 0.5192 - val_loss: 2.1363 - val_accuracy: 0.2439 - lr: 0.0088\n",
      "\n",
      "Epoch 00029: LearningRateScheduler reducing learning rate to 0.008847359999999999.\n",
      "Epoch 29/250\n",
      "18/18 [==============================] - 0s 10ms/step - loss: 1.0438 - accuracy: 0.6202 - val_loss: 2.5823 - val_accuracy: 0.3171 - lr: 0.0088\n",
      "\n",
      "Epoch 00030: LearningRateScheduler reducing learning rate to 0.008847359999999999.\n",
      "Epoch 30/250\n",
      "18/18 [==============================] - 0s 9ms/step - loss: 1.0220 - accuracy: 0.5993 - val_loss: 1.8399 - val_accuracy: 0.3415 - lr: 0.0088\n",
      "\n",
      "Epoch 00031: LearningRateScheduler reducing learning rate to 0.008847359999999999.\n",
      "Epoch 31/250\n",
      "18/18 [==============================] - 0s 9ms/step - loss: 1.0078 - accuracy: 0.6307 - val_loss: 1.9613 - val_accuracy: 0.2927 - lr: 0.0088\n",
      "\n",
      "Epoch 00032: LearningRateScheduler reducing learning rate to 0.008493465599999998.\n",
      "Epoch 32/250\n",
      "18/18 [==============================] - 0s 10ms/step - loss: 0.9100 - accuracy: 0.6655 - val_loss: 1.9306 - val_accuracy: 0.2683 - lr: 0.0085\n",
      "\n",
      "Epoch 00033: LearningRateScheduler reducing learning rate to 0.008493465599999998.\n",
      "Epoch 33/250\n",
      "18/18 [==============================] - 0s 10ms/step - loss: 0.8752 - accuracy: 0.6690 - val_loss: 1.4565 - val_accuracy: 0.4390 - lr: 0.0085\n",
      "\n",
      "Epoch 00034: LearningRateScheduler reducing learning rate to 0.008493465599999998.\n",
      "Epoch 34/250\n",
      "18/18 [==============================] - 0s 9ms/step - loss: 0.8976 - accuracy: 0.6516 - val_loss: 2.3214 - val_accuracy: 0.2439 - lr: 0.0085\n",
      "\n",
      "Epoch 00035: LearningRateScheduler reducing learning rate to 0.008493465599999998.\n",
      "Epoch 35/250\n",
      "18/18 [==============================] - 0s 10ms/step - loss: 0.8095 - accuracy: 0.6829 - val_loss: 5.3135 - val_accuracy: 0.2195 - lr: 0.0085\n",
      "\n",
      "Epoch 00036: LearningRateScheduler reducing learning rate to 0.008493465599999998.\n",
      "Epoch 36/250\n",
      "18/18 [==============================] - 0s 9ms/step - loss: 0.7324 - accuracy: 0.7491 - val_loss: 1.9452 - val_accuracy: 0.4634 - lr: 0.0085\n",
      "\n",
      "Epoch 00037: LearningRateScheduler reducing learning rate to 0.008493465599999998.\n",
      "Epoch 37/250\n",
      "18/18 [==============================] - 0s 9ms/step - loss: 0.6564 - accuracy: 0.7700 - val_loss: 1.9770 - val_accuracy: 0.4390 - lr: 0.0085\n",
      "\n",
      "Epoch 00038: LearningRateScheduler reducing learning rate to 0.008493465599999998.\n",
      "Epoch 38/250\n",
      "18/18 [==============================] - 0s 9ms/step - loss: 0.7600 - accuracy: 0.7317 - val_loss: 2.6425 - val_accuracy: 0.4146 - lr: 0.0085\n",
      "\n",
      "Epoch 00039: LearningRateScheduler reducing learning rate to 0.008493465599999998.\n",
      "Epoch 39/250\n",
      "18/18 [==============================] - 0s 9ms/step - loss: 0.6034 - accuracy: 0.7944 - val_loss: 1.7865 - val_accuracy: 0.4634 - lr: 0.0085\n",
      "\n",
      "Epoch 00040: LearningRateScheduler reducing learning rate to 0.008153726976.\n",
      "Epoch 40/250\n",
      "18/18 [==============================] - 0s 9ms/step - loss: 0.6142 - accuracy: 0.7700 - val_loss: 2.2907 - val_accuracy: 0.2683 - lr: 0.0082\n",
      "\n",
      "Epoch 00041: LearningRateScheduler reducing learning rate to 0.008153726976.\n",
      "Epoch 41/250\n",
      "18/18 [==============================] - 0s 9ms/step - loss: 0.6273 - accuracy: 0.7561 - val_loss: 2.7871 - val_accuracy: 0.2927 - lr: 0.0082\n",
      "\n",
      "Epoch 00042: LearningRateScheduler reducing learning rate to 0.008153726976.\n",
      "Epoch 42/250\n",
      "18/18 [==============================] - 0s 10ms/step - loss: 0.5543 - accuracy: 0.7979 - val_loss: 2.5626 - val_accuracy: 0.3659 - lr: 0.0082\n",
      "\n",
      "Epoch 00043: LearningRateScheduler reducing learning rate to 0.008153726976.\n",
      "Epoch 43/250\n",
      "18/18 [==============================] - 0s 11ms/step - loss: 0.5412 - accuracy: 0.8153 - val_loss: 2.3565 - val_accuracy: 0.4390 - lr: 0.0082\n",
      "\n",
      "Epoch 00044: LearningRateScheduler reducing learning rate to 0.008153726976.\n",
      "Epoch 44/250\n",
      "18/18 [==============================] - 0s 10ms/step - loss: 0.4707 - accuracy: 0.8362 - val_loss: 2.3222 - val_accuracy: 0.2683 - lr: 0.0082\n",
      "\n",
      "Epoch 00045: LearningRateScheduler reducing learning rate to 0.008153726976.\n",
      "Epoch 45/250\n",
      "18/18 [==============================] - 0s 9ms/step - loss: 0.4008 - accuracy: 0.8815 - val_loss: 3.0155 - val_accuracy: 0.3415 - lr: 0.0082\n",
      "\n",
      "Epoch 00046: LearningRateScheduler reducing learning rate to 0.008153726976.\n",
      "Epoch 46/250\n",
      "18/18 [==============================] - 0s 9ms/step - loss: 0.3314 - accuracy: 0.8815 - val_loss: 2.1381 - val_accuracy: 0.3659 - lr: 0.0082\n",
      "\n",
      "Epoch 00047: LearningRateScheduler reducing learning rate to 0.008153726976.\n",
      "Epoch 47/250\n",
      "18/18 [==============================] - 0s 9ms/step - loss: 0.3628 - accuracy: 0.9024 - val_loss: 2.0755 - val_accuracy: 0.4634 - lr: 0.0082\n",
      "\n",
      "Epoch 00048: LearningRateScheduler reducing learning rate to 0.007827577896959998.\n",
      "Epoch 48/250\n",
      "18/18 [==============================] - 0s 9ms/step - loss: 0.3836 - accuracy: 0.8815 - val_loss: 2.5352 - val_accuracy: 0.4634 - lr: 0.0078\n",
      "\n",
      "Epoch 00049: LearningRateScheduler reducing learning rate to 0.007827577896959998.\n",
      "Epoch 49/250\n",
      "18/18 [==============================] - 0s 10ms/step - loss: 0.3477 - accuracy: 0.8711 - val_loss: 2.1052 - val_accuracy: 0.3902 - lr: 0.0078\n",
      "\n",
      "Epoch 00050: LearningRateScheduler reducing learning rate to 0.007827577896959998.\n",
      "Epoch 50/250\n",
      "18/18 [==============================] - 0s 9ms/step - loss: 0.3400 - accuracy: 0.8850 - val_loss: 2.5215 - val_accuracy: 0.4146 - lr: 0.0078\n",
      "\n",
      "Epoch 00051: LearningRateScheduler reducing learning rate to 0.007827577896959998.\n",
      "Epoch 51/250\n",
      "18/18 [==============================] - 0s 10ms/step - loss: 0.3406 - accuracy: 0.8850 - val_loss: 2.5191 - val_accuracy: 0.3902 - lr: 0.0078\n",
      "\n",
      "Epoch 00052: LearningRateScheduler reducing learning rate to 0.007827577896959998.\n",
      "Epoch 52/250\n",
      "18/18 [==============================] - 0s 9ms/step - loss: 0.2566 - accuracy: 0.9164 - val_loss: 2.5546 - val_accuracy: 0.3415 - lr: 0.0078\n",
      "\n",
      "Epoch 00053: LearningRateScheduler reducing learning rate to 0.007827577896959998.\n",
      "Epoch 53/250\n",
      "18/18 [==============================] - 0s 9ms/step - loss: 0.2844 - accuracy: 0.9024 - val_loss: 2.7780 - val_accuracy: 0.3902 - lr: 0.0078\n",
      "\n",
      "Epoch 00054: LearningRateScheduler reducing learning rate to 0.007827577896959998.\n",
      "Epoch 54/250\n",
      "18/18 [==============================] - 0s 11ms/step - loss: 0.2441 - accuracy: 0.9129 - val_loss: 2.7534 - val_accuracy: 0.3902 - lr: 0.0078\n",
      "\n",
      "Epoch 00055: LearningRateScheduler reducing learning rate to 0.007827577896959998.\n",
      "Epoch 55/250\n",
      "18/18 [==============================] - 0s 11ms/step - loss: 0.2319 - accuracy: 0.9129 - val_loss: 2.3519 - val_accuracy: 0.3659 - lr: 0.0078\n",
      "\n",
      "Epoch 00056: LearningRateScheduler reducing learning rate to 0.007514474781081598.\n",
      "Epoch 56/250\n",
      "18/18 [==============================] - 0s 10ms/step - loss: 0.2889 - accuracy: 0.9129 - val_loss: 2.5976 - val_accuracy: 0.4390 - lr: 0.0075\n",
      "\n",
      "Epoch 00057: LearningRateScheduler reducing learning rate to 0.007514474781081598.\n",
      "Epoch 57/250\n",
      "18/18 [==============================] - 0s 9ms/step - loss: 0.2364 - accuracy: 0.9164 - val_loss: 2.3482 - val_accuracy: 0.3902 - lr: 0.0075\n",
      "\n",
      "Epoch 00058: LearningRateScheduler reducing learning rate to 0.007514474781081598.\n",
      "Epoch 58/250\n",
      "18/18 [==============================] - 0s 9ms/step - loss: 0.1962 - accuracy: 0.9268 - val_loss: 2.2593 - val_accuracy: 0.4390 - lr: 0.0075\n",
      "\n",
      "Epoch 00059: LearningRateScheduler reducing learning rate to 0.007514474781081598.\n",
      "Epoch 59/250\n",
      "18/18 [==============================] - 0s 10ms/step - loss: 0.2020 - accuracy: 0.9338 - val_loss: 2.5342 - val_accuracy: 0.4146 - lr: 0.0075\n",
      "\n",
      "Epoch 00060: LearningRateScheduler reducing learning rate to 0.007514474781081598.\n",
      "Epoch 60/250\n",
      "18/18 [==============================] - 0s 10ms/step - loss: 0.2268 - accuracy: 0.9373 - val_loss: 2.8476 - val_accuracy: 0.3415 - lr: 0.0075\n",
      "\n",
      "Epoch 00061: LearningRateScheduler reducing learning rate to 0.007514474781081598.\n",
      "Epoch 61/250\n",
      "18/18 [==============================] - 0s 9ms/step - loss: 0.2211 - accuracy: 0.9373 - val_loss: 2.4056 - val_accuracy: 0.3902 - lr: 0.0075\n",
      "\n",
      "Epoch 00062: LearningRateScheduler reducing learning rate to 0.007514474781081598.\n",
      "Epoch 62/250\n",
      "18/18 [==============================] - 0s 9ms/step - loss: 0.1768 - accuracy: 0.9408 - val_loss: 2.7451 - val_accuracy: 0.4146 - lr: 0.0075\n",
      "\n",
      "Epoch 00063: LearningRateScheduler reducing learning rate to 0.007514474781081598.\n",
      "Epoch 63/250\n",
      "18/18 [==============================] - 0s 9ms/step - loss: 0.2416 - accuracy: 0.9233 - val_loss: 2.6364 - val_accuracy: 0.4146 - lr: 0.0075\n",
      "\n",
      "Epoch 00064: LearningRateScheduler reducing learning rate to 0.007213895789838334.\n",
      "Epoch 64/250\n",
      "18/18 [==============================] - 0s 9ms/step - loss: 0.2073 - accuracy: 0.9303 - val_loss: 2.6611 - val_accuracy: 0.4146 - lr: 0.0072\n",
      "\n",
      "Epoch 00065: LearningRateScheduler reducing learning rate to 0.007213895789838334.\n",
      "Epoch 65/250\n",
      "18/18 [==============================] - 0s 11ms/step - loss: 0.2118 - accuracy: 0.9199 - val_loss: 2.5149 - val_accuracy: 0.4146 - lr: 0.0072\n",
      "\n",
      "Epoch 00066: LearningRateScheduler reducing learning rate to 0.007213895789838334.\n",
      "Epoch 66/250\n",
      "18/18 [==============================] - 0s 11ms/step - loss: 0.1638 - accuracy: 0.9443 - val_loss: 2.3789 - val_accuracy: 0.3902 - lr: 0.0072\n",
      "\n",
      "Epoch 00067: LearningRateScheduler reducing learning rate to 0.007213895789838334.\n",
      "Epoch 67/250\n",
      "18/18 [==============================] - 0s 10ms/step - loss: 0.1636 - accuracy: 0.9512 - val_loss: 2.7792 - val_accuracy: 0.3659 - lr: 0.0072\n",
      "\n",
      "Epoch 00068: LearningRateScheduler reducing learning rate to 0.007213895789838334.\n",
      "Epoch 68/250\n",
      "18/18 [==============================] - 0s 9ms/step - loss: 0.1626 - accuracy: 0.9547 - val_loss: 2.5682 - val_accuracy: 0.3415 - lr: 0.0072\n",
      "\n",
      "Epoch 00069: LearningRateScheduler reducing learning rate to 0.007213895789838334.\n",
      "Epoch 69/250\n",
      "18/18 [==============================] - 0s 10ms/step - loss: 0.1463 - accuracy: 0.9652 - val_loss: 2.6714 - val_accuracy: 0.4390 - lr: 0.0072\n",
      "\n",
      "Epoch 00070: LearningRateScheduler reducing learning rate to 0.007213895789838334.\n",
      "Epoch 70/250\n",
      "18/18 [==============================] - 0s 10ms/step - loss: 0.1792 - accuracy: 0.9373 - val_loss: 2.7079 - val_accuracy: 0.4146 - lr: 0.0072\n",
      "\n",
      "Epoch 00071: LearningRateScheduler reducing learning rate to 0.007213895789838334.\n",
      "Epoch 71/250\n",
      "18/18 [==============================] - 0s 10ms/step - loss: 0.1461 - accuracy: 0.9477 - val_loss: 2.6255 - val_accuracy: 0.4390 - lr: 0.0072\n",
      "\n",
      "Epoch 00072: LearningRateScheduler reducing learning rate to 0.0069253399582448.\n",
      "Epoch 72/250\n",
      "18/18 [==============================] - 0s 10ms/step - loss: 0.1719 - accuracy: 0.9408 - val_loss: 2.5686 - val_accuracy: 0.4146 - lr: 0.0069\n",
      "\n",
      "Epoch 00073: LearningRateScheduler reducing learning rate to 0.0069253399582448.\n",
      "Epoch 73/250\n",
      "18/18 [==============================] - 0s 10ms/step - loss: 0.1566 - accuracy: 0.9617 - val_loss: 2.4690 - val_accuracy: 0.4390 - lr: 0.0069\n",
      "\n",
      "Epoch 00074: LearningRateScheduler reducing learning rate to 0.0069253399582448.\n",
      "Epoch 74/250\n",
      "18/18 [==============================] - 0s 11ms/step - loss: 0.1180 - accuracy: 0.9652 - val_loss: 2.5670 - val_accuracy: 0.3902 - lr: 0.0069\n",
      "\n",
      "Epoch 00075: LearningRateScheduler reducing learning rate to 0.0069253399582448.\n",
      "Epoch 75/250\n",
      "18/18 [==============================] - 0s 11ms/step - loss: 0.0943 - accuracy: 0.9652 - val_loss: 2.8821 - val_accuracy: 0.3659 - lr: 0.0069\n",
      "\n",
      "Epoch 00076: LearningRateScheduler reducing learning rate to 0.0069253399582448.\n",
      "Epoch 76/250\n",
      "18/18 [==============================] - 0s 10ms/step - loss: 0.1195 - accuracy: 0.9547 - val_loss: 2.5365 - val_accuracy: 0.4146 - lr: 0.0069\n",
      "\n",
      "Epoch 00077: LearningRateScheduler reducing learning rate to 0.0069253399582448.\n",
      "Epoch 77/250\n",
      "18/18 [==============================] - 0s 9ms/step - loss: 0.1134 - accuracy: 0.9652 - val_loss: 2.6700 - val_accuracy: 0.3902 - lr: 0.0069\n",
      "\n",
      "Epoch 00078: LearningRateScheduler reducing learning rate to 0.0069253399582448.\n",
      "Epoch 78/250\n",
      "18/18 [==============================] - 0s 9ms/step - loss: 0.1303 - accuracy: 0.9512 - val_loss: 2.6659 - val_accuracy: 0.3659 - lr: 0.0069\n",
      "\n",
      "Epoch 00079: LearningRateScheduler reducing learning rate to 0.0069253399582448.\n",
      "Epoch 79/250\n",
      "18/18 [==============================] - 0s 10ms/step - loss: 0.1407 - accuracy: 0.9547 - val_loss: 2.9106 - val_accuracy: 0.4390 - lr: 0.0069\n",
      "\n",
      "Epoch 00080: LearningRateScheduler reducing learning rate to 0.006648326359915008.\n",
      "Epoch 80/250\n",
      "18/18 [==============================] - 0s 9ms/step - loss: 0.1727 - accuracy: 0.9373 - val_loss: 2.6613 - val_accuracy: 0.4146 - lr: 0.0066\n",
      "\n",
      "Epoch 00081: LearningRateScheduler reducing learning rate to 0.006648326359915008.\n",
      "Epoch 81/250\n",
      "18/18 [==============================] - 0s 10ms/step - loss: 0.1424 - accuracy: 0.9477 - val_loss: 2.5741 - val_accuracy: 0.3902 - lr: 0.0066\n",
      "\n",
      "Epoch 00082: LearningRateScheduler reducing learning rate to 0.006648326359915008.\n",
      "Epoch 82/250\n",
      "18/18 [==============================] - 0s 9ms/step - loss: 0.0818 - accuracy: 0.9791 - val_loss: 2.8762 - val_accuracy: 0.3902 - lr: 0.0066\n",
      "\n",
      "Epoch 00083: LearningRateScheduler reducing learning rate to 0.006648326359915008.\n",
      "Epoch 83/250\n",
      "18/18 [==============================] - 0s 9ms/step - loss: 0.1405 - accuracy: 0.9443 - val_loss: 3.0475 - val_accuracy: 0.3415 - lr: 0.0066\n",
      "\n",
      "Epoch 00084: LearningRateScheduler reducing learning rate to 0.006648326359915008.\n",
      "Epoch 84/250\n",
      "18/18 [==============================] - 0s 9ms/step - loss: 0.0933 - accuracy: 0.9686 - val_loss: 2.7489 - val_accuracy: 0.3659 - lr: 0.0066\n",
      "\n",
      "Epoch 00085: LearningRateScheduler reducing learning rate to 0.006648326359915008.\n",
      "Epoch 85/250\n",
      "18/18 [==============================] - 0s 9ms/step - loss: 0.1190 - accuracy: 0.9617 - val_loss: 2.7766 - val_accuracy: 0.3659 - lr: 0.0066\n",
      "\n",
      "Epoch 00086: LearningRateScheduler reducing learning rate to 0.006648326359915008.\n",
      "Epoch 86/250\n",
      "18/18 [==============================] - 0s 11ms/step - loss: 0.1149 - accuracy: 0.9652 - val_loss: 2.7481 - val_accuracy: 0.3902 - lr: 0.0066\n",
      "\n",
      "Epoch 00087: LearningRateScheduler reducing learning rate to 0.006648326359915008.\n",
      "Epoch 87/250\n",
      "18/18 [==============================] - 0s 10ms/step - loss: 0.1163 - accuracy: 0.9686 - val_loss: 2.6591 - val_accuracy: 0.4146 - lr: 0.0066\n",
      "\n",
      "Epoch 00088: LearningRateScheduler reducing learning rate to 0.006382393305518408.\n",
      "Epoch 88/250\n",
      "18/18 [==============================] - 0s 11ms/step - loss: 0.1076 - accuracy: 0.9756 - val_loss: 2.6277 - val_accuracy: 0.4146 - lr: 0.0064\n",
      "\n",
      "Epoch 00089: LearningRateScheduler reducing learning rate to 0.006382393305518408.\n",
      "Epoch 89/250\n",
      "18/18 [==============================] - 0s 25ms/step - loss: 0.0813 - accuracy: 0.9756 - val_loss: 2.5501 - val_accuracy: 0.4390 - lr: 0.0064\n",
      "\n",
      "Epoch 00090: LearningRateScheduler reducing learning rate to 0.006382393305518408.\n",
      "Epoch 90/250\n",
      "18/18 [==============================] - 0s 10ms/step - loss: 0.0814 - accuracy: 0.9686 - val_loss: 2.5155 - val_accuracy: 0.4146 - lr: 0.0064\n",
      "\n",
      "Epoch 00091: LearningRateScheduler reducing learning rate to 0.006382393305518408.\n",
      "Epoch 91/250\n",
      "18/18 [==============================] - 0s 10ms/step - loss: 0.1414 - accuracy: 0.9617 - val_loss: 2.6200 - val_accuracy: 0.4390 - lr: 0.0064\n",
      "\n",
      "Epoch 00092: LearningRateScheduler reducing learning rate to 0.006382393305518408.\n",
      "Epoch 92/250\n",
      "18/18 [==============================] - 0s 10ms/step - loss: 0.1265 - accuracy: 0.9652 - val_loss: 2.9364 - val_accuracy: 0.3171 - lr: 0.0064\n",
      "\n",
      "Epoch 00093: LearningRateScheduler reducing learning rate to 0.006382393305518408.\n",
      "Epoch 93/250\n",
      "18/18 [==============================] - 0s 11ms/step - loss: 0.0962 - accuracy: 0.9721 - val_loss: 2.7760 - val_accuracy: 0.3659 - lr: 0.0064\n",
      "\n",
      "Epoch 00094: LearningRateScheduler reducing learning rate to 0.006382393305518408.\n",
      "Epoch 94/250\n",
      "18/18 [==============================] - 0s 10ms/step - loss: 0.0517 - accuracy: 0.9895 - val_loss: 2.9505 - val_accuracy: 0.3659 - lr: 0.0064\n",
      "\n",
      "Epoch 00095: LearningRateScheduler reducing learning rate to 0.006382393305518408.\n",
      "Epoch 95/250\n",
      "18/18 [==============================] - 0s 10ms/step - loss: 0.1301 - accuracy: 0.9652 - val_loss: 2.6111 - val_accuracy: 0.4146 - lr: 0.0064\n",
      "\n",
      "Epoch 00096: LearningRateScheduler reducing learning rate to 0.006127097573297671.\n",
      "Epoch 96/250\n",
      "18/18 [==============================] - 0s 11ms/step - loss: 0.2007 - accuracy: 0.9373 - val_loss: 2.4567 - val_accuracy: 0.4878 - lr: 0.0061\n",
      "\n",
      "Epoch 00097: LearningRateScheduler reducing learning rate to 0.006127097573297671.\n",
      "Epoch 97/250\n",
      "18/18 [==============================] - 0s 11ms/step - loss: 0.0889 - accuracy: 0.9826 - val_loss: 2.4661 - val_accuracy: 0.4146 - lr: 0.0061\n",
      "\n",
      "Epoch 00098: LearningRateScheduler reducing learning rate to 0.006127097573297671.\n",
      "Epoch 98/250\n",
      "18/18 [==============================] - 0s 11ms/step - loss: 0.1456 - accuracy: 0.9547 - val_loss: 2.7644 - val_accuracy: 0.3415 - lr: 0.0061\n",
      "\n",
      "Epoch 00099: LearningRateScheduler reducing learning rate to 0.006127097573297671.\n",
      "Epoch 99/250\n",
      "18/18 [==============================] - 0s 10ms/step - loss: 0.0785 - accuracy: 0.9826 - val_loss: 2.7714 - val_accuracy: 0.3902 - lr: 0.0061\n",
      "\n",
      "Epoch 00100: LearningRateScheduler reducing learning rate to 0.006127097573297671.\n",
      "Epoch 100/250\n",
      "18/18 [==============================] - 0s 11ms/step - loss: 0.0858 - accuracy: 0.9721 - val_loss: 2.5515 - val_accuracy: 0.4390 - lr: 0.0061\n",
      "\n",
      "Epoch 00101: LearningRateScheduler reducing learning rate to 0.006127097573297671.\n",
      "Epoch 101/250\n",
      "18/18 [==============================] - 0s 11ms/step - loss: 0.1010 - accuracy: 0.9686 - val_loss: 2.8043 - val_accuracy: 0.3902 - lr: 0.0061\n",
      "\n",
      "Epoch 00102: LearningRateScheduler reducing learning rate to 0.006127097573297671.\n",
      "Epoch 102/250\n",
      "18/18 [==============================] - 0s 11ms/step - loss: 0.0747 - accuracy: 0.9791 - val_loss: 3.1594 - val_accuracy: 0.3415 - lr: 0.0061\n",
      "\n",
      "Epoch 00103: LearningRateScheduler reducing learning rate to 0.006127097573297671.\n",
      "Epoch 103/250\n",
      "18/18 [==============================] - 0s 11ms/step - loss: 0.0498 - accuracy: 0.9861 - val_loss: 2.8313 - val_accuracy: 0.3659 - lr: 0.0061\n",
      "\n",
      "Epoch 00104: LearningRateScheduler reducing learning rate to 0.005882013670365765.\n",
      "Epoch 104/250\n",
      "18/18 [==============================] - 0s 11ms/step - loss: 0.1298 - accuracy: 0.9477 - val_loss: 2.5921 - val_accuracy: 0.4634 - lr: 0.0059\n",
      "\n",
      "Epoch 00105: LearningRateScheduler reducing learning rate to 0.005882013670365765.\n",
      "Epoch 105/250\n",
      "18/18 [==============================] - 0s 11ms/step - loss: 0.1164 - accuracy: 0.9686 - val_loss: 2.7677 - val_accuracy: 0.4634 - lr: 0.0059\n",
      "\n",
      "Epoch 00106: LearningRateScheduler reducing learning rate to 0.005882013670365765.\n",
      "Epoch 106/250\n",
      "18/18 [==============================] - 0s 10ms/step - loss: 0.0540 - accuracy: 0.9826 - val_loss: 2.5714 - val_accuracy: 0.4634 - lr: 0.0059\n",
      "\n",
      "Epoch 00107: LearningRateScheduler reducing learning rate to 0.005882013670365765.\n",
      "Epoch 107/250\n",
      "18/18 [==============================] - 0s 10ms/step - loss: 0.1119 - accuracy: 0.9547 - val_loss: 2.4623 - val_accuracy: 0.4146 - lr: 0.0059\n",
      "\n",
      "Epoch 00108: LearningRateScheduler reducing learning rate to 0.005882013670365765.\n",
      "Epoch 108/250\n",
      "18/18 [==============================] - 0s 10ms/step - loss: 0.0756 - accuracy: 0.9756 - val_loss: 2.9533 - val_accuracy: 0.3415 - lr: 0.0059\n",
      "\n",
      "Epoch 00109: LearningRateScheduler reducing learning rate to 0.005882013670365765.\n",
      "Epoch 109/250\n",
      "18/18 [==============================] - 0s 9ms/step - loss: 0.0921 - accuracy: 0.9686 - val_loss: 3.5910 - val_accuracy: 0.3171 - lr: 0.0059\n",
      "\n",
      "Epoch 00110: LearningRateScheduler reducing learning rate to 0.005882013670365765.\n",
      "Epoch 110/250\n",
      "18/18 [==============================] - 0s 9ms/step - loss: 0.1055 - accuracy: 0.9617 - val_loss: 2.6006 - val_accuracy: 0.4634 - lr: 0.0059\n",
      "\n",
      "Epoch 00111: LearningRateScheduler reducing learning rate to 0.005882013670365765.\n",
      "Epoch 111/250\n",
      "18/18 [==============================] - 0s 10ms/step - loss: 0.0774 - accuracy: 0.9791 - val_loss: 2.7275 - val_accuracy: 0.3902 - lr: 0.0059\n",
      "\n",
      "Epoch 00112: LearningRateScheduler reducing learning rate to 0.005646733123551133.\n",
      "Epoch 112/250\n",
      "18/18 [==============================] - 0s 10ms/step - loss: 0.0720 - accuracy: 0.9756 - val_loss: 2.7592 - val_accuracy: 0.3902 - lr: 0.0056\n",
      "\n",
      "Epoch 00113: LearningRateScheduler reducing learning rate to 0.005646733123551133.\n",
      "Epoch 113/250\n",
      "18/18 [==============================] - 0s 11ms/step - loss: 0.0850 - accuracy: 0.9756 - val_loss: 2.6254 - val_accuracy: 0.4146 - lr: 0.0056\n",
      "\n",
      "Epoch 00114: LearningRateScheduler reducing learning rate to 0.005646733123551133.\n",
      "Epoch 114/250\n",
      "18/18 [==============================] - 0s 11ms/step - loss: 0.1213 - accuracy: 0.9547 - val_loss: 2.6630 - val_accuracy: 0.3659 - lr: 0.0056\n",
      "\n",
      "Epoch 00115: LearningRateScheduler reducing learning rate to 0.005646733123551133.\n",
      "Epoch 115/250\n",
      "18/18 [==============================] - 0s 10ms/step - loss: 0.1205 - accuracy: 0.9617 - val_loss: 2.7425 - val_accuracy: 0.4146 - lr: 0.0056\n",
      "\n",
      "Epoch 00116: LearningRateScheduler reducing learning rate to 0.005646733123551133.\n",
      "Epoch 116/250\n",
      "18/18 [==============================] - 0s 10ms/step - loss: 0.1047 - accuracy: 0.9652 - val_loss: 2.5589 - val_accuracy: 0.4146 - lr: 0.0056\n",
      "\n",
      "Epoch 00117: LearningRateScheduler reducing learning rate to 0.005646733123551133.\n",
      "Epoch 117/250\n",
      "18/18 [==============================] - 0s 9ms/step - loss: 0.0467 - accuracy: 0.9895 - val_loss: 2.5488 - val_accuracy: 0.4390 - lr: 0.0056\n",
      "\n",
      "Epoch 00118: LearningRateScheduler reducing learning rate to 0.005646733123551133.\n",
      "Epoch 118/250\n",
      "18/18 [==============================] - 0s 9ms/step - loss: 0.0568 - accuracy: 0.9826 - val_loss: 2.5268 - val_accuracy: 0.3902 - lr: 0.0056\n",
      "\n",
      "Epoch 00119: LearningRateScheduler reducing learning rate to 0.005646733123551133.\n",
      "Epoch 119/250\n",
      "18/18 [==============================] - 0s 9ms/step - loss: 0.0576 - accuracy: 0.9826 - val_loss: 2.5865 - val_accuracy: 0.4634 - lr: 0.0056\n",
      "\n",
      "Epoch 00120: LearningRateScheduler reducing learning rate to 0.005420863798609088.\n",
      "Epoch 120/250\n",
      "18/18 [==============================] - 0s 9ms/step - loss: 0.0664 - accuracy: 0.9861 - val_loss: 2.7788 - val_accuracy: 0.4146 - lr: 0.0054\n",
      "\n",
      "Epoch 00121: LearningRateScheduler reducing learning rate to 0.005420863798609088.\n",
      "Epoch 121/250\n",
      "18/18 [==============================] - 0s 10ms/step - loss: 0.0823 - accuracy: 0.9756 - val_loss: 2.8105 - val_accuracy: 0.3659 - lr: 0.0054\n",
      "\n",
      "Epoch 00122: LearningRateScheduler reducing learning rate to 0.005420863798609088.\n",
      "Epoch 122/250\n",
      "18/18 [==============================] - 0s 9ms/step - loss: 0.1088 - accuracy: 0.9721 - val_loss: 2.6769 - val_accuracy: 0.4390 - lr: 0.0054\n",
      "\n",
      "Epoch 00123: LearningRateScheduler reducing learning rate to 0.005420863798609088.\n",
      "Epoch 123/250\n",
      "18/18 [==============================] - 0s 9ms/step - loss: 0.1217 - accuracy: 0.9547 - val_loss: 2.7084 - val_accuracy: 0.4390 - lr: 0.0054\n",
      "\n",
      "Epoch 00124: LearningRateScheduler reducing learning rate to 0.005420863798609088.\n",
      "Epoch 124/250\n",
      "18/18 [==============================] - 0s 9ms/step - loss: 0.0832 - accuracy: 0.9721 - val_loss: 2.8765 - val_accuracy: 0.4146 - lr: 0.0054\n",
      "\n",
      "Epoch 00125: LearningRateScheduler reducing learning rate to 0.005420863798609088.\n",
      "Epoch 125/250\n",
      "18/18 [==============================] - 0s 10ms/step - loss: 0.0448 - accuracy: 0.9826 - val_loss: 2.7777 - val_accuracy: 0.4634 - lr: 0.0054\n",
      "\n",
      "Epoch 00126: LearningRateScheduler reducing learning rate to 0.005420863798609088.\n",
      "Epoch 126/250\n",
      "18/18 [==============================] - 0s 10ms/step - loss: 0.0730 - accuracy: 0.9721 - val_loss: 2.8037 - val_accuracy: 0.4146 - lr: 0.0054\n",
      "\n",
      "Epoch 00127: LearningRateScheduler reducing learning rate to 0.005420863798609088.\n",
      "Epoch 127/250\n",
      "18/18 [==============================] - 0s 10ms/step - loss: 0.0751 - accuracy: 0.9826 - val_loss: 2.7382 - val_accuracy: 0.4146 - lr: 0.0054\n",
      "\n",
      "Epoch 00128: LearningRateScheduler reducing learning rate to 0.005204029246664724.\n",
      "Epoch 128/250\n",
      "18/18 [==============================] - 0s 9ms/step - loss: 0.0840 - accuracy: 0.9756 - val_loss: 2.8040 - val_accuracy: 0.3902 - lr: 0.0052\n",
      "\n",
      "Epoch 00129: LearningRateScheduler reducing learning rate to 0.005204029246664724.\n",
      "Epoch 129/250\n",
      "18/18 [==============================] - 0s 9ms/step - loss: 0.0459 - accuracy: 0.9791 - val_loss: 2.8838 - val_accuracy: 0.3902 - lr: 0.0052\n",
      "\n",
      "Epoch 00130: LearningRateScheduler reducing learning rate to 0.005204029246664724.\n",
      "Epoch 130/250\n",
      "18/18 [==============================] - 0s 9ms/step - loss: 0.0459 - accuracy: 0.9895 - val_loss: 2.7368 - val_accuracy: 0.3659 - lr: 0.0052\n",
      "\n",
      "Epoch 00131: LearningRateScheduler reducing learning rate to 0.005204029246664724.\n",
      "Epoch 131/250\n",
      "18/18 [==============================] - 0s 9ms/step - loss: 0.1018 - accuracy: 0.9791 - val_loss: 2.7765 - val_accuracy: 0.4146 - lr: 0.0052\n",
      "\n",
      "Epoch 00132: LearningRateScheduler reducing learning rate to 0.005204029246664724.\n",
      "Epoch 132/250\n",
      "18/18 [==============================] - 0s 9ms/step - loss: 0.0545 - accuracy: 0.9791 - val_loss: 2.9721 - val_accuracy: 0.3902 - lr: 0.0052\n",
      "\n",
      "Epoch 00133: LearningRateScheduler reducing learning rate to 0.005204029246664724.\n",
      "Epoch 133/250\n",
      "18/18 [==============================] - 0s 10ms/step - loss: 0.0515 - accuracy: 0.9791 - val_loss: 2.8492 - val_accuracy: 0.3902 - lr: 0.0052\n",
      "\n",
      "Epoch 00134: LearningRateScheduler reducing learning rate to 0.005204029246664724.\n",
      "Epoch 134/250\n",
      "18/18 [==============================] - 0s 11ms/step - loss: 0.0760 - accuracy: 0.9826 - val_loss: 2.8196 - val_accuracy: 0.3659 - lr: 0.0052\n",
      "\n",
      "Epoch 00135: LearningRateScheduler reducing learning rate to 0.005204029246664724.\n",
      "Epoch 135/250\n",
      "18/18 [==============================] - 0s 11ms/step - loss: 0.0500 - accuracy: 0.9861 - val_loss: 2.6662 - val_accuracy: 0.4146 - lr: 0.0052\n",
      "\n",
      "Epoch 00136: LearningRateScheduler reducing learning rate to 0.004995868076798134.\n",
      "Epoch 136/250\n",
      "18/18 [==============================] - 0s 10ms/step - loss: 0.0630 - accuracy: 0.9895 - val_loss: 2.8165 - val_accuracy: 0.4634 - lr: 0.0050\n",
      "\n",
      "Epoch 00137: LearningRateScheduler reducing learning rate to 0.004995868076798134.\n",
      "Epoch 137/250\n",
      "18/18 [==============================] - 0s 11ms/step - loss: 0.0626 - accuracy: 0.9791 - val_loss: 2.9117 - val_accuracy: 0.4390 - lr: 0.0050\n",
      "\n",
      "Epoch 00138: LearningRateScheduler reducing learning rate to 0.004995868076798134.\n",
      "Epoch 138/250\n",
      "18/18 [==============================] - 0s 11ms/step - loss: 0.0611 - accuracy: 0.9791 - val_loss: 3.3002 - val_accuracy: 0.2927 - lr: 0.0050\n",
      "\n",
      "Epoch 00139: LearningRateScheduler reducing learning rate to 0.004995868076798134.\n",
      "Epoch 139/250\n",
      "18/18 [==============================] - 0s 11ms/step - loss: 0.0359 - accuracy: 0.9861 - val_loss: 3.5311 - val_accuracy: 0.2927 - lr: 0.0050\n",
      "\n",
      "Epoch 00140: LearningRateScheduler reducing learning rate to 0.004995868076798134.\n",
      "Epoch 140/250\n",
      "18/18 [==============================] - 0s 10ms/step - loss: 0.0555 - accuracy: 0.9826 - val_loss: 2.9931 - val_accuracy: 0.3171 - lr: 0.0050\n",
      "\n",
      "Epoch 00141: LearningRateScheduler reducing learning rate to 0.004995868076798134.\n",
      "Epoch 141/250\n",
      "18/18 [==============================] - 0s 10ms/step - loss: 0.0822 - accuracy: 0.9652 - val_loss: 2.6525 - val_accuracy: 0.3902 - lr: 0.0050\n",
      "\n",
      "Epoch 00142: LearningRateScheduler reducing learning rate to 0.004995868076798134.\n",
      "Epoch 142/250\n",
      "18/18 [==============================] - 0s 10ms/step - loss: 0.0557 - accuracy: 0.9861 - val_loss: 2.8419 - val_accuracy: 0.4146 - lr: 0.0050\n",
      "\n",
      "Epoch 00143: LearningRateScheduler reducing learning rate to 0.004995868076798134.\n",
      "Epoch 143/250\n",
      "18/18 [==============================] - 0s 10ms/step - loss: 0.0794 - accuracy: 0.9791 - val_loss: 2.9649 - val_accuracy: 0.4146 - lr: 0.0050\n",
      "\n",
      "Epoch 00144: LearningRateScheduler reducing learning rate to 0.004796033353726209.\n",
      "Epoch 144/250\n",
      "18/18 [==============================] - 0s 9ms/step - loss: 0.0833 - accuracy: 0.9756 - val_loss: 2.8956 - val_accuracy: 0.4878 - lr: 0.0048\n",
      "\n",
      "Epoch 00145: LearningRateScheduler reducing learning rate to 0.004796033353726209.\n",
      "Epoch 145/250\n",
      "18/18 [==============================] - 0s 9ms/step - loss: 0.0473 - accuracy: 0.9861 - val_loss: 2.8549 - val_accuracy: 0.4146 - lr: 0.0048\n",
      "\n",
      "Epoch 00146: LearningRateScheduler reducing learning rate to 0.004796033353726209.\n",
      "Epoch 146/250\n",
      "18/18 [==============================] - 0s 9ms/step - loss: 0.0875 - accuracy: 0.9721 - val_loss: 2.8721 - val_accuracy: 0.4390 - lr: 0.0048\n",
      "\n",
      "Epoch 00147: LearningRateScheduler reducing learning rate to 0.004796033353726209.\n",
      "Epoch 147/250\n",
      "18/18 [==============================] - 0s 9ms/step - loss: 0.0317 - accuracy: 0.9930 - val_loss: 2.9198 - val_accuracy: 0.4390 - lr: 0.0048\n",
      "\n",
      "Epoch 00148: LearningRateScheduler reducing learning rate to 0.004796033353726209.\n",
      "Epoch 148/250\n",
      "18/18 [==============================] - 0s 10ms/step - loss: 0.0395 - accuracy: 0.9930 - val_loss: 2.8313 - val_accuracy: 0.4634 - lr: 0.0048\n",
      "\n",
      "Epoch 00149: LearningRateScheduler reducing learning rate to 0.004796033353726209.\n",
      "Epoch 149/250\n",
      "18/18 [==============================] - 0s 9ms/step - loss: 0.0495 - accuracy: 0.9826 - val_loss: 2.8379 - val_accuracy: 0.4634 - lr: 0.0048\n",
      "\n",
      "Epoch 00150: LearningRateScheduler reducing learning rate to 0.004796033353726209.\n",
      "Epoch 150/250\n",
      "18/18 [==============================] - 0s 9ms/step - loss: 0.0496 - accuracy: 0.9895 - val_loss: 2.8481 - val_accuracy: 0.4390 - lr: 0.0048\n",
      "\n",
      "Epoch 00151: LearningRateScheduler reducing learning rate to 0.004796033353726209.\n",
      "Epoch 151/250\n",
      "18/18 [==============================] - 0s 9ms/step - loss: 0.0677 - accuracy: 0.9721 - val_loss: 2.8347 - val_accuracy: 0.4390 - lr: 0.0048\n",
      "\n",
      "Epoch 00152: LearningRateScheduler reducing learning rate to 0.004604192019577161.\n",
      "Epoch 152/250\n",
      "18/18 [==============================] - 0s 10ms/step - loss: 0.0788 - accuracy: 0.9756 - val_loss: 2.8193 - val_accuracy: 0.4390 - lr: 0.0046\n",
      "\n",
      "Epoch 00153: LearningRateScheduler reducing learning rate to 0.004604192019577161.\n",
      "Epoch 153/250\n",
      "18/18 [==============================] - 0s 9ms/step - loss: 0.0468 - accuracy: 0.9861 - val_loss: 2.9203 - val_accuracy: 0.4146 - lr: 0.0046\n",
      "\n",
      "Epoch 00154: LearningRateScheduler reducing learning rate to 0.004604192019577161.\n",
      "Epoch 154/250\n",
      "18/18 [==============================] - 0s 11ms/step - loss: 0.0704 - accuracy: 0.9756 - val_loss: 2.7845 - val_accuracy: 0.3902 - lr: 0.0046\n",
      "\n",
      "Epoch 00155: LearningRateScheduler reducing learning rate to 0.004604192019577161.\n",
      "Epoch 155/250\n",
      "18/18 [==============================] - 0s 12ms/step - loss: 0.0559 - accuracy: 0.9826 - val_loss: 2.7447 - val_accuracy: 0.4146 - lr: 0.0046\n",
      "\n",
      "Epoch 00156: LearningRateScheduler reducing learning rate to 0.004604192019577161.\n",
      "Epoch 156/250\n",
      "18/18 [==============================] - 0s 11ms/step - loss: 0.0765 - accuracy: 0.9756 - val_loss: 2.8090 - val_accuracy: 0.4146 - lr: 0.0046\n",
      "\n",
      "Epoch 00157: LearningRateScheduler reducing learning rate to 0.004604192019577161.\n",
      "Epoch 157/250\n",
      "18/18 [==============================] - 0s 10ms/step - loss: 0.0758 - accuracy: 0.9791 - val_loss: 2.9504 - val_accuracy: 0.3902 - lr: 0.0046\n",
      "\n",
      "Epoch 00158: LearningRateScheduler reducing learning rate to 0.004604192019577161.\n",
      "Epoch 158/250\n",
      "18/18 [==============================] - 0s 9ms/step - loss: 0.0583 - accuracy: 0.9895 - val_loss: 2.8564 - val_accuracy: 0.4878 - lr: 0.0046\n",
      "\n",
      "Epoch 00159: LearningRateScheduler reducing learning rate to 0.004604192019577161.\n",
      "Epoch 159/250\n",
      "18/18 [==============================] - 0s 10ms/step - loss: 0.0336 - accuracy: 0.9895 - val_loss: 2.8327 - val_accuracy: 0.4390 - lr: 0.0046\n",
      "\n",
      "Epoch 00160: LearningRateScheduler reducing learning rate to 0.004420024338794074.\n",
      "Epoch 160/250\n",
      "18/18 [==============================] - 0s 9ms/step - loss: 0.0556 - accuracy: 0.9826 - val_loss: 2.7346 - val_accuracy: 0.4390 - lr: 0.0044\n",
      "\n",
      "Epoch 00161: LearningRateScheduler reducing learning rate to 0.004420024338794074.\n",
      "Epoch 161/250\n",
      "18/18 [==============================] - 0s 9ms/step - loss: 0.0452 - accuracy: 0.9861 - val_loss: 2.7503 - val_accuracy: 0.3902 - lr: 0.0044\n",
      "\n",
      "Epoch 00162: LearningRateScheduler reducing learning rate to 0.004420024338794074.\n",
      "Epoch 162/250\n",
      "18/18 [==============================] - 0s 10ms/step - loss: 0.0286 - accuracy: 0.9895 - val_loss: 2.7512 - val_accuracy: 0.4146 - lr: 0.0044\n",
      "\n",
      "Epoch 00163: LearningRateScheduler reducing learning rate to 0.004420024338794074.\n",
      "Epoch 163/250\n",
      "18/18 [==============================] - 0s 10ms/step - loss: 0.0574 - accuracy: 0.9826 - val_loss: 2.8172 - val_accuracy: 0.4634 - lr: 0.0044\n",
      "\n",
      "Epoch 00164: LearningRateScheduler reducing learning rate to 0.004420024338794074.\n",
      "Epoch 164/250\n",
      "18/18 [==============================] - 0s 10ms/step - loss: 0.0500 - accuracy: 0.9895 - val_loss: 2.8678 - val_accuracy: 0.4390 - lr: 0.0044\n",
      "\n",
      "Epoch 00165: LearningRateScheduler reducing learning rate to 0.004420024338794074.\n",
      "Epoch 165/250\n",
      "18/18 [==============================] - 0s 9ms/step - loss: 0.0424 - accuracy: 0.9861 - val_loss: 2.8227 - val_accuracy: 0.4634 - lr: 0.0044\n",
      "\n",
      "Epoch 00166: LearningRateScheduler reducing learning rate to 0.004420024338794074.\n",
      "Epoch 166/250\n",
      "18/18 [==============================] - 0s 9ms/step - loss: 0.0426 - accuracy: 0.9895 - val_loss: 2.7481 - val_accuracy: 0.4634 - lr: 0.0044\n",
      "\n",
      "Epoch 00167: LearningRateScheduler reducing learning rate to 0.004420024338794074.\n",
      "Epoch 167/250\n",
      "18/18 [==============================] - 0s 9ms/step - loss: 0.0455 - accuracy: 0.9826 - val_loss: 2.8938 - val_accuracy: 0.4878 - lr: 0.0044\n",
      "\n",
      "Epoch 00168: LearningRateScheduler reducing learning rate to 0.004243223365242311.\n",
      "Epoch 168/250\n",
      "18/18 [==============================] - 0s 9ms/step - loss: 0.0407 - accuracy: 0.9826 - val_loss: 2.8795 - val_accuracy: 0.4390 - lr: 0.0042\n",
      "\n",
      "Epoch 00169: LearningRateScheduler reducing learning rate to 0.004243223365242311.\n",
      "Epoch 169/250\n",
      "18/18 [==============================] - 0s 9ms/step - loss: 0.0711 - accuracy: 0.9791 - val_loss: 2.8188 - val_accuracy: 0.4146 - lr: 0.0042\n",
      "\n",
      "Epoch 00170: LearningRateScheduler reducing learning rate to 0.004243223365242311.\n",
      "Epoch 170/250\n",
      "18/18 [==============================] - 0s 11ms/step - loss: 0.0221 - accuracy: 0.9965 - val_loss: 2.8473 - val_accuracy: 0.4390 - lr: 0.0042\n",
      "\n",
      "Epoch 00171: LearningRateScheduler reducing learning rate to 0.004243223365242311.\n",
      "Epoch 171/250\n",
      "18/18 [==============================] - 0s 9ms/step - loss: 0.0613 - accuracy: 0.9861 - val_loss: 2.7847 - val_accuracy: 0.3902 - lr: 0.0042\n",
      "\n",
      "Epoch 00172: LearningRateScheduler reducing learning rate to 0.004243223365242311.\n",
      "Epoch 172/250\n",
      "18/18 [==============================] - 0s 9ms/step - loss: 0.0713 - accuracy: 0.9721 - val_loss: 2.7454 - val_accuracy: 0.4146 - lr: 0.0042\n",
      "\n",
      "Epoch 00173: LearningRateScheduler reducing learning rate to 0.004243223365242311.\n",
      "Epoch 173/250\n",
      "18/18 [==============================] - 0s 9ms/step - loss: 0.0546 - accuracy: 0.9861 - val_loss: 2.7878 - val_accuracy: 0.4390 - lr: 0.0042\n",
      "\n",
      "Epoch 00174: LearningRateScheduler reducing learning rate to 0.004243223365242311.\n",
      "Epoch 174/250\n",
      "18/18 [==============================] - 0s 9ms/step - loss: 0.0337 - accuracy: 0.9930 - val_loss: 2.7699 - val_accuracy: 0.4634 - lr: 0.0042\n",
      "\n",
      "Epoch 00175: LearningRateScheduler reducing learning rate to 0.004243223365242311.\n",
      "Epoch 175/250\n",
      "18/18 [==============================] - 0s 10ms/step - loss: 0.0159 - accuracy: 1.0000 - val_loss: 2.7933 - val_accuracy: 0.4634 - lr: 0.0042\n",
      "\n",
      "Epoch 00176: LearningRateScheduler reducing learning rate to 0.0040734944306326185.\n",
      "Epoch 176/250\n",
      "18/18 [==============================] - 0s 11ms/step - loss: 0.0265 - accuracy: 0.9930 - val_loss: 2.7529 - val_accuracy: 0.4390 - lr: 0.0041\n",
      "\n",
      "Epoch 00177: LearningRateScheduler reducing learning rate to 0.0040734944306326185.\n",
      "Epoch 177/250\n",
      "18/18 [==============================] - 0s 11ms/step - loss: 0.0335 - accuracy: 0.9895 - val_loss: 2.8716 - val_accuracy: 0.4634 - lr: 0.0041\n",
      "\n",
      "Epoch 00178: LearningRateScheduler reducing learning rate to 0.0040734944306326185.\n",
      "Epoch 178/250\n",
      "18/18 [==============================] - 0s 11ms/step - loss: 0.0479 - accuracy: 0.9791 - val_loss: 2.8843 - val_accuracy: 0.4634 - lr: 0.0041\n",
      "\n",
      "Epoch 00179: LearningRateScheduler reducing learning rate to 0.0040734944306326185.\n",
      "Epoch 179/250\n",
      "18/18 [==============================] - 0s 9ms/step - loss: 0.0387 - accuracy: 0.9930 - val_loss: 2.8507 - val_accuracy: 0.4146 - lr: 0.0041\n",
      "\n",
      "Epoch 00180: LearningRateScheduler reducing learning rate to 0.0040734944306326185.\n",
      "Epoch 180/250\n",
      "18/18 [==============================] - 0s 11ms/step - loss: 0.0343 - accuracy: 0.9895 - val_loss: 2.8951 - val_accuracy: 0.4146 - lr: 0.0041\n",
      "\n",
      "Epoch 00181: LearningRateScheduler reducing learning rate to 0.0040734944306326185.\n",
      "Epoch 181/250\n",
      "18/18 [==============================] - 0s 9ms/step - loss: 0.0115 - accuracy: 1.0000 - val_loss: 2.8744 - val_accuracy: 0.4390 - lr: 0.0041\n",
      "\n",
      "Epoch 00182: LearningRateScheduler reducing learning rate to 0.0040734944306326185.\n",
      "Epoch 182/250\n",
      "18/18 [==============================] - 0s 9ms/step - loss: 0.0527 - accuracy: 0.9721 - val_loss: 2.9005 - val_accuracy: 0.4390 - lr: 0.0041\n",
      "\n",
      "Epoch 00183: LearningRateScheduler reducing learning rate to 0.0040734944306326185.\n",
      "Epoch 183/250\n",
      "18/18 [==============================] - 0s 10ms/step - loss: 0.0661 - accuracy: 0.9721 - val_loss: 3.0067 - val_accuracy: 0.3902 - lr: 0.0041\n",
      "\n",
      "Epoch 00184: LearningRateScheduler reducing learning rate to 0.003910554653407314.\n",
      "Epoch 184/250\n",
      "18/18 [==============================] - 0s 9ms/step - loss: 0.0606 - accuracy: 0.9826 - val_loss: 3.0194 - val_accuracy: 0.4390 - lr: 0.0039\n",
      "\n",
      "Epoch 00185: LearningRateScheduler reducing learning rate to 0.003910554653407314.\n",
      "Epoch 185/250\n",
      "18/18 [==============================] - 0s 9ms/step - loss: 0.0296 - accuracy: 0.9895 - val_loss: 3.1592 - val_accuracy: 0.3902 - lr: 0.0039\n",
      "\n",
      "Epoch 00186: LearningRateScheduler reducing learning rate to 0.003910554653407314.\n",
      "Epoch 186/250\n",
      "18/18 [==============================] - 0s 11ms/step - loss: 0.0393 - accuracy: 0.9930 - val_loss: 3.0322 - val_accuracy: 0.3902 - lr: 0.0039\n",
      "\n",
      "Epoch 00187: LearningRateScheduler reducing learning rate to 0.003910554653407314.\n",
      "Epoch 187/250\n",
      "18/18 [==============================] - 0s 9ms/step - loss: 0.0487 - accuracy: 0.9826 - val_loss: 2.9484 - val_accuracy: 0.4146 - lr: 0.0039\n",
      "\n",
      "Epoch 00188: LearningRateScheduler reducing learning rate to 0.003910554653407314.\n",
      "Epoch 188/250\n",
      "18/18 [==============================] - 0s 10ms/step - loss: 0.0439 - accuracy: 0.9826 - val_loss: 2.8228 - val_accuracy: 0.4146 - lr: 0.0039\n",
      "\n",
      "Epoch 00189: LearningRateScheduler reducing learning rate to 0.003910554653407314.\n",
      "Epoch 189/250\n",
      "18/18 [==============================] - 0s 10ms/step - loss: 0.0256 - accuracy: 0.9965 - val_loss: 2.8557 - val_accuracy: 0.3902 - lr: 0.0039\n",
      "\n",
      "Epoch 00190: LearningRateScheduler reducing learning rate to 0.003910554653407314.\n",
      "Epoch 190/250\n",
      "18/18 [==============================] - 0s 9ms/step - loss: 0.0465 - accuracy: 0.9895 - val_loss: 2.9097 - val_accuracy: 0.3902 - lr: 0.0039\n",
      "\n",
      "Epoch 00191: LearningRateScheduler reducing learning rate to 0.003910554653407314.\n",
      "Epoch 191/250\n",
      "18/18 [==============================] - 0s 10ms/step - loss: 0.0387 - accuracy: 0.9930 - val_loss: 2.8712 - val_accuracy: 0.4146 - lr: 0.0039\n",
      "\n",
      "Epoch 00192: LearningRateScheduler reducing learning rate to 0.003754132467271021.\n",
      "Epoch 192/250\n",
      "18/18 [==============================] - 0s 9ms/step - loss: 0.0466 - accuracy: 0.9826 - val_loss: 2.8810 - val_accuracy: 0.4390 - lr: 0.0038\n",
      "\n",
      "Epoch 00193: LearningRateScheduler reducing learning rate to 0.003754132467271021.\n",
      "Epoch 193/250\n",
      "18/18 [==============================] - 0s 9ms/step - loss: 0.0366 - accuracy: 0.9895 - val_loss: 2.8504 - val_accuracy: 0.4390 - lr: 0.0038\n",
      "\n",
      "Epoch 00194: LearningRateScheduler reducing learning rate to 0.003754132467271021.\n",
      "Epoch 194/250\n",
      "18/18 [==============================] - 0s 9ms/step - loss: 0.0270 - accuracy: 0.9930 - val_loss: 2.8196 - val_accuracy: 0.4146 - lr: 0.0038\n",
      "\n",
      "Epoch 00195: LearningRateScheduler reducing learning rate to 0.003754132467271021.\n",
      "Epoch 195/250\n",
      "18/18 [==============================] - 0s 9ms/step - loss: 0.0203 - accuracy: 0.9965 - val_loss: 2.8294 - val_accuracy: 0.4146 - lr: 0.0038\n",
      "\n",
      "Epoch 00196: LearningRateScheduler reducing learning rate to 0.003754132467271021.\n",
      "Epoch 196/250\n",
      "18/18 [==============================] - 0s 10ms/step - loss: 0.0328 - accuracy: 0.9895 - val_loss: 2.7612 - val_accuracy: 0.3902 - lr: 0.0038\n",
      "\n",
      "Epoch 00197: LearningRateScheduler reducing learning rate to 0.003754132467271021.\n",
      "Epoch 197/250\n",
      "18/18 [==============================] - 0s 10ms/step - loss: 0.0090 - accuracy: 1.0000 - val_loss: 2.7519 - val_accuracy: 0.4146 - lr: 0.0038\n",
      "\n",
      "Epoch 00198: LearningRateScheduler reducing learning rate to 0.003754132467271021.\n",
      "Epoch 198/250\n",
      "18/18 [==============================] - 0s 9ms/step - loss: 0.0606 - accuracy: 0.9861 - val_loss: 2.9355 - val_accuracy: 0.3902 - lr: 0.0038\n",
      "\n",
      "Epoch 00199: LearningRateScheduler reducing learning rate to 0.003754132467271021.\n",
      "Epoch 199/250\n",
      "18/18 [==============================] - 0s 10ms/step - loss: 0.0277 - accuracy: 0.9930 - val_loss: 2.8254 - val_accuracy: 0.4634 - lr: 0.0038\n",
      "\n",
      "Epoch 00200: LearningRateScheduler reducing learning rate to 0.0036039671685801802.\n",
      "Epoch 200/250\n",
      "18/18 [==============================] - 0s 10ms/step - loss: 0.0660 - accuracy: 0.9756 - val_loss: 2.9180 - val_accuracy: 0.4878 - lr: 0.0036\n",
      "\n",
      "Epoch 00201: LearningRateScheduler reducing learning rate to 0.0036039671685801802.\n",
      "Epoch 201/250\n",
      "18/18 [==============================] - 0s 9ms/step - loss: 0.0409 - accuracy: 0.9861 - val_loss: 2.8753 - val_accuracy: 0.4146 - lr: 0.0036\n",
      "\n",
      "Epoch 00202: LearningRateScheduler reducing learning rate to 0.0036039671685801802.\n",
      "Epoch 202/250\n",
      "18/18 [==============================] - 0s 10ms/step - loss: 0.0854 - accuracy: 0.9686 - val_loss: 2.8969 - val_accuracy: 0.4634 - lr: 0.0036\n",
      "\n",
      "Epoch 00203: LearningRateScheduler reducing learning rate to 0.0036039671685801802.\n",
      "Epoch 203/250\n",
      "18/18 [==============================] - 0s 9ms/step - loss: 0.0291 - accuracy: 0.9930 - val_loss: 2.8535 - val_accuracy: 0.4878 - lr: 0.0036\n",
      "\n",
      "Epoch 00204: LearningRateScheduler reducing learning rate to 0.0036039671685801802.\n",
      "Epoch 204/250\n",
      "18/18 [==============================] - 0s 10ms/step - loss: 0.0482 - accuracy: 0.9861 - val_loss: 2.8277 - val_accuracy: 0.4878 - lr: 0.0036\n",
      "\n",
      "Epoch 00205: LearningRateScheduler reducing learning rate to 0.0036039671685801802.\n",
      "Epoch 205/250\n",
      "18/18 [==============================] - 0s 9ms/step - loss: 0.0210 - accuracy: 0.9965 - val_loss: 2.8041 - val_accuracy: 0.4878 - lr: 0.0036\n",
      "\n",
      "Epoch 00206: LearningRateScheduler reducing learning rate to 0.0036039671685801802.\n",
      "Epoch 206/250\n",
      "18/18 [==============================] - 0s 10ms/step - loss: 0.0272 - accuracy: 0.9930 - val_loss: 2.8533 - val_accuracy: 0.4878 - lr: 0.0036\n",
      "\n",
      "Epoch 00207: LearningRateScheduler reducing learning rate to 0.0036039671685801802.\n",
      "Epoch 207/250\n",
      "18/18 [==============================] - 0s 9ms/step - loss: 0.0399 - accuracy: 0.9930 - val_loss: 2.8379 - val_accuracy: 0.4878 - lr: 0.0036\n",
      "\n",
      "Epoch 00208: LearningRateScheduler reducing learning rate to 0.003459808481836972.\n",
      "Epoch 208/250\n",
      "18/18 [==============================] - 0s 9ms/step - loss: 0.0254 - accuracy: 0.9930 - val_loss: 2.9260 - val_accuracy: 0.5122 - lr: 0.0035\n",
      "\n",
      "Epoch 00209: LearningRateScheduler reducing learning rate to 0.003459808481836972.\n",
      "Epoch 209/250\n",
      "18/18 [==============================] - 0s 9ms/step - loss: 0.0306 - accuracy: 0.9895 - val_loss: 2.8402 - val_accuracy: 0.4634 - lr: 0.0035\n",
      "\n",
      "Epoch 00210: LearningRateScheduler reducing learning rate to 0.003459808481836972.\n",
      "Epoch 210/250\n",
      "18/18 [==============================] - 0s 9ms/step - loss: 0.0375 - accuracy: 0.9861 - val_loss: 2.7519 - val_accuracy: 0.3902 - lr: 0.0035\n",
      "\n",
      "Epoch 00211: LearningRateScheduler reducing learning rate to 0.003459808481836972.\n",
      "Epoch 211/250\n",
      "18/18 [==============================] - 0s 9ms/step - loss: 0.0334 - accuracy: 0.9861 - val_loss: 2.7134 - val_accuracy: 0.4146 - lr: 0.0035\n",
      "\n",
      "Epoch 00212: LearningRateScheduler reducing learning rate to 0.003459808481836972.\n",
      "Epoch 212/250\n",
      "18/18 [==============================] - 0s 9ms/step - loss: 0.0201 - accuracy: 0.9965 - val_loss: 2.7410 - val_accuracy: 0.4146 - lr: 0.0035\n",
      "\n",
      "Epoch 00213: LearningRateScheduler reducing learning rate to 0.003459808481836972.\n",
      "Epoch 213/250\n",
      "18/18 [==============================] - 0s 10ms/step - loss: 0.0912 - accuracy: 0.9652 - val_loss: 2.7574 - val_accuracy: 0.4878 - lr: 0.0035\n",
      "\n",
      "Epoch 00214: LearningRateScheduler reducing learning rate to 0.003459808481836972.\n",
      "Epoch 214/250\n",
      "18/18 [==============================] - 0s 10ms/step - loss: 0.0310 - accuracy: 0.9861 - val_loss: 2.8549 - val_accuracy: 0.4634 - lr: 0.0035\n",
      "\n",
      "Epoch 00215: LearningRateScheduler reducing learning rate to 0.003459808481836972.\n",
      "Epoch 215/250\n",
      "18/18 [==============================] - 0s 11ms/step - loss: 0.0181 - accuracy: 1.0000 - val_loss: 2.9014 - val_accuracy: 0.4634 - lr: 0.0035\n",
      "\n",
      "Epoch 00216: LearningRateScheduler reducing learning rate to 0.0033214161425634938.\n",
      "Epoch 216/250\n",
      "18/18 [==============================] - 0s 10ms/step - loss: 0.0367 - accuracy: 0.9826 - val_loss: 2.8264 - val_accuracy: 0.4878 - lr: 0.0033\n",
      "\n",
      "Epoch 00217: LearningRateScheduler reducing learning rate to 0.0033214161425634938.\n",
      "Epoch 217/250\n",
      "18/18 [==============================] - 0s 9ms/step - loss: 0.0304 - accuracy: 0.9965 - val_loss: 2.9377 - val_accuracy: 0.4634 - lr: 0.0033\n",
      "\n",
      "Epoch 00218: LearningRateScheduler reducing learning rate to 0.0033214161425634938.\n",
      "Epoch 218/250\n",
      "18/18 [==============================] - 0s 10ms/step - loss: 0.0187 - accuracy: 0.9965 - val_loss: 3.0098 - val_accuracy: 0.4634 - lr: 0.0033\n",
      "\n",
      "Epoch 00219: LearningRateScheduler reducing learning rate to 0.0033214161425634938.\n",
      "Epoch 219/250\n",
      "18/18 [==============================] - 0s 10ms/step - loss: 0.0289 - accuracy: 0.9930 - val_loss: 2.9431 - val_accuracy: 0.4878 - lr: 0.0033\n",
      "\n",
      "Epoch 00220: LearningRateScheduler reducing learning rate to 0.0033214161425634938.\n",
      "Epoch 220/250\n",
      "18/18 [==============================] - 0s 9ms/step - loss: 0.0407 - accuracy: 0.9826 - val_loss: 2.9107 - val_accuracy: 0.4634 - lr: 0.0033\n",
      "\n",
      "Epoch 00221: LearningRateScheduler reducing learning rate to 0.0033214161425634938.\n",
      "Epoch 221/250\n",
      "18/18 [==============================] - 0s 10ms/step - loss: 0.0312 - accuracy: 0.9895 - val_loss: 2.9453 - val_accuracy: 0.4390 - lr: 0.0033\n",
      "\n",
      "Epoch 00222: LearningRateScheduler reducing learning rate to 0.0033214161425634938.\n",
      "Epoch 222/250\n",
      "18/18 [==============================] - 0s 9ms/step - loss: 0.0258 - accuracy: 0.9861 - val_loss: 2.9720 - val_accuracy: 0.4390 - lr: 0.0033\n",
      "\n",
      "Epoch 00223: LearningRateScheduler reducing learning rate to 0.0033214161425634938.\n",
      "Epoch 223/250\n",
      "18/18 [==============================] - 0s 9ms/step - loss: 0.0232 - accuracy: 1.0000 - val_loss: 2.9855 - val_accuracy: 0.4390 - lr: 0.0033\n",
      "\n",
      "Epoch 00224: LearningRateScheduler reducing learning rate to 0.003188559496860954.\n",
      "Epoch 224/250\n",
      "18/18 [==============================] - 0s 10ms/step - loss: 0.0251 - accuracy: 0.9895 - val_loss: 2.9849 - val_accuracy: 0.4390 - lr: 0.0032\n",
      "\n",
      "Epoch 00225: LearningRateScheduler reducing learning rate to 0.003188559496860954.\n",
      "Epoch 225/250\n",
      "18/18 [==============================] - 0s 10ms/step - loss: 0.0323 - accuracy: 0.9895 - val_loss: 2.9123 - val_accuracy: 0.4390 - lr: 0.0032\n",
      "\n",
      "Epoch 00226: LearningRateScheduler reducing learning rate to 0.003188559496860954.\n",
      "Epoch 226/250\n",
      "18/18 [==============================] - 0s 9ms/step - loss: 0.0247 - accuracy: 0.9930 - val_loss: 2.8148 - val_accuracy: 0.4634 - lr: 0.0032\n",
      "\n",
      "Epoch 00227: LearningRateScheduler reducing learning rate to 0.003188559496860954.\n",
      "Epoch 227/250\n",
      "18/18 [==============================] - 0s 9ms/step - loss: 0.0339 - accuracy: 0.9826 - val_loss: 2.8272 - val_accuracy: 0.4634 - lr: 0.0032\n",
      "\n",
      "Epoch 00228: LearningRateScheduler reducing learning rate to 0.003188559496860954.\n",
      "Epoch 228/250\n",
      "18/18 [==============================] - 0s 9ms/step - loss: 0.0395 - accuracy: 0.9861 - val_loss: 2.8680 - val_accuracy: 0.4878 - lr: 0.0032\n",
      "\n",
      "Epoch 00229: LearningRateScheduler reducing learning rate to 0.003188559496860954.\n",
      "Epoch 229/250\n",
      "18/18 [==============================] - 0s 10ms/step - loss: 0.0393 - accuracy: 0.9930 - val_loss: 2.8721 - val_accuracy: 0.4634 - lr: 0.0032\n",
      "\n",
      "Epoch 00230: LearningRateScheduler reducing learning rate to 0.003188559496860954.\n",
      "Epoch 230/250\n",
      "18/18 [==============================] - 0s 10ms/step - loss: 0.0460 - accuracy: 0.9895 - val_loss: 2.8836 - val_accuracy: 0.4390 - lr: 0.0032\n",
      "\n",
      "Epoch 00231: LearningRateScheduler reducing learning rate to 0.003188559496860954.\n",
      "Epoch 231/250\n",
      "18/18 [==============================] - 0s 9ms/step - loss: 0.0229 - accuracy: 0.9965 - val_loss: 2.8641 - val_accuracy: 0.4390 - lr: 0.0032\n",
      "\n",
      "Epoch 00232: LearningRateScheduler reducing learning rate to 0.003061017116986515.\n",
      "Epoch 232/250\n",
      "18/18 [==============================] - 0s 11ms/step - loss: 0.0262 - accuracy: 0.9930 - val_loss: 2.8839 - val_accuracy: 0.4634 - lr: 0.0031\n",
      "\n",
      "Epoch 00233: LearningRateScheduler reducing learning rate to 0.003061017116986515.\n",
      "Epoch 233/250\n",
      "18/18 [==============================] - 0s 10ms/step - loss: 0.0609 - accuracy: 0.9826 - val_loss: 2.8742 - val_accuracy: 0.4390 - lr: 0.0031\n",
      "\n",
      "Epoch 00234: LearningRateScheduler reducing learning rate to 0.003061017116986515.\n",
      "Epoch 234/250\n",
      "18/18 [==============================] - 0s 10ms/step - loss: 0.0404 - accuracy: 0.9895 - val_loss: 2.8517 - val_accuracy: 0.3902 - lr: 0.0031\n",
      "\n",
      "Epoch 00235: LearningRateScheduler reducing learning rate to 0.003061017116986515.\n",
      "Epoch 235/250\n",
      "18/18 [==============================] - 0s 10ms/step - loss: 0.0243 - accuracy: 0.9965 - val_loss: 2.8421 - val_accuracy: 0.4390 - lr: 0.0031\n",
      "\n",
      "Epoch 00236: LearningRateScheduler reducing learning rate to 0.003061017116986515.\n",
      "Epoch 236/250\n",
      "18/18 [==============================] - 0s 9ms/step - loss: 0.0435 - accuracy: 0.9861 - val_loss: 2.8846 - val_accuracy: 0.4390 - lr: 0.0031\n",
      "\n",
      "Epoch 00237: LearningRateScheduler reducing learning rate to 0.003061017116986515.\n",
      "Epoch 237/250\n",
      "18/18 [==============================] - 0s 9ms/step - loss: 0.0293 - accuracy: 0.9895 - val_loss: 2.9466 - val_accuracy: 0.4390 - lr: 0.0031\n",
      "\n",
      "Epoch 00238: LearningRateScheduler reducing learning rate to 0.003061017116986515.\n",
      "Epoch 238/250\n",
      "18/18 [==============================] - 0s 10ms/step - loss: 0.0560 - accuracy: 0.9756 - val_loss: 2.9799 - val_accuracy: 0.4390 - lr: 0.0031\n",
      "\n",
      "Epoch 00239: LearningRateScheduler reducing learning rate to 0.003061017116986515.\n",
      "Epoch 239/250\n",
      "18/18 [==============================] - 0s 9ms/step - loss: 0.0353 - accuracy: 0.9895 - val_loss: 2.9921 - val_accuracy: 0.4390 - lr: 0.0031\n",
      "\n",
      "Epoch 00240: LearningRateScheduler reducing learning rate to 0.0029385764323070548.\n",
      "Epoch 240/250\n",
      "18/18 [==============================] - 0s 10ms/step - loss: 0.0338 - accuracy: 0.9895 - val_loss: 2.9410 - val_accuracy: 0.4390 - lr: 0.0029\n",
      "\n",
      "Epoch 00241: LearningRateScheduler reducing learning rate to 0.0029385764323070548.\n",
      "Epoch 241/250\n",
      "18/18 [==============================] - 0s 10ms/step - loss: 0.0538 - accuracy: 0.9826 - val_loss: 2.9749 - val_accuracy: 0.4390 - lr: 0.0029\n",
      "\n",
      "Epoch 00242: LearningRateScheduler reducing learning rate to 0.0029385764323070548.\n",
      "Epoch 242/250\n",
      "18/18 [==============================] - 0s 10ms/step - loss: 0.0833 - accuracy: 0.9686 - val_loss: 3.0846 - val_accuracy: 0.4390 - lr: 0.0029\n",
      "\n",
      "Epoch 00243: LearningRateScheduler reducing learning rate to 0.0029385764323070548.\n",
      "Epoch 243/250\n",
      "18/18 [==============================] - 0s 10ms/step - loss: 0.0276 - accuracy: 0.9895 - val_loss: 3.0638 - val_accuracy: 0.4390 - lr: 0.0029\n",
      "\n",
      "Epoch 00244: LearningRateScheduler reducing learning rate to 0.0029385764323070548.\n",
      "Epoch 244/250\n",
      "18/18 [==============================] - 0s 9ms/step - loss: 0.0226 - accuracy: 0.9965 - val_loss: 3.0613 - val_accuracy: 0.4634 - lr: 0.0029\n",
      "\n",
      "Epoch 00245: LearningRateScheduler reducing learning rate to 0.0029385764323070548.\n",
      "Epoch 245/250\n",
      "18/18 [==============================] - 0s 10ms/step - loss: 0.0833 - accuracy: 0.9652 - val_loss: 3.0272 - val_accuracy: 0.4634 - lr: 0.0029\n",
      "\n",
      "Epoch 00246: LearningRateScheduler reducing learning rate to 0.0029385764323070548.\n",
      "Epoch 246/250\n",
      "18/18 [==============================] - 0s 10ms/step - loss: 0.0250 - accuracy: 0.9965 - val_loss: 2.9569 - val_accuracy: 0.4634 - lr: 0.0029\n",
      "\n",
      "Epoch 00247: LearningRateScheduler reducing learning rate to 0.0029385764323070548.\n",
      "Epoch 247/250\n",
      "18/18 [==============================] - 0s 10ms/step - loss: 0.0498 - accuracy: 0.9756 - val_loss: 2.9659 - val_accuracy: 0.4390 - lr: 0.0029\n",
      "\n",
      "Epoch 00248: LearningRateScheduler reducing learning rate to 0.002821033375014773.\n",
      "Epoch 248/250\n",
      "18/18 [==============================] - 0s 10ms/step - loss: 0.0163 - accuracy: 1.0000 - val_loss: 3.0210 - val_accuracy: 0.4634 - lr: 0.0028\n",
      "\n",
      "Epoch 00249: LearningRateScheduler reducing learning rate to 0.002821033375014773.\n",
      "Epoch 249/250\n",
      "18/18 [==============================] - 0s 9ms/step - loss: 0.0133 - accuracy: 1.0000 - val_loss: 3.0035 - val_accuracy: 0.4634 - lr: 0.0028\n",
      "\n",
      "Epoch 00250: LearningRateScheduler reducing learning rate to 0.002821033375014773.\n",
      "Epoch 250/250\n",
      "18/18 [==============================] - 0s 11ms/step - loss: 0.0292 - accuracy: 0.9895 - val_loss: 2.9371 - val_accuracy: 0.4390 - lr: 0.0028\n"
     ]
    }
   ],
   "source": [
    "history = model.fit(X_train, y_train, validation_data=(X_validate,y_validate), epochs=epochs, batch_size=16, callbacks=[lr_sc])"
   ]
  },
  {
   "cell_type": "markdown",
   "metadata": {},
   "source": [
    "### Evaluation"
   ]
  },
  {
   "cell_type": "code",
   "execution_count": 149,
   "metadata": {
    "colab": {
     "base_uri": "https://localhost:8080/",
     "height": 424
    },
    "colab_type": "code",
    "id": "02YHGsIEpSFW",
    "outputId": "69c0d538-193f-43b3-a3db-60929c8a6a37"
   },
   "outputs": [
    {
     "data": {
      "text/html": [
       "<div>\n",
       "<style scoped>\n",
       "    .dataframe tbody tr th:only-of-type {\n",
       "        vertical-align: middle;\n",
       "    }\n",
       "\n",
       "    .dataframe tbody tr th {\n",
       "        vertical-align: top;\n",
       "    }\n",
       "\n",
       "    .dataframe thead th {\n",
       "        text-align: right;\n",
       "    }\n",
       "</style>\n",
       "<table border=\"1\" class=\"dataframe\">\n",
       "  <thead>\n",
       "    <tr style=\"text-align: right;\">\n",
       "      <th></th>\n",
       "      <th>loss</th>\n",
       "      <th>accuracy</th>\n",
       "      <th>val_loss</th>\n",
       "      <th>val_accuracy</th>\n",
       "      <th>lr</th>\n",
       "    </tr>\n",
       "  </thead>\n",
       "  <tbody>\n",
       "    <tr>\n",
       "      <th>0</th>\n",
       "      <td>2.478740</td>\n",
       "      <td>0.181185</td>\n",
       "      <td>11.579500</td>\n",
       "      <td>0.097561</td>\n",
       "      <td>0.010000</td>\n",
       "    </tr>\n",
       "    <tr>\n",
       "      <th>1</th>\n",
       "      <td>2.039516</td>\n",
       "      <td>0.271777</td>\n",
       "      <td>15.460062</td>\n",
       "      <td>0.121951</td>\n",
       "      <td>0.010000</td>\n",
       "    </tr>\n",
       "    <tr>\n",
       "      <th>2</th>\n",
       "      <td>1.844186</td>\n",
       "      <td>0.306620</td>\n",
       "      <td>5.564556</td>\n",
       "      <td>0.170732</td>\n",
       "      <td>0.010000</td>\n",
       "    </tr>\n",
       "    <tr>\n",
       "      <th>3</th>\n",
       "      <td>1.770966</td>\n",
       "      <td>0.289199</td>\n",
       "      <td>3.138508</td>\n",
       "      <td>0.219512</td>\n",
       "      <td>0.010000</td>\n",
       "    </tr>\n",
       "    <tr>\n",
       "      <th>4</th>\n",
       "      <td>1.801518</td>\n",
       "      <td>0.310105</td>\n",
       "      <td>2.292446</td>\n",
       "      <td>0.268293</td>\n",
       "      <td>0.010000</td>\n",
       "    </tr>\n",
       "    <tr>\n",
       "      <th>...</th>\n",
       "      <td>...</td>\n",
       "      <td>...</td>\n",
       "      <td>...</td>\n",
       "      <td>...</td>\n",
       "      <td>...</td>\n",
       "    </tr>\n",
       "    <tr>\n",
       "      <th>245</th>\n",
       "      <td>0.024979</td>\n",
       "      <td>0.996516</td>\n",
       "      <td>2.956918</td>\n",
       "      <td>0.463415</td>\n",
       "      <td>0.002939</td>\n",
       "    </tr>\n",
       "    <tr>\n",
       "      <th>246</th>\n",
       "      <td>0.049787</td>\n",
       "      <td>0.975610</td>\n",
       "      <td>2.965864</td>\n",
       "      <td>0.439024</td>\n",
       "      <td>0.002939</td>\n",
       "    </tr>\n",
       "    <tr>\n",
       "      <th>247</th>\n",
       "      <td>0.016292</td>\n",
       "      <td>1.000000</td>\n",
       "      <td>3.020995</td>\n",
       "      <td>0.463415</td>\n",
       "      <td>0.002821</td>\n",
       "    </tr>\n",
       "    <tr>\n",
       "      <th>248</th>\n",
       "      <td>0.013295</td>\n",
       "      <td>1.000000</td>\n",
       "      <td>3.003497</td>\n",
       "      <td>0.463415</td>\n",
       "      <td>0.002821</td>\n",
       "    </tr>\n",
       "    <tr>\n",
       "      <th>249</th>\n",
       "      <td>0.029235</td>\n",
       "      <td>0.989547</td>\n",
       "      <td>2.937133</td>\n",
       "      <td>0.439024</td>\n",
       "      <td>0.002821</td>\n",
       "    </tr>\n",
       "  </tbody>\n",
       "</table>\n",
       "<p>250 rows × 5 columns</p>\n",
       "</div>"
      ],
      "text/plain": [
       "         loss  accuracy   val_loss  val_accuracy        lr\n",
       "0    2.478740  0.181185  11.579500      0.097561  0.010000\n",
       "1    2.039516  0.271777  15.460062      0.121951  0.010000\n",
       "2    1.844186  0.306620   5.564556      0.170732  0.010000\n",
       "3    1.770966  0.289199   3.138508      0.219512  0.010000\n",
       "4    1.801518  0.310105   2.292446      0.268293  0.010000\n",
       "..        ...       ...        ...           ...       ...\n",
       "245  0.024979  0.996516   2.956918      0.463415  0.002939\n",
       "246  0.049787  0.975610   2.965864      0.439024  0.002939\n",
       "247  0.016292  1.000000   3.020995      0.463415  0.002821\n",
       "248  0.013295  1.000000   3.003497      0.463415  0.002821\n",
       "249  0.029235  0.989547   2.937133      0.439024  0.002821\n",
       "\n",
       "[250 rows x 5 columns]"
      ]
     },
     "execution_count": 149,
     "metadata": {
      "tags": []
     },
     "output_type": "execute_result"
    }
   ],
   "source": [
    "metrics=pd.DataFrame(model.history.history)\n",
    "metrics"
   ]
  },
  {
   "cell_type": "code",
   "execution_count": 150,
   "metadata": {
    "colab": {
     "base_uri": "https://localhost:8080/",
     "height": 285
    },
    "colab_type": "code",
    "id": "bLyMEnUupSFa",
    "outputId": "46a18315-2174-4b55-a372-f0d3133fddfa"
   },
   "outputs": [
    {
     "data": {
      "text/plain": [
       "<matplotlib.axes._subplots.AxesSubplot at 0x7f7296e5f160>"
      ]
     },
     "execution_count": 150,
     "metadata": {
      "tags": []
     },
     "output_type": "execute_result"
    },
    {
     "data": {
      "image/png": "[encoded data removed]",
      "text/plain": [
       "<Figure size 432x288 with 1 Axes>"
      ]
     },
     "metadata": {
      "needs_background": "light",
      "tags": []
     },
     "output_type": "display_data"
    }
   ],
   "source": [
    "metrics[['loss','val_loss']].plot()"
   ]
  },
  {
   "cell_type": "code",
   "execution_count": 151,
   "metadata": {
    "colab": {
     "base_uri": "https://localhost:8080/",
     "height": 284
    },
    "colab_type": "code",
    "id": "5C7HbVOSpSFh",
    "outputId": "196da55b-d0c3-40ad-cb2e-3bcb16d16e60"
   },
   "outputs": [
    {
     "data": {
      "text/plain": [
       "<matplotlib.axes._subplots.AxesSubplot at 0x7f72ba742a90>"
      ]
     },
     "execution_count": 151,
     "metadata": {
      "tags": []
     },
     "output_type": "execute_result"
    },
    {
     "data": {
      "image/png": "[encoded data removed]",
      "text/plain": [
       "<Figure size 432x288 with 1 Axes>"
      ]
     },
     "metadata": {
      "needs_background": "light",
      "tags": []
     },
     "output_type": "display_data"
    }
   ],
   "source": [
    "metrics[['accuracy','val_accuracy']].plot()"
   ]
  },
  {
   "cell_type": "code",
   "execution_count": 152,
   "metadata": {
    "colab": {
     "base_uri": "https://localhost:8080/",
     "height": 36
    },
    "colab_type": "code",
    "id": "qsAmGUBmpSFk",
    "outputId": "39e1c4e1-bf54-4324-e553-b3b86845eb46"
   },
   "outputs": [
    {
     "data": {
      "text/plain": [
       "['loss', 'accuracy']"
      ]
     },
     "execution_count": 152,
     "metadata": {
      "tags": []
     },
     "output_type": "execute_result"
    }
   ],
   "source": [
    "model.metrics_names"
   ]
  },
  {
   "cell_type": "markdown",
   "metadata": {},
   "source": [
    "### Saving the Final Trained Model"
   ]
  },
  {
   "cell_type": "code",
   "execution_count": 153,
   "metadata": {
    "colab": {},
    "colab_type": "code",
    "id": "JVsL3SS_pSFp"
   },
   "outputs": [],
   "source": [
    "model.save('DL_ASSIGN_3_TASK_2.h5')"
   ]
  },
  {
   "cell_type": "code",
   "execution_count": 154,
   "metadata": {
    "colab": {},
    "colab_type": "code",
    "id": "6Q0I0763pSFs"
   },
   "outputs": [],
   "source": [
    "from tensorflow.keras.models import load_model"
   ]
  },
  {
   "cell_type": "code",
   "execution_count": 155,
   "metadata": {
    "colab": {},
    "colab_type": "code",
    "id": "z7fAdfgXpSFw"
   },
   "outputs": [],
   "source": [
    "Final_model=load_model('DL_ASSIGN_3_TASK_2.h5')"
   ]
  },
  {
   "cell_type": "code",
   "execution_count": 156,
   "metadata": {
    "colab": {
     "base_uri": "https://localhost:8080/",
     "height": 111
    },
    "colab_type": "code",
    "id": "Sx8hJ3DIpSF2",
    "outputId": "7eb6103a-c874-40ab-a056-40485db7976a"
   },
   "outputs": [
    {
     "data": {
      "text/plain": [
       "array([[0., 0., 0., 1., 0., 0., 0.],\n",
       "       [1., 0., 0., 0., 0., 0., 0.],\n",
       "       [0., 0., 1., 0., 0., 0., 0.],\n",
       "       [0., 0., 0., 1., 0., 0., 0.],\n",
       "       [0., 0., 1., 0., 0., 0., 0.]], dtype=float32)"
      ]
     },
     "execution_count": 156,
     "metadata": {
      "tags": []
     },
     "output_type": "execute_result"
    }
   ],
   "source": [
    "a=X_test[:5]\n",
    "b=y_test[:5]\n",
    "c=Final_model.predict_classes(a)\n",
    "c=to_categorical(c,7)\n",
    "c"
   ]
  },
  {
   "cell_type": "markdown",
   "metadata": {
    "colab": {},
    "colab_type": "code",
    "id": "7wtwVvYqpSF6"
   },
   "source": [
    "#### Classification Report & Confusion Matrix"
   ]
  },
  {
   "cell_type": "code",
   "execution_count": 157,
   "metadata": {
    "colab": {},
    "colab_type": "code",
    "id": "t0THtUlOpSF-"
   },
   "outputs": [],
   "source": [
    "from sklearn.metrics import classification_report,multilabel_confusion_matrix"
   ]
  },
  {
   "cell_type": "code",
   "execution_count": 158,
   "metadata": {
    "colab": {},
    "colab_type": "code",
    "id": "q0myrK95pSGB"
   },
   "outputs": [],
   "source": [
    "predictions=Final_model.predict_classes(X_test)\n",
    "predictions=to_categorical(predictions,7)"
   ]
  },
  {
   "cell_type": "code",
   "execution_count": 159,
   "metadata": {
    "colab": {
     "base_uri": "https://localhost:8080/",
     "height": 298
    },
    "colab_type": "code",
    "id": "ILy6QNs0pSGD",
    "outputId": "018db7d2-196a-4cb4-801d-0c65c8d63835"
   },
   "outputs": [
    {
     "name": "stdout",
     "output_type": "stream",
     "text": [
      "              precision    recall  f1-score   support\n",
      "\n",
      "           0       0.27      0.46      0.34        13\n",
      "           1       0.69      0.69      0.69        13\n",
      "           2       0.57      0.31      0.40        13\n",
      "           3       0.13      0.25      0.17         8\n",
      "           4       0.50      0.38      0.43        13\n",
      "           5       0.50      0.23      0.32        13\n",
      "           6       0.33      0.33      0.33         9\n",
      "\n",
      "   micro avg       0.39      0.39      0.39        82\n",
      "   macro avg       0.43      0.38      0.38        82\n",
      "weighted avg       0.45      0.39      0.40        82\n",
      " samples avg       0.39      0.39      0.39        82\n",
      "\n"
     ]
    }
   ],
   "source": [
    "print(classification_report(y_test,predictions))"
   ]
  },
  {
   "cell_type": "code",
   "execution_count": 160,
   "metadata": {
    "colab": {
     "base_uri": "https://localhost:8080/",
     "height": 36
    },
    "colab_type": "code",
    "id": "vZhC-DzrpSGK",
    "outputId": "a0e385a7-ff5d-466c-a4ab-9a8ee6bca61b"
   },
   "outputs": [
    {
     "data": {
      "text/plain": [
       "array([0., 0., 0., 1., 0., 0., 0.], dtype=float32)"
      ]
     },
     "execution_count": 160,
     "metadata": {
      "tags": []
     },
     "output_type": "execute_result"
    }
   ],
   "source": [
    "predictions[0]"
   ]
  },
  {
   "cell_type": "code",
   "execution_count": 161,
   "metadata": {
    "colab": {
     "base_uri": "https://localhost:8080/",
     "height": 36
    },
    "colab_type": "code",
    "id": "LEInhyF7pSGN",
    "outputId": "b72fa652-7433-4a8d-d9ff-652ad33bf355"
   },
   "outputs": [
    {
     "data": {
      "text/plain": [
       "array([0., 0., 1., 0., 0., 0., 0.], dtype=float32)"
      ]
     },
     "execution_count": 161,
     "metadata": {
      "tags": []
     },
     "output_type": "execute_result"
    }
   ],
   "source": [
    "y_test[0]"
   ]
  },
  {
   "cell_type": "code",
   "execution_count": 162,
   "metadata": {
    "colab": {
     "base_uri": "https://localhost:8080/",
     "height": 392
    },
    "colab_type": "code",
    "id": "iO8CKlzepSGQ",
    "outputId": "0511ffac-1683-4793-cf03-ba2819abe93b"
   },
   "outputs": [
    {
     "name": "stdout",
     "output_type": "stream",
     "text": [
      "[[[53 16]\n",
      "  [ 7  6]]\n",
      "\n",
      " [[65  4]\n",
      "  [ 4  9]]\n",
      "\n",
      " [[66  3]\n",
      "  [ 9  4]]\n",
      "\n",
      " [[61 13]\n",
      "  [ 6  2]]\n",
      "\n",
      " [[64  5]\n",
      "  [ 8  5]]\n",
      "\n",
      " [[66  3]\n",
      "  [10  3]]\n",
      "\n",
      " [[67  6]\n",
      "  [ 6  3]]]\n"
     ]
    }
   ],
   "source": [
    "print(multilabel_confusion_matrix(y_test,predictions))"
   ]
  },
  {
   "cell_type": "markdown",
   "metadata": {},
   "source": [
    "#### Prediction"
   ]
  },
  {
   "cell_type": "code",
   "execution_count": 163,
   "metadata": {
    "colab": {
     "base_uri": "https://localhost:8080/",
     "height": 54
    },
    "colab_type": "code",
    "id": "aZVvH6OvpSGU",
    "outputId": "cbf3c679-f41f-4635-d2b5-d4f9e57cf21c"
   },
   "outputs": [
    {
     "data": {
      "text/plain": [
       "array([[53, 16],\n",
       "       [ 7,  6]])"
      ]
     },
     "execution_count": 163,
     "metadata": {
      "tags": []
     },
     "output_type": "execute_result"
    }
   ],
   "source": [
    "multilabel_confusion_matrix(y_test,predictions)[0]"
   ]
  },
  {
   "cell_type": "code",
   "execution_count": 164,
   "metadata": {
    "colab": {
     "base_uri": "https://localhost:8080/",
     "height": 284
    },
    "colab_type": "code",
    "id": "IKrUIVJvpSGW",
    "outputId": "bf06ebeb-8045-4cdc-ac64-0ee9a0d5661d"
   },
   "outputs": [
    {
     "data": {
      "text/plain": [
       "<matplotlib.axes._subplots.AxesSubplot at 0x7f7297452f98>"
      ]
     },
     "execution_count": 164,
     "metadata": {
      "tags": []
     },
     "output_type": "execute_result"
    },
    {
     "data": {
      "image/png": "[encoded data removed]",
      "text/plain": [
       "<Figure size 432x288 with 2 Axes>"
      ]
     },
     "metadata": {
      "needs_background": "light",
      "tags": []
     },
     "output_type": "display_data"
    }
   ],
   "source": [
    "import seaborn as sns\n",
    "sns.heatmap(multilabel_confusion_matrix(y_test,predictions)[0],annot=True)"
   ]
  },
  {
   "cell_type": "markdown",
   "metadata": {
    "colab": {},
    "colab_type": "code",
    "id": "jkg-KrtmpSGa"
   },
   "source": [
    "## Done !"
   ]
  }
 ],
 "metadata": {
  "accelerator": "GPU",
  "colab": {
   "name": "assignment_3_task_2_Copy2.ipynb",
   "provenance": []
  },
  "kernelspec": {
   "display_name": "Python 3",
   "language": "python",
   "name": "python3"
  },
  "language_info": {
   "codemirror_mode": {
    "name": "ipython",
    "version": 3
   },
   "file_extension": ".py",
   "mimetype": "text/x-python",
   "name": "python",
   "nbconvert_exporter": "python",
   "pygments_lexer": "ipython3",
   "version": "3.7.6"
  }
 },
 "nbformat": 4,
 "nbformat_minor": 1
}
