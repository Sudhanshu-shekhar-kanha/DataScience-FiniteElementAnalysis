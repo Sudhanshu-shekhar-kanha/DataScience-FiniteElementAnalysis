{
 "cells": [
  {
   "cell_type": "markdown",
   "metadata": {},
   "source": [
    "# System Identification is used to Identify Hydrodynamic derivatives of Abkowitz Maneuver Model by ϵ Support Vector Regression\n",
    "---\n",
    "**Standard maneuvers, 35° turning circle, 10°/10°and 20°/20° zigzags, are simulated and compared with the predicted model by ϵ-SVR.**\n",
    "**The predicted results are compared with results obtained from Planar Motion Mechanism (PMM) test.**\n",
    "\n",
    "* This CODE is part of Research done at IITM under the Guidance of **Dr. Abhilash Sharma Somayajula** during July 2019- July 2020 and submitted by **Sudhanshu Shekhar Kanha** as MS Scholar in Department of Ocean Engineering.\n",
    "**All rights Reserved**\n"
   ]
  },
  {
   "cell_type": "markdown",
   "metadata": {},
   "source": [
    "### Importing Libraries"
   ]
  },
  {
   "cell_type": "code",
   "execution_count": null,
   "metadata": {},
   "outputs": [],
   "source": [
    "import numpy as np\n",
    "import pandas as pd\n",
    "from matplotlib import pyplot as plt\n",
    "%matplotlib inline\n",
    "import tensorflow as tf"
   ]
  },
  {
   "cell_type": "markdown",
   "metadata": {},
   "source": [
    "## Data"
   ]
  },
  {
   "cell_type": "code",
   "execution_count": 2,
   "metadata": {},
   "outputs": [],
   "source": [
    "df=pd.read_csv('Mariner_10_10_zigzag_half_samples(8).csv')"
   ]
  },
  {
   "cell_type": "code",
   "execution_count": null,
   "metadata": {},
   "outputs": [],
   "source": [
    "columns1= ['del_u','v','r','U','delta']\n",
    "df=pd.DataFrame(data=df,columns=columns1)\n",
    "df"
   ]
  },
  {
   "cell_type": "code",
   "execution_count": 4,
   "metadata": {},
   "outputs": [],
   "source": [
    "del_u1=df['del_u']\n",
    "v1=df['v']\n",
    "r1=df['r']\n",
    "U1=df['U']\n",
    "delta1=df['delta']"
   ]
  },
  {
   "cell_type": "code",
   "execution_count": 5,
   "metadata": {},
   "outputs": [
    {
     "data": {
      "text/plain": [
       "251"
      ]
     },
     "execution_count": 5,
     "metadata": {},
     "output_type": "execute_result"
    }
   ],
   "source": [
    "len(del_u1)"
   ]
  },
  {
   "cell_type": "code",
   "execution_count": 6,
   "metadata": {},
   "outputs": [
    {
     "data": {
      "text/plain": [
       "0.000382035"
      ]
     },
     "execution_count": 6,
     "metadata": {},
     "output_type": "execute_result"
    }
   ],
   "source": [
    "del_u1[0]"
   ]
  },
  {
   "cell_type": "markdown",
   "metadata": {},
   "source": [
    "## Parameters of Mariner Class Vessel"
   ]
  },
  {
   "cell_type": "code",
   "execution_count": 7,
   "metadata": {},
   "outputs": [],
   "source": [
    "'''\n",
    "Main Data parameter of Mariner class vessel\n",
    "\n",
    "length overal (m)=Loa\n",
    "length between perpendiculars (m)= Lpp\n",
    "maximum beam (m)=B\n",
    "design draft (m)=T\n",
    "design displacement (m*3)= D\n",
    "design speed (knots)=Uo\n",
    "maximum rudder rate (degree/second)= delta_max\n",
    "dimensionless mass of ship=m1\n",
    "dimensionless moment of inertia=Iz1\n",
    "dimensionless longitudinal coordinate of ships centre of gravity = xG1\n",
    "\n",
    "'''\n",
    "Loa=171.8\n",
    "Lpp=160.93\n",
    "L=Lpp\n",
    "B=23.17\n",
    "T=8.23\n",
    "D=18541\n",
    "Uo=7.9738\n",
    "delta_max=5\n",
    "m1=7.98*10**(-3)\n",
    "Iz1=3.92*10**(-4)\n",
    "xG1=-2.3*10**(-2)\n",
    "\n",
    "'''\n",
    "Predetermined hydrodynamic derivatives\n",
    "\n",
    "Xudot1, Yvdot1 ,Yrdot1 , Nvdot1 , Nrdot1 \n",
    "\n",
    "let, E= 10**(-5)\n",
    "\n",
    "'''\n",
    "E= 10**(-5)\n",
    "Xudot1=(-840)*E\n",
    "Yvdot1=-1546*E\n",
    "Yrdot1=9*E\n",
    "Nvdot1=23*E\n",
    "Nrdot1=-83*E"
   ]
  },
  {
   "cell_type": "code",
   "execution_count": 8,
   "metadata": {},
   "outputs": [],
   "source": [
    "'''\n",
    "acceleration term: udot ,vdot, rdot\n",
    "timestep =1 second\n",
    "'''\n",
    "\n",
    "def dot1(e):\n",
    "    A=[]\n",
    "    h=4\n",
    "    for i in range(len(e)):\n",
    "        e[-1]=0\n",
    "        a=(e[i]-e[i-1])/h\n",
    "        A.append(a)\n",
    "    return A\n",
    "\n"
   ]
  },
  {
   "cell_type": "code",
   "execution_count": 9,
   "metadata": {},
   "outputs": [],
   "source": [
    "udot1=dot1(del_u1)\n",
    "vdot1=dot1(v1)\n",
    "rdot1=dot1(r1)"
   ]
  },
  {
   "cell_type": "code",
   "execution_count": 10,
   "metadata": {},
   "outputs": [
    {
     "data": {
      "text/plain": [
       "251"
      ]
     },
     "execution_count": 10,
     "metadata": {},
     "output_type": "execute_result"
    }
   ],
   "source": [
    "len(udot1)"
   ]
  },
  {
   "cell_type": "code",
   "execution_count": 11,
   "metadata": {},
   "outputs": [],
   "source": [
    "del_u1=df['del_u']\n",
    "v1=df['v']\n",
    "r1=df['r']\n",
    "U1=df['U']\n",
    "delta1=df['delta']"
   ]
  },
  {
   "cell_type": "code",
   "execution_count": 12,
   "metadata": {},
   "outputs": [],
   "source": [
    "def original(del_u1):\n",
    "    del_u1=del_u1[:len(del_u1)-1]\n",
    "    return del_u1"
   ]
  },
  {
   "cell_type": "code",
   "execution_count": 13,
   "metadata": {},
   "outputs": [],
   "source": [
    "del_u1=original(del_u1)\n",
    "v1=original(v1)\n",
    "r1=original(r1)"
   ]
  },
  {
   "cell_type": "code",
   "execution_count": 14,
   "metadata": {
    "scrolled": true
   },
   "outputs": [
    {
     "data": {
      "text/plain": [
       "0      7.974188\n",
       "1      7.974252\n",
       "2      7.973845\n",
       "3      7.971037\n",
       "4      7.967070\n",
       "         ...   \n",
       "246    7.636948\n",
       "247    7.642178\n",
       "248    7.647621\n",
       "249    7.655741\n",
       "250    7.662993\n",
       "Name: U, Length: 251, dtype: float64"
      ]
     },
     "execution_count": 14,
     "metadata": {},
     "output_type": "execute_result"
    }
   ],
   "source": [
    "U1"
   ]
  },
  {
   "cell_type": "markdown",
   "metadata": {},
   "source": [
    "## Dimensional State Vectors"
   ]
  },
  {
   "cell_type": "code",
   "execution_count": 15,
   "metadata": {},
   "outputs": [],
   "source": [
    "'''\n",
    "Dimensional state vectors\n",
    "'''\n",
    "\n",
    "def A1(del_u1,v1,r1,U1,RA1):\n",
    "    surge1=[]\n",
    "    for i in range(len(del_u1)):\n",
    "        a11=del_u1[i]*U1[i]\n",
    "        a12=del_u1[i]*del_u1[i]\n",
    "        a13=((del_u1[i])**3)/U1[i]\n",
    "        a14=(v1[i])**2\n",
    "        a15=((r1[i])**2)*L*L\n",
    "        a16=v1[i]*r1[i]*L\n",
    "        a17=((RA1[i])**2)*((U1[i])**2)\n",
    "        a18=del_u1[i]*(RA1[i]**2)*U1[i]\n",
    "        a19=v1[i]*RA1[i]*U1[i]\n",
    "        a10=del_u1[i]*v1[i]*RA1[i]\n",
    "        temp1=[a11,a12,a13,a14,a15,a16,a17,a18,a19,a10]\n",
    "        surge1.append(temp1)\n",
    "        \n",
    "    return surge1 \n",
    "\n",
    "\n",
    "def B1(del_u1,v1,r1,U1,RA1):\n",
    "    sway1=[]\n",
    "    for i in range(len(del_u1)):\n",
    "        b11=U1[i]**2\n",
    "        b12=del_u1[i]*U1[i]\n",
    "        b13=((del_u1[i])**2)\n",
    "        b14=(v1[i])*U1[i]\n",
    "        b15=((r1[i]))*U1[i]*L\n",
    "        b16=(v1[i]**3)/U1[i]\n",
    "        b17=(((v1[i]**2)*r1[i]*L)/U1[i])\n",
    "        b18=v1[i]*del_u1[i]\n",
    "        b19=r1[i]*del_u1[i]*L\n",
    "        b110=RA1[i]*(U1[i]**2)\n",
    "        b111=(RA1[i]**3)*(U1[i]**2)\n",
    "        b112=del_u1[i]*RA1[i]*U1[i]\n",
    "        b113=(del_u1[i]**2)*RA1[i]\n",
    "        b114=v1[i]*(RA1[i]**2)*U1[i]\n",
    "        b115=(v1[i]**2)*RA1[i]\n",
    "        \n",
    "        temp1=[b11,b12,b13,b14,b15,b16,b17,b18,b19,b110,b111,b112,b113,b114,b115]\n",
    "        sway1.append(temp1)\n",
    "        \n",
    "    return sway1\n",
    "\n",
    "\n",
    "def C1(del_u1,v1,r1,U1,RA1):\n",
    "    yaw1=[]\n",
    "    for i in range(len(del_u1)):\n",
    "        c11=U1[i]**2\n",
    "        c12=del_u1[i]*U1[i]\n",
    "        c13=((del_u1[i])**2)\n",
    "        c14=(v1[i])*U1[i]\n",
    "        c15=((r1[i]))*U1[i]*L\n",
    "        c16=(v1[i]**3)/U1[i]\n",
    "        c17=(((v1[i]**2)*r1[i]*L)/U1[i])\n",
    "        c18=v1[i]*del_u1[i]\n",
    "        c19=r1[i]*del_u1[i]*L\n",
    "        c110=RA1[i]*(U1[i]**2)\n",
    "        c111=(RA1[i]**3)*(U1[i]**2)\n",
    "        c112=del_u1[i]*RA1[i]*U1[i]\n",
    "        c113=(del_u1[i]**2)*RA1[i]\n",
    "        c114=v1[i]*(RA1[i]**2)*U1[i]\n",
    "        c115=(v1[i]**2)*RA1[i]\n",
    "        \n",
    "        temp1=[c11,c12,c13,c14,c15,c16,c17,c18,c19,c110,c111,c112,c113,c114,c115]\n",
    "        yaw1.append(temp1)\n",
    "        \n",
    "    return yaw1"
   ]
  },
  {
   "cell_type": "code",
   "execution_count": 16,
   "metadata": {},
   "outputs": [],
   "source": [
    "surge1=A1(del_u1,v1,r1,U1,delta1)\n",
    "sway1=B1(del_u1,v1,r1,U1,delta1)\n",
    "yaw1=C1(del_u1,v1,r1,U1,delta1)"
   ]
  },
  {
   "cell_type": "code",
   "execution_count": 17,
   "metadata": {},
   "outputs": [
    {
     "data": {
      "text/plain": [
       "[0.00304641902871864,\n",
       " 1.4595074122500003e-07,\n",
       " 6.992346969775406e-12,\n",
       " 0.0013194256385622009,\n",
       " 1.0538751521908526e-05,\n",
       " -0.00011791988363479047,\n",
       " 0.0,\n",
       " 0.0,\n",
       " 0.0,\n",
       " 0.0]"
      ]
     },
     "execution_count": 17,
     "metadata": {},
     "output_type": "execute_result"
    }
   ],
   "source": [
    "surge1[0]"
   ]
  },
  {
   "cell_type": "code",
   "execution_count": 18,
   "metadata": {},
   "outputs": [
    {
     "data": {
      "text/plain": [
       "[0.0036027033630443676,\n",
       " 2.0411601126399996e-07,\n",
       " 1.1564467527828566e-11,\n",
       " 0.0014124591889592038,\n",
       " 0.02519687535750621,\n",
       " -0.005965698461351309,\n",
       " 1.9370225254426787,\n",
       " 0.00010974462001994427,\n",
       " -0.052306455292654604,\n",
       " -2.963492672533948e-06]"
      ]
     },
     "execution_count": 18,
     "metadata": {},
     "output_type": "execute_result"
    }
   ],
   "source": [
    "surge1[1]"
   ]
  },
  {
   "cell_type": "code",
   "execution_count": 19,
   "metadata": {},
   "outputs": [
    {
     "data": {
      "text/plain": [
       "251"
      ]
     },
     "execution_count": 19,
     "metadata": {},
     "output_type": "execute_result"
    }
   ],
   "source": [
    "len(sway1)"
   ]
  },
  {
   "cell_type": "code",
   "execution_count": 20,
   "metadata": {},
   "outputs": [],
   "source": [
    "surge1=np.reshape((surge1),(-1,10))\n",
    "sway1=np.reshape((sway1),(-1,15))\n",
    "yaw1=np.reshape((yaw1),(-1,15))"
   ]
  },
  {
   "cell_type": "code",
   "execution_count": 21,
   "metadata": {},
   "outputs": [
    {
     "data": {
      "text/plain": [
       "(251, 15)"
      ]
     },
     "execution_count": 21,
     "metadata": {},
     "output_type": "execute_result"
    }
   ],
   "source": [
    "sway1.shape"
   ]
  },
  {
   "cell_type": "code",
   "execution_count": 22,
   "metadata": {},
   "outputs": [
    {
     "data": {
      "text/plain": [
       "(251, 15)"
      ]
     },
     "execution_count": 22,
     "metadata": {},
     "output_type": "execute_result"
    }
   ],
   "source": [
    "yaw1.shape"
   ]
  },
  {
   "cell_type": "code",
   "execution_count": 23,
   "metadata": {},
   "outputs": [
    {
     "data": {
      "text/plain": [
       "(251, 10)"
      ]
     },
     "execution_count": 23,
     "metadata": {},
     "output_type": "execute_result"
    }
   ],
   "source": [
    "surge1.shape"
   ]
  },
  {
   "cell_type": "markdown",
   "metadata": {},
   "source": [
    "## Input and output preparation for SVM Model-- Feature Engineering"
   ]
  },
  {
   "cell_type": "code",
   "execution_count": 24,
   "metadata": {},
   "outputs": [],
   "source": [
    "'''\n",
    "Input and output preparation for SVM Model\n",
    "'''\n",
    "def input_for_svm(del_u1,v1,r1,U1,RA1):\n",
    "    \n",
    "    Y_surge1=[]\n",
    "   \n",
    "    Y_sway1=[]\n",
    "   \n",
    "    Y_yaw1=[]\n",
    "  \n",
    "    \n",
    "    for i in range(len(udot1)):\n",
    "       \n",
    "        tempa1=L*(m1-Xudot1)*(udot1[i])\n",
    "      \n",
    "        Y_surge1.append(tempa1)\n",
    "       \n",
    "        \n",
    "        \n",
    "        t21=L*(m1-Yvdot1)\n",
    "        t221=vdot1[i]\n",
    "        \n",
    "        t23=L*L*(m1*xG1-Yrdot1)\n",
    "        t241=rdot1[i]\n",
    "        \n",
    "        tempb1=(t21*t221)+(t23*t241)\n",
    "        \n",
    "        Y_sway1.append(tempb1)\n",
    "        \n",
    "        \n",
    "        \n",
    "        tempc21=(L*(m1*xG1-Nvdot1)*(vdot1[i]))+(L*L*(Iz1-Nrdot1)*(rdot1[i]))\n",
    "        \n",
    "        Y_yaw1.append(tempc21)\n",
    "        \n",
    "    return Y_surge1,Y_sway1,Y_yaw1\n"
   ]
  },
  {
   "cell_type": "code",
   "execution_count": 25,
   "metadata": {},
   "outputs": [],
   "source": [
    "Y_surge1,Y_sway1,Y_yaw1=input_for_svm(del_u1,v1,r1,U1,delta1)"
   ]
  },
  {
   "cell_type": "code",
   "execution_count": 26,
   "metadata": {},
   "outputs": [
    {
     "data": {
      "text/plain": [
       "0.03429097234948236"
      ]
     },
     "execution_count": 26,
     "metadata": {},
     "output_type": "execute_result"
    }
   ],
   "source": [
    "Y_sway1[0]"
   ]
  },
  {
   "cell_type": "code",
   "execution_count": 27,
   "metadata": {},
   "outputs": [
    {
     "data": {
      "text/plain": [
       "251"
      ]
     },
     "execution_count": 27,
     "metadata": {},
     "output_type": "execute_result"
    }
   ],
   "source": [
    "len(Y_sway1)"
   ]
  },
  {
   "cell_type": "code",
   "execution_count": null,
   "metadata": {},
   "outputs": [],
   "source": []
  },
  {
   "cell_type": "code",
   "execution_count": 28,
   "metadata": {},
   "outputs": [],
   "source": [
    "Y_surge1=np.reshape((Y_surge1),(-1,1))\n",
    "Y_sway1=np.reshape((Y_sway1),(-1,1))\n",
    "Y_yaw1=np.reshape((Y_yaw1),(-1,1))"
   ]
  },
  {
   "cell_type": "code",
   "execution_count": 29,
   "metadata": {},
   "outputs": [
    {
     "data": {
      "text/plain": [
       "(251, 1)"
      ]
     },
     "execution_count": 29,
     "metadata": {},
     "output_type": "execute_result"
    }
   ],
   "source": [
    "Y_surge1.shape"
   ]
  },
  {
   "cell_type": "code",
   "execution_count": 30,
   "metadata": {},
   "outputs": [
    {
     "data": {
      "text/plain": [
       "array([0.03429097])"
      ]
     },
     "execution_count": 30,
     "metadata": {},
     "output_type": "execute_result"
    }
   ],
   "source": [
    "Y_sway1[0]"
   ]
  },
  {
   "cell_type": "code",
   "execution_count": 31,
   "metadata": {},
   "outputs": [
    {
     "data": {
      "text/plain": [
       "251"
      ]
     },
     "execution_count": 31,
     "metadata": {},
     "output_type": "execute_result"
    }
   ],
   "source": [
    "len(Y_sway1)"
   ]
  },
  {
   "cell_type": "code",
   "execution_count": 32,
   "metadata": {},
   "outputs": [
    {
     "data": {
      "text/plain": [
       "(251, 1)"
      ]
     },
     "execution_count": 32,
     "metadata": {},
     "output_type": "execute_result"
    }
   ],
   "source": [
    "Y_sway1.shape"
   ]
  },
  {
   "cell_type": "markdown",
   "metadata": {},
   "source": [
    "## PMM Calculated Hydrodynamic Derivatives"
   ]
  },
  {
   "cell_type": "code",
   "execution_count": 33,
   "metadata": {},
   "outputs": [],
   "source": [
    "'''\n",
    "PMM calculated Hydrodynamic derivatives all is to be  multiplied by 10**(-5)\n",
    "All hydrodynamic derivatives have zero dimension\n",
    "'''\n",
    "# E=10*(-5)\n",
    "\n",
    "# X hydrodynamic derivatives\n",
    "\n",
    "Xu=-184\n",
    "Xuu=-110\n",
    "Xuuu=-215\n",
    "Xvv=-899\n",
    "Xrr=18\n",
    "Xdd=-95\n",
    "Xddu=-190\n",
    "Xvr=798\n",
    "Xvd=93\n",
    "Xvdu=93\n",
    "\n",
    "X_original=[Xu,Xuu,Xuuu,Xvv,Xrr,Xdd,Xddu,Xvr,Xvd,Xvdu]\n",
    "\n",
    "X_hydrodynamic_derivatives=['Xu','Xuu','Xuuu','Xvv','Xrr','Xdd','Xddu','Xvr','Xvd','Xvdu']\n",
    "\n",
    "\n",
    "# Y hydrodynamic derivatives\n",
    "\n",
    "Y0=-4\n",
    "Yu=-8\n",
    "Yuu=-4\n",
    "Yv=-1160\n",
    "Yr=-499\n",
    "Yvvv=-8078\n",
    "Yvvr=15356\n",
    "Yvu=-1160\n",
    "Yru=-499\n",
    "Yd=278\n",
    "Yddd=-90\n",
    "Yud=556\n",
    "Yuud=278\n",
    "Yvdd=-4\n",
    "Yvvd=1190\n",
    "\n",
    "Y_original=[Y0,Yu,Yuu,Yv,Yr,Yvvv,Yvvr,Yvu,Yru,Yd,Yddd,Yud,Yuud,Yvdd,Yvvd]\n",
    "Y_hydrodynamic_derivatives=['Y0','Yu','Yuu','Yv','Yr','Yvvv','Yvvr','Yvu','Yru','Yd','Yddd','Yud','Yuud','Yvdd','Yvvd']\n",
    "\n",
    "# N hydrodynamic derivatives\n",
    "\n",
    "N0=3\n",
    "Nu=6\n",
    "Nuu=3\n",
    "Nv=-264\n",
    "Nr=-166\n",
    "Nvvv=-1636\n",
    "Nvvr=-5483\n",
    "Nvu=-264\n",
    "Nru=-166\n",
    "Nd=-139\n",
    "Nddd=45\n",
    "Nud=-278\n",
    "Nuud=-139\n",
    "Nvdd=13\n",
    "Nvvd=-489\n",
    "\n",
    "N_original=[N0,Nu,Nuu,Nv,Nr,Nvvv,Nvvr,Nvu,Nru,Nd,Nddd,Nud,Nuud,Nvdd,Nvvd]\n",
    "\n",
    "N_hydrodynamic_derivatives=['N0','Nu','Nuu','Nv','Nr','Nvvv','Nvvr','Nvu','Nru','Nd','Nddd','Nud','Nuud','Nvdd','Nvvd']"
   ]
  },
  {
   "cell_type": "markdown",
   "metadata": {},
   "source": [
    "## Saving the data after Feature Engineering"
   ]
  },
  {
   "cell_type": "code",
   "execution_count": 34,
   "metadata": {},
   "outputs": [],
   "source": [
    "import pickle\n",
    "\n",
    "pickle_out=open(\"surge1.pickle\",\"wb\")\n",
    "pickle.dump(surge1,pickle_out)\n",
    "pickle_out.close()\n",
    "\n",
    "pickle_out=open(\"sway1.pickle\",\"wb\")\n",
    "pickle.dump(sway1,pickle_out)\n",
    "pickle_out.close()\n",
    "\n",
    "pickle_out=open(\"yaw1.pickle\",\"wb\")\n",
    "pickle.dump(yaw1,pickle_out)\n",
    "pickle_out.close()\n",
    "\n",
    "pickle_out=open(\"Y_surge1.pickle\",\"wb\")\n",
    "pickle.dump(Y_surge1,pickle_out)\n",
    "pickle_out.close()\n",
    "\n",
    "\n",
    "pickle_out=open(\"Y_sway1.pickle\",\"wb\")\n",
    "pickle.dump(Y_sway1,pickle_out)\n",
    "pickle_out.close()\n",
    "\n",
    "pickle_out=open(\"Y_yaw1.pickle\",\"wb\")\n",
    "pickle.dump(Y_yaw1,pickle_out)\n",
    "pickle_out.close()"
   ]
  },
  {
   "cell_type": "code",
   "execution_count": 35,
   "metadata": {},
   "outputs": [],
   "source": [
    "import pickle\n",
    "X_train=pickle.load(open(\"surge1.pickle\",\"rb\"))\n",
    "y_train=pickle.load(open(\"sway1.pickle\",\"rb\"))\n",
    "X_validate=pickle.load(open(\"yaw1.pickle\",\"rb\"))\n",
    "\n",
    "y_validate=pickle.load(open(\"Y_surge1.pickle\",\"rb\"))\n",
    "X_test=pickle.load(open(\"Y_sway1.pickle\",\"rb\"))\n",
    "y_test=pickle.load(open(\"Y_yaw1.pickle\",\"rb\"))"
   ]
  },
  {
   "cell_type": "markdown",
   "metadata": {},
   "source": [
    "## Making the Model"
   ]
  },
  {
   "cell_type": "code",
   "execution_count": 36,
   "metadata": {
    "scrolled": true
   },
   "outputs": [
    {
     "name": "stderr",
     "output_type": "stream",
     "text": [
      "c:\\users\\user\\anaconda3\\envs\\tfen\\lib\\site-packages\\sklearn\\utils\\validation.py:724: DataConversionWarning: A column-vector y was passed when a 1d array was expected. Please change the shape of y to (n_samples, ), for example using ravel().\n",
      "  y = column_or_1d(y, warn=True)\n",
      "c:\\users\\user\\anaconda3\\envs\\tfen\\lib\\site-packages\\sklearn\\svm\\base.py:929: ConvergenceWarning: Liblinear failed to converge, increase the number of iterations.\n",
      "  \"the number of iterations.\", ConvergenceWarning)\n"
     ]
    },
    {
     "data": {
      "text/plain": [
       "LinearSVR(C=1000000.0, dual=True, epsilon=1e-06, fit_intercept=False,\n",
       "          intercept_scaling=1.0, loss='squared_epsilon_insensitive',\n",
       "          max_iter=10000, random_state=None, tol=1e-06, verbose=0)"
      ]
     },
     "execution_count": 36,
     "metadata": {},
     "output_type": "execute_result"
    }
   ],
   "source": [
    "from sklearn.svm import LinearSVR\n",
    "surge_model= LinearSVR(C=1e06,fit_intercept=False,dual=True,epsilon=1e-6,loss='squared_epsilon_insensitive',max_iter=10000,\n",
    "                       random_state=None, tol=0.000001,verbose=0)\n",
    "surge_model.fit(surge1,Y_surge1)"
   ]
  },
  {
   "cell_type": "markdown",
   "metadata": {},
   "source": [
    "### Calculating X Hydrodynmaic Derivaties"
   ]
  },
  {
   "cell_type": "code",
   "execution_count": 37,
   "metadata": {},
   "outputs": [
    {
     "data": {
      "text/plain": [
       "array([  105.56022262,  2497.79503635,   403.26194045, -5799.13053694,\n",
       "        -247.24065375, -1875.05836453,   -85.42453829, -5950.58908937,\n",
       "         -23.13602313,  3131.57648359])"
      ]
     },
     "execution_count": 37,
     "metadata": {},
     "output_type": "execute_result"
    }
   ],
   "source": [
    "b=surge_model.coef_\n",
    "X_hydroderivatives=b*1e05\n",
    "X_hydroderivatives"
   ]
  },
  {
   "cell_type": "code",
   "execution_count": 38,
   "metadata": {},
   "outputs": [
    {
     "data": {
      "text/plain": [
       "0.0"
      ]
     },
     "execution_count": 38,
     "metadata": {},
     "output_type": "execute_result"
    }
   ],
   "source": [
    "surge_model.intercept_"
   ]
  },
  {
   "cell_type": "code",
   "execution_count": 39,
   "metadata": {},
   "outputs": [
    {
     "name": "stderr",
     "output_type": "stream",
     "text": [
      "c:\\users\\user\\anaconda3\\envs\\tfen\\lib\\site-packages\\sklearn\\utils\\validation.py:724: DataConversionWarning: A column-vector y was passed when a 1d array was expected. Please change the shape of y to (n_samples, ), for example using ravel().\n",
      "  y = column_or_1d(y, warn=True)\n",
      "c:\\users\\user\\anaconda3\\envs\\tfen\\lib\\site-packages\\sklearn\\svm\\base.py:929: ConvergenceWarning: Liblinear failed to converge, increase the number of iterations.\n",
      "  \"the number of iterations.\", ConvergenceWarning)\n"
     ]
    },
    {
     "data": {
      "text/plain": [
       "LinearSVR(C=1000000.0, dual=True, epsilon=1e-06, fit_intercept=False,\n",
       "          intercept_scaling=1.0, loss='squared_epsilon_insensitive',\n",
       "          max_iter=10000, random_state=None, tol=1e-05, verbose=0)"
      ]
     },
     "execution_count": 39,
     "metadata": {},
     "output_type": "execute_result"
    }
   ],
   "source": [
    "sway_model= LinearSVR(C=1e06,fit_intercept=False,epsilon=1e-6,loss='squared_epsilon_insensitive',max_iter=10000,\n",
    "                       random_state=None, tol=0.00001,verbose=0)\n",
    "sway_model.fit(sway1,Y_sway1)"
   ]
  },
  {
   "cell_type": "markdown",
   "metadata": {},
   "source": [
    "### Calculating Y Hydrodynmaic Derivaties"
   ]
  },
  {
   "cell_type": "code",
   "execution_count": 40,
   "metadata": {},
   "outputs": [
    {
     "data": {
      "text/plain": [
       "array([ 1.23135441e-01,  9.94397766e+01,  1.78347611e+02, -1.77170350e+03,\n",
       "       -8.11753382e+02, -2.99961557e+02,  3.93620040e+02,  2.28346408e+02,\n",
       "       -6.96984832e+02, -1.41093543e+02, -4.29795508e+00, -5.79096614e+02,\n",
       "        1.24754169e+02, -1.34249597e+02,  5.50095977e+02])"
      ]
     },
     "execution_count": 40,
     "metadata": {},
     "output_type": "execute_result"
    }
   ],
   "source": [
    "c=sway_model.coef_\n",
    "Y_hydroderivatives=c*1e05\n",
    "\n",
    "Y_hydroderivatives"
   ]
  },
  {
   "cell_type": "code",
   "execution_count": 41,
   "metadata": {},
   "outputs": [
    {
     "data": {
      "text/plain": [
       "0.0"
      ]
     },
     "execution_count": 41,
     "metadata": {},
     "output_type": "execute_result"
    }
   ],
   "source": [
    "sway_model.intercept_"
   ]
  },
  {
   "cell_type": "code",
   "execution_count": 42,
   "metadata": {},
   "outputs": [
    {
     "data": {
      "text/plain": [
       "10000"
      ]
     },
     "execution_count": 42,
     "metadata": {},
     "output_type": "execute_result"
    }
   ],
   "source": [
    "sway_model.n_iter_"
   ]
  },
  {
   "cell_type": "code",
   "execution_count": 43,
   "metadata": {},
   "outputs": [
    {
     "name": "stderr",
     "output_type": "stream",
     "text": [
      "c:\\users\\user\\anaconda3\\envs\\tfen\\lib\\site-packages\\sklearn\\utils\\validation.py:724: DataConversionWarning: A column-vector y was passed when a 1d array was expected. Please change the shape of y to (n_samples, ), for example using ravel().\n",
      "  y = column_or_1d(y, warn=True)\n",
      "c:\\users\\user\\anaconda3\\envs\\tfen\\lib\\site-packages\\sklearn\\svm\\base.py:929: ConvergenceWarning: Liblinear failed to converge, increase the number of iterations.\n",
      "  \"the number of iterations.\", ConvergenceWarning)\n"
     ]
    },
    {
     "data": {
      "text/plain": [
       "LinearSVR(C=1000000.0, dual=True, epsilon=1e-06, fit_intercept=False,\n",
       "          intercept_scaling=1.0, loss='squared_epsilon_insensitive',\n",
       "          max_iter=10000, random_state=None, tol=1e-05, verbose=0)"
      ]
     },
     "execution_count": 43,
     "metadata": {},
     "output_type": "execute_result"
    }
   ],
   "source": [
    "yaw_model= LinearSVR(C=1e06,fit_intercept=False,epsilon=1e-6,loss='squared_epsilon_insensitive',max_iter=10000,\n",
    "                       random_state=None, tol=0.00001,verbose=0)\n",
    "yaw_model.fit(sway1,Y_sway1)"
   ]
  },
  {
   "cell_type": "markdown",
   "metadata": {},
   "source": [
    "### Calculating N Hydrodynmaic Derivaties"
   ]
  },
  {
   "cell_type": "code",
   "execution_count": 44,
   "metadata": {},
   "outputs": [
    {
     "data": {
      "text/plain": [
       "array([ 1.23135441e-01,  9.94397766e+01,  1.78347611e+02, -1.77170350e+03,\n",
       "       -8.11753382e+02, -2.99961557e+02,  3.93620040e+02,  2.28346408e+02,\n",
       "       -6.96984832e+02, -1.41093543e+02, -4.29795508e+00, -5.79096614e+02,\n",
       "        1.24754169e+02, -1.34249597e+02,  5.50095977e+02])"
      ]
     },
     "execution_count": 44,
     "metadata": {},
     "output_type": "execute_result"
    }
   ],
   "source": [
    "f=sway_model.coef_\n",
    "N_hydroderivatives=f*1e05\n",
    "N_hydroderivatives"
   ]
  },
  {
   "cell_type": "code",
   "execution_count": 45,
   "metadata": {},
   "outputs": [
    {
     "data": {
      "text/plain": [
       "0.0"
      ]
     },
     "execution_count": 45,
     "metadata": {},
     "output_type": "execute_result"
    }
   ],
   "source": [
    "yaw_model.intercept_"
   ]
  },
  {
   "cell_type": "markdown",
   "metadata": {},
   "source": [
    "## Comparing Predicted Hydrodynamic Derivatives & Experimentally Calculated by PMM test."
   ]
  },
  {
   "cell_type": "code",
   "execution_count": 46,
   "metadata": {},
   "outputs": [
    {
     "name": "stdout",
     "output_type": "stream",
     "text": [
      "  Sr_No  X_hydrodynamic_derivatives      X_original    X_predicted\n",
      "-------  ----------------------------  ------------  -------------\n",
      "      1  Xu                                    -184       105.56\n",
      "      2  Xuu                                   -110      2497.8\n",
      "      3  Xuuu                                  -215       403.262\n",
      "      4  Xvv                                   -899     -5799.13\n",
      "      5  Xrr                                     18      -247.241\n",
      "      6  Xdd                                    -95     -1875.06\n",
      "      7  Xddu                                  -190       -85.4245\n",
      "      8  Xvr                                    798     -5950.59\n",
      "      9  Xvd                                     93       -23.136\n",
      "     10  Xvdu                                    93      3131.58\n",
      "  Sr_No  Y_hydrodynamic_derivatives      Y_original    Y_predicted\n",
      "-------  ----------------------------  ------------  -------------\n",
      "      1  Y0                                      -4       0.123135\n",
      "      2  Yu                                      -8      99.4398\n",
      "      3  Yuu                                     -4     178.348\n",
      "      4  Yv                                   -1160   -1771.7\n",
      "      5  Yr                                    -499    -811.753\n",
      "      6  Yvvv                                 -8078    -299.962\n",
      "      7  Yvvr                                 15356     393.62\n",
      "      8  Yvu                                  -1160     228.346\n",
      "      9  Yru                                   -499    -696.985\n",
      "     10  Yd                                     278    -141.094\n",
      "     11  Yddd                                   -90      -4.29796\n",
      "     12  Yud                                    556    -579.097\n",
      "     13  Yuud                                   278     124.754\n",
      "     14  Yvdd                                    -4    -134.25\n",
      "     15  Yvvd                                  1190     550.096\n",
      "  Sr_No  N_hydrodynamic_derivatives      N_original    N_predicted\n",
      "-------  ----------------------------  ------------  -------------\n",
      "      1  N0                                       3       0.123135\n",
      "      2  Nu                                       6      99.4398\n",
      "      3  Nuu                                      3     178.348\n",
      "      4  Nv                                    -264   -1771.7\n",
      "      5  Nr                                    -166    -811.753\n",
      "      6  Nvvv                                 -1636    -299.962\n",
      "      7  Nvvr                                 -5483     393.62\n",
      "      8  Nvu                                   -264     228.346\n",
      "      9  Nru                                   -166    -696.985\n",
      "     10  Nd                                    -139    -141.094\n",
      "     11  Nddd                                    45      -4.29796\n",
      "     12  Nud                                   -278    -579.097\n",
      "     13  Nuud                                  -139     124.754\n",
      "     14  Nvdd                                    13    -134.25\n",
      "     15  Nvvd                                  -489     550.096\n"
     ]
    }
   ],
   "source": [
    "from tabulate import tabulate\n",
    "\n",
    "Sr_No_X=range(1,len(X_original)+1)\n",
    "\n",
    "table_X=zip(Sr_No_X,X_hydrodynamic_derivatives,X_original,X_hydroderivatives)\n",
    "header_X=['Sr_No','X_hydrodynamic_derivatives','X_original','X_predicted']\n",
    "\n",
    "\n",
    "print(tabulate(table_X,header_X))\n",
    "\n",
    "\n",
    "Sr_No_Y=range(1,len(Y_original)+1)\n",
    "\n",
    "table_Y=zip(Sr_No_Y,Y_hydrodynamic_derivatives,Y_original,Y_hydroderivatives)\n",
    "header_Y=['Sr_No','Y_hydrodynamic_derivatives','Y_original','Y_predicted']\n",
    "\n",
    "\n",
    "print(tabulate(table_Y,header_Y))\n",
    "\n",
    "\n",
    "Sr_No_N=range(1,len(N_original)+1)\n",
    "\n",
    "table_N=zip(Sr_No_N,N_hydrodynamic_derivatives,N_original,N_hydroderivatives)\n",
    "header_N=['Sr_No','N_hydrodynamic_derivatives','N_original','N_predicted']\n",
    "\n",
    "\n",
    "print(tabulate(table_N,header_N))\n"
   ]
  },
  {
   "cell_type": "markdown",
   "metadata": {},
   "source": [
    "# Done!"
   ]
  }
 ],
 "metadata": {
  "kernelspec": {
   "display_name": "Python 3",
   "language": "python",
   "name": "python3"
  },
  "language_info": {
   "codemirror_mode": {
    "name": "ipython",
    "version": 3
   },
   "file_extension": ".py",
   "mimetype": "text/x-python",
   "name": "python",
   "nbconvert_exporter": "python",
   "pygments_lexer": "ipython3",
   "version": "3.7.6"
  }
 },
 "nbformat": 4,
 "nbformat_minor": 2
}
